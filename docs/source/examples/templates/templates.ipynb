{
 "cells": [
  {
   "cell_type": "markdown",
   "metadata": {},
   "source": [
    "# HTML Report Template"
   ]
  },
  {
   "cell_type": "markdown",
   "metadata": {},
   "source": [
    "This document shows the use of **pv_evaluation** to automatically report on a disambiguation's performance.\n",
    "\n",
    "The key assumption is that the disambiguation algorithm has resulted in a table with one row for each inventor mention and with the following five columns:\n",
    "- **mention_id**: the inventor mention ID, in the form of US<patent_number>-<sequence_number>, such as \"US6584128-0\".\n",
    "- **patent_id**: the inventor mention's patent number\n",
    "- **inventor_id**: the inventor unique id assigned by the disambiguation algorithm\n",
    "- **name_first**: the inventor mention's first name\n",
    "- **name_last**: the inventor mention's last name\n",
    "\n",
    "For instance, we can use the \"rawinventor.tsv\" file from [PatentsView's bulk data download](https://patentsview.org/download/data-download-tables) as containing the current inventor disambiguation. Below, this dataset is downloaded and the \"mention_id\" field is added from patent numbers and inventor sequence numbers:"
   ]
  },
  {
   "cell_type": "code",
   "execution_count": 1,
   "metadata": {},
   "outputs": [
    {
     "data": {
      "text/html": [
       "<div>\n",
       "<style scoped>\n",
       "    .dataframe tbody tr th:only-of-type {\n",
       "        vertical-align: middle;\n",
       "    }\n",
       "\n",
       "    .dataframe tbody tr th {\n",
       "        vertical-align: top;\n",
       "    }\n",
       "\n",
       "    .dataframe thead th {\n",
       "        text-align: right;\n",
       "    }\n",
       "</style>\n",
       "<table border=\"1\" class=\"dataframe\">\n",
       "  <thead>\n",
       "    <tr style=\"text-align: right;\">\n",
       "      <th></th>\n",
       "      <th>mention_id</th>\n",
       "      <th>inventor_id</th>\n",
       "      <th>patent_id</th>\n",
       "      <th>name_first</th>\n",
       "      <th>name_last</th>\n",
       "    </tr>\n",
       "  </thead>\n",
       "  <tbody>\n",
       "    <tr>\n",
       "      <th>0</th>\n",
       "      <td>US6584128-0</td>\n",
       "      <td>fl:ri_ln:kroeger-1</td>\n",
       "      <td>6584128</td>\n",
       "      <td>Richard</td>\n",
       "      <td>Kroeger</td>\n",
       "    </tr>\n",
       "    <tr>\n",
       "      <th>1</th>\n",
       "      <td>US4789863-0</td>\n",
       "      <td>fl:th_ln:bush-1</td>\n",
       "      <td>4789863</td>\n",
       "      <td>Thomas A.</td>\n",
       "      <td>Bush</td>\n",
       "    </tr>\n",
       "    <tr>\n",
       "      <th>2</th>\n",
       "      <td>US11161990-1</td>\n",
       "      <td>fl:ma_ln:boudreaux-4</td>\n",
       "      <td>11161990</td>\n",
       "      <td>Matthew F.</td>\n",
       "      <td>Boudreaux</td>\n",
       "    </tr>\n",
       "    <tr>\n",
       "      <th>3</th>\n",
       "      <td>US6795487-1</td>\n",
       "      <td>fl:ge_ln:whitworth-1</td>\n",
       "      <td>6795487</td>\n",
       "      <td>Gerald</td>\n",
       "      <td>Whitworth</td>\n",
       "    </tr>\n",
       "    <tr>\n",
       "      <th>4</th>\n",
       "      <td>USD474886-0</td>\n",
       "      <td>fl:th_ln:fleming-3</td>\n",
       "      <td>D474886</td>\n",
       "      <td>Thomas W.</td>\n",
       "      <td>Fleming</td>\n",
       "    </tr>\n",
       "  </tbody>\n",
       "</table>\n",
       "</div>"
      ],
      "text/plain": [
       "     mention_id           inventor_id patent_id  name_first  name_last\n",
       "0   US6584128-0    fl:ri_ln:kroeger-1   6584128     Richard    Kroeger\n",
       "1   US4789863-0       fl:th_ln:bush-1   4789863   Thomas A.       Bush\n",
       "2  US11161990-1  fl:ma_ln:boudreaux-4  11161990  Matthew F.  Boudreaux\n",
       "3   US6795487-1  fl:ge_ln:whitworth-1   6795487      Gerald  Whitworth\n",
       "4   USD474886-0    fl:th_ln:fleming-3   D474886   Thomas W.    Fleming"
      ]
     },
     "execution_count": 1,
     "metadata": {},
     "output_type": "execute_result"
    }
   ],
   "source": [
    "import pandas as pd\n",
    "import wget\n",
    "import zipfile\n",
    "import os\n",
    "\n",
    "if not os.path.isfile(\"rawinventor.tsv\"):\n",
    "    wget.download(\"https://s3.amazonaws.com/data.patentsview.org/download/rawinventor.tsv.zip\")\n",
    "    with zipfile.ZipFile(\"rawinventor.tsv.zip\", 'r') as zip_ref:\n",
    "        zip_ref.extractall(\".\")\n",
    "    os.remove(\"rawinventor.tsv.zip\")\n",
    "    rawinventor = pd.read_csv(\"rawinventor.tsv\", sep=\"\\t\")\n",
    "    rawinventor[\"mention_id\"] = \"US\" + rawinventor.patent_id.astype(str) + \"-\" + rawinventor.sequence.astype(str)\n",
    "    rawinventor.to_csv(\"rawinventor.tsv\", sep=\"\\t\")\n",
    "\n",
    "rawinventor = pd.read_csv(\"rawinventor.tsv\", sep=\"\\t\", dtype=str, nrows=5)\n",
    "rawinventor[[\"mention_id\", \"inventor_id\", \"patent_id\", \"name_first\", \"name_last\"]]"
   ]
  },
  {
   "cell_type": "markdown",
   "metadata": {},
   "source": [
    "## Rendering Report\n",
    "\n",
    "We can now generate the report using the `render_inventor_disambiguation_report()` function. The results are saved to the current folder \".\".\n",
    "\n",
    "Note that, if we wish to compare multiple disambiguations, then we can add more files to the list `summary_table_files`. Each file in this list should be a table with the five columns \"mention_id\", \"inventor_id\", \"patent_id\", \"name_first\", and \"name_last\"."
   ]
  },
  {
   "cell_type": "code",
   "execution_count": 2,
   "metadata": {},
   "outputs": [
    {
     "name": "stderr",
     "output_type": "stream",
     "text": [
      "\n",
      "Starting python3 kernel...Done\n",
      "\n",
      "Executing 'index.ipynb'\n",
      "  Cell 1/22...Done\n",
      "  Cell 2/22...Done\n",
      "  Cell 3/22...Done\n",
      "  Cell 4/22...Done\n",
      "  Cell 5/22...Done\n",
      "  Cell 6/22...Done\n",
      "  Cell 7/22...Done\n",
      "  Cell 8/22...Done\n",
      "  Cell 9/22...Done\n",
      "  Cell 10/22...Done\n",
      "  Cell 11/22...Done\n",
      "  Cell 12/22...Done\n",
      "  Cell 13/22...Done\n",
      "  Cell 14/22...Done\n",
      "  Cell 15/22...Done\n",
      "  Cell 16/22...Done\n",
      "  Cell 17/22...Done\n",
      "  Cell 18/22...Done\n",
      "  Cell 19/22...Done\n",
      "  Cell 20/22...Done\n",
      "  Cell 21/22...Done\n",
      "  Cell 22/22...Done\n",
      "\n",
      "\u001b[1mpandoc --output index.html\u001b[22m\n",
      "  to: html\n",
      "  standalone: true\n",
      "  self-contained: true\n",
      "  section-divs: true\n",
      "  html-math-method: mathjax\n",
      "  wrap: none\n",
      "  default-image-extension: png\n",
      "  toc: true\n",
      "  toc-depth: 3\n",
      "  \n",
      "\u001b[1mmetadata\u001b[22m\n",
      "  document-css: false\n",
      "  link-citations: true\n",
      "  date-format: long\n",
      "  lang: en\n",
      "  title: Inventor Disambiguation Report\n",
      "  date: today\n",
      "  author: PatentsView-Evaluation\n",
      "  toc-location: left\n",
      "  jupyter: python3\n",
      "  theme: cosmo\n",
      "  fig-cap-location: margin\n",
      "  code-block-border-left: '#31BAE9'\n",
      "  code-copy: true\n",
      "  \n",
      "Output created: index.html\n",
      "\n"
     ]
    }
   ],
   "source": [
    "from pv_evaluation.templates import render_inventor_disambiguation_report\n",
    "\n",
    "summary_table_files = [\"rawinventor.tsv\"]\n",
    "\n",
    "render_inventor_disambiguation_report(\".\", summary_table_files=summary_table_files)"
   ]
  }
 ],
 "metadata": {
  "kernelspec": {
   "display_name": "Python 3.7.13 ('pv-evaluation')",
   "language": "python",
   "name": "python3"
  },
  "language_info": {
   "codemirror_mode": {
    "name": "ipython",
    "version": 3
   },
   "file_extension": ".py",
   "mimetype": "text/x-python",
   "name": "python",
   "nbconvert_exporter": "python",
   "pygments_lexer": "ipython3",
   "version": "3.7.13"
  },
  "orig_nbformat": 4,
  "vscode": {
   "interpreter": {
    "hash": "326dc0af9ae2368047df077fe23b69a8eec5b4e69dcb75560656fc62e42ef81b"
   }
  }
 },
 "nbformat": 4,
 "nbformat_minor": 2
}
