{
 "cells": [
  {
   "cell_type": "markdown",
   "metadata": {},
   "source": [
    "# 🎯 Introduction to Performance Estimators for Entity Resolution Algorithms\n",
    "\n",
    "This notebook is an introduction to the performance estimation of entity resolution algorithms using our methodology introduced in Binette et al (2022). It assumes you are already familiar with performance clustering evaluation metrics, including pairwise precision and recall.\n",
    "\n",
    "Our methodology provides nearly unbiased precision and recall estimates. It requires the following:\n",
    "- A predicted membership vector `prediction`, and\n",
    "- A benchmark dataset `sample` in the form of a ground truth membership vector.\n",
    "\n",
    "The two **key assumptions** required are that:\n",
    "1. Every cluster in the benchmark dataset is complete. In other words, `sample` contains true clusters with no missing records.\n",
    "2. True clusters have been sampled according to a known sampling mechanism. In most cases, you will require knowing sampling probabilities up to a normalizing constant.\n",
    "\n",
    "Sampling mechanism covered by the **pv_evaluation.estimators** module are described below.\n",
    "\n",
    "### Sampling true clusters\n",
    "\n",
    "By default, our estimators assume that true clusters have been sampled with probability proportional to their size. Pairwise precision and recall estimates can then be obtained as follows:\n",
    "```python\n",
    "from pv_evaluation.estimators import pairwise_precision_estimator, pairwise_recall_estimator\n",
    "\n",
    "pairwise_precision_estimator(prediction, sample)\n",
    "pairwise_recall_estimator(prediction, sample)\n",
    "```\n",
    "\n",
    "Standard deviation estimates are obtained using:\n",
    "```python\n",
    "from pv_evaluation.estimators import pairwise_precision_std, pairwise_recall_std\n",
    "\n",
    "pairwise_precision_std(prediction, sample)\n",
    "pairwise_recall_std(prediction, sample)\n",
    "```\n",
    "\n",
    "For cluster precision and recall, use the `cluster_precision_estimator`, `cluster_recall_estimator`, `cluster_precision_std` and `cluster_recall_std` functions..\n",
    "\n",
    "#### Uniform cluster sampling\n",
    "\n",
    "For uniform cluster sampling, use the `weights=\"uniform\"` parameter can be passed to the above functions.\n",
    "\n",
    "See [this application to Lai's 2011 benchmark](https://patentsview.github.io/PatentsView-Evaluation/build/html/examples/estimators/lai-2011-benchmark.html) for a practical example.\n",
    "\n",
    "### Sampling a single block\n",
    "\n",
    "In the context of entity resolution, a **block** is a set of records which contains true clusters. That is, if a given record is in a block, then all other matching records are also in that same block. For instance, the set of Israeli inventors can be considered a block.\n",
    "\n",
    "If `sample` corresponds to a single block, then representative performance estimates can be obtained by using our estimators with the `sampling_type=\"single_block\"` parameter. Note that it is not possible to standard deviation estimates for a single block sample. Furthermore, estimators for multiple block samples have not yet been implemented in the **pv_evaluation.estimators** module.\n",
    "\n",
    "Usage is as follows:\n",
    "```python\n",
    "from pv_evaluation.estimators import pairwise_precision_estimator, pairwise_recall_estimator\n",
    "\n",
    "pairwise_precision_estimator(prediction, sample, sampling_type=\"single_block\")\n",
    "pairwise_recall_estimator(prediction, sample, sampling_type=\"single_block\")\n",
    "```\n",
    "\n",
    "See [this application to the Israeli inventors benchmark](https://patentsview.github.io/PatentsView-Evaluation/build/html/examples/estimators/israeli-data.html) for a practical example."
   ]
  }
 ],
 "metadata": {
  "kernelspec": {
   "display_name": "Python 3.10.4 64-bit",
   "language": "python",
   "name": "python3"
  },
  "language_info": {
   "name": "python",
   "version": "3.10.4"
  },
  "orig_nbformat": 4,
  "vscode": {
   "interpreter": {
    "hash": "916dbcbb3f70747c44a77c7bcd40155683ae19c65e1c03b4aa3499c5328201f1"
   }
  }
 },
 "nbformat": 4,
 "nbformat_minor": 2
}
