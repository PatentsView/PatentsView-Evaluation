{
 "cells": [
  {
   "cell_type": "markdown",
   "metadata": {},
   "source": [
    "# 🎯 Performance Estimates for the Israeli Inventors Dataset"
   ]
  },
  {
   "cell_type": "markdown",
   "metadata": {},
   "source": [
    "This notebook showcases the use of our precision and recall performance estimators in application to the Israeli inventors benchmark dataset.\n",
    "\n",
    "Note that the Israeli dataset only covers patents granted between 1963 and 1999. As such, we can only estimate the performance of the current disambiguation algorithm for this time period.\n",
    "\n",
    "Furthermore, we consider the the Israeli benchmark to be following the \"single block\" sampling process. That is, we assume that the data corresponds to the sampling of a single block, here the block of Israeli inventors."
   ]
  },
  {
   "cell_type": "markdown",
   "metadata": {},
   "source": [
    "## Data Preparation\n",
    "\n",
    "First we import required modules and recover the current disambiguation from `rawinventor.tsv`. The current disambiguation is filtered to only contain inventor mentions for granted patents between 1963 and 1999."
   ]
  },
  {
   "cell_type": "code",
   "execution_count": 1,
   "metadata": {},
   "outputs": [],
   "source": [
    "from pv_evaluation.estimators import pairwise_precision_estimator, pairwise_recall_estimator\n",
    "from pv_evaluation.benchmark import load_israeli_inventors_benchmark\n",
    "\n",
    "import pandas as pd\n",
    "import numpy as np\n",
    "import wget\n",
    "import zipfile\n",
    "import os\n",
    "\n",
    "if not os.path.isfile(\"rawinventor.tsv\"):\n",
    "    wget.download(\"https://s3.amazonaws.com/data.patentsview.org/download/rawinventor.tsv.zip\")\n",
    "    with zipfile.ZipFile(\"rawinventor.tsv.zip\", 'r') as zip_ref:\n",
    "        zip_ref.extractall(\".\")\n",
    "    os.remove(\"rawinventor.tsv.zip\")\n",
    "\n",
    "if not os.path.isfile(\"patent.tsv\"):\n",
    "    wget.download(\"https://s3.amazonaws.com/data.patentsview.org/download/patent.tsv.zip\")\n",
    "    with zipfile.ZipFile(\"patent.tsv.zip\", 'r') as zip_ref:\n",
    "        zip_ref.extractall(\".\")\n",
    "    os.remove(\"patent.tsv.zip\")"
   ]
  },
  {
   "cell_type": "code",
   "execution_count": 2,
   "metadata": {},
   "outputs": [],
   "source": [
    "patent = pd.read_csv(\"patent.tsv\", sep=\"\\t\", dtype=str, usecols=[\"id\", \"date\"])\n",
    "rawinventor = pd.read_csv(\"rawinventor.tsv\", sep=\"\\t\", dtype=str, usecols=[\"patent_id\", \"sequence\", \"inventor_id\"])\n",
    "\n",
    "date = pd.DatetimeIndex(patent.date)\n",
    "patent[\"date\"] = date.year.astype(int)\n",
    "joined = rawinventor.merge(patent, left_on=\"patent_id\", right_on=\"id\", how=\"left\")"
   ]
  },
  {
   "cell_type": "code",
   "execution_count": 3,
   "metadata": {},
   "outputs": [],
   "source": [
    "joined[\"mention_id\"] = \"US\" + joined.patent_id + \"-\" + joined.sequence\n",
    "joined = joined.query('date >= 1963 and date <= 1999')\n",
    "current_disambiguation = joined.set_index(\"mention_id\")[\"inventor_id\"]"
   ]
  },
  {
   "cell_type": "markdown",
   "metadata": {},
   "source": [
    "## Precision and Recall Estimates\n",
    "\n",
    "Next, we can estimate precision and recall using the \"single_block\" estimator. Note that since a single block has been sampled, no standard deviation estimate can be provided."
   ]
  },
  {
   "cell_type": "code",
   "execution_count": 4,
   "metadata": {},
   "outputs": [
    {
     "data": {
      "text/plain": [
       "0.7860646822490067"
      ]
     },
     "execution_count": 4,
     "metadata": {},
     "output_type": "execute_result"
    }
   ],
   "source": [
    "pairwise_precision_estimator(current_disambiguation, load_israeli_inventors_benchmark(), sampling_type=\"single_block\", weights=\"uniform\")"
   ]
  },
  {
   "cell_type": "code",
   "execution_count": 5,
   "metadata": {},
   "outputs": [
    {
     "data": {
      "text/plain": [
       "0.9409842164000638"
      ]
     },
     "execution_count": 5,
     "metadata": {},
     "output_type": "execute_result"
    }
   ],
   "source": [
    "pairwise_recall_estimator(current_disambiguation, load_israeli_inventors_benchmark(), sampling_type=\"single_block\", weights=\"uniform\")"
   ]
  }
 ],
 "metadata": {
  "kernelspec": {
   "display_name": "Python 3.10.4 64-bit",
   "language": "python",
   "name": "python3"
  },
  "language_info": {
   "codemirror_mode": {
    "name": "ipython",
    "version": 3
   },
   "file_extension": ".py",
   "mimetype": "text/x-python",
   "name": "python",
   "nbconvert_exporter": "python",
   "pygments_lexer": "ipython3",
   "version": "3.10.4"
  },
  "orig_nbformat": 4,
  "vscode": {
   "interpreter": {
    "hash": "916dbcbb3f70747c44a77c7bcd40155683ae19c65e1c03b4aa3499c5328201f1"
   }
  }
 },
 "nbformat": 4,
 "nbformat_minor": 2
}
