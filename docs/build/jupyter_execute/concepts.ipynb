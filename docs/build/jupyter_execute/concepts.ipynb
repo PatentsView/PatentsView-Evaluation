{
 "cells": [
  {
   "cell_type": "markdown",
   "metadata": {},
   "source": [
    "# Key Concepts\n",
    "\n",
    "This page highlights key concepts and terminology used throughout the package.\n",
    "\n",
    "### Patent Number\n",
    "\n",
    "Patent numbers are assigned by the USPTO following the format described `here <https://www.uspto.gov/patents/apply/applying-online/patent-number>`_. Note that there are no leading zeroes in patent nubmers.\n",
    "\n",
    "### Mention ID\n",
    "\n",
    "An inventor's mention ID is a reference to a specific author on a specific patent. It takes the format ``US<patent_number>-<sequence_number>``, such as US12345-0, where ``patent_number`` is the patent number and where ``sequence_number`` is the authorship number (0 for the first author, 1 for the second author, etc).\n",
    "\n",
    "### Cluster\n",
    "\n",
    "An inventor cluster is a set of mention IDs thought to refer to the same person. There are *predicted* clusters which are provided by disambiguation algorithms, and there are *true* clusters which are *ground-truth* sets of mentions for inventors.\n",
    "\n",
    "### Membership Vector\n",
    "\n",
    "A clustering is typically represented as a *membership vector*. This is a map between mention IDs and the clusters to which they are associated. \n",
    "\n",
    "In this package, membership vectors are represented by pandas Series with mention ID as index and cluster assignment as values. All clusterings and disambiguation results follow this format.\n",
    "\n",
    "Below is an example of a membership vector for a subset of inventor mention IDs. The values appearing in the right column (cluster IDs) are arbitrary; the only convention is that mention IDs corresponding to the same inventor (belonging to the same cluster) should have the same cluster ID."
   ]
  },
  {
   "cell_type": "code",
   "execution_count": 1,
   "metadata": {},
   "outputs": [
    {
     "data": {
      "text/plain": [
       "mention-id\n",
       "US3858246-0    11797\n",
       "US3858578-0    11797\n",
       "US3858674-0    16606\n",
       "US3859165-0    13384\n",
       "US3859616-0     9865\n",
       "               ...  \n",
       "US6009346-0    12734\n",
       "US6009390-1     7694\n",
       "US6009409-2    11416\n",
       "US6009543-0    19168\n",
       "US6009552-0      650\n",
       "Name: unique-id, Length: 9156, dtype: int64"
      ]
     },
     "execution_count": 1,
     "metadata": {},
     "output_type": "execute_result"
    }
   ],
   "source": [
    "from pv_evaluation.benchmark import load_israeli_inventors_benchmark\n",
    "\n",
    "load_israeli_inventors_benchmark()"
   ]
  }
 ],
 "metadata": {
  "kernelspec": {
   "display_name": "Python 3.7.13 ('pv-evaluation')",
   "language": "python",
   "name": "python3"
  },
  "language_info": {
   "codemirror_mode": {
    "name": "ipython",
    "version": 3
   },
   "file_extension": ".py",
   "mimetype": "text/x-python",
   "name": "python",
   "nbconvert_exporter": "python",
   "pygments_lexer": "ipython3",
   "version": "3.7.13"
  },
  "vscode": {
   "interpreter": {
    "hash": "c6191605ccbc69ee850b3b607fa517accda1f0792654a487c9877b1d34a204e1"
   }
  }
 },
 "nbformat": 4,
 "nbformat_minor": 2
}