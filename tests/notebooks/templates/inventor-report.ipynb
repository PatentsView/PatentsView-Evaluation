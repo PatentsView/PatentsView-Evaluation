{
 "cells": [
  {
   "cell_type": "code",
   "execution_count": 2,
   "metadata": {},
   "outputs": [
    {
     "name": "stderr",
     "output_type": "stream",
     "text": [
      "\n",
      "Starting python3 kernel...Done\n",
      "\n",
      "Executing 'index.ipynb'\n",
      "  Cell 1/14...Done\n",
      "  Cell 2/14...Done\n",
      "  Cell 3/14...Done\n",
      "  Cell 4/14...Done\n",
      "  Cell 5/14...Done\n",
      "  Cell 6/14...Done\n",
      "  Cell 7/14...Done\n",
      "  Cell 8/14...Done\n",
      "  Cell 9/14...Done\n",
      "  Cell 10/14...Done\n",
      "  Cell 11/14...Done\n",
      "  Cell 12/14...Done\n",
      "  Cell 13/14...Done\n",
      "  Cell 14/14...Done\n",
      "\n",
      "\u001b[1mpandoc --output index.html\u001b[22m\n",
      "  to: html\n",
      "  standalone: true\n",
      "  self-contained: true\n",
      "  section-divs: true\n",
      "  html-math-method: mathjax\n",
      "  wrap: none\n",
      "  default-image-extension: png\n",
      "  toc: true\n",
      "  toc-depth: 3\n",
      "  filters:\n",
      "    - crossref\n",
      "  \n",
      "\u001b[1mmetadata\u001b[22m\n",
      "  document-css: false\n",
      "  link-citations: true\n",
      "  date-format: long\n",
      "  lang: en\n",
      "  title: Inventor Disambiguation Report\n",
      "  date: today\n",
      "  author: PatentsView-Evaluation\n",
      "  toc-location: left\n",
      "  jupyter: python3\n",
      "  theme: cosmo\n",
      "  fig-cap-location: margin\n",
      "  code-block-border-left: '#31BAE9'\n",
      "  code-copy: true\n",
      "  \n",
      "Output created: index.html\n",
      "\n"
     ]
    }
   ],
   "source": [
    "from pv_evaluation.templates import render_inventor_disambiguation_report\n",
    "\n",
    "render_inventor_disambiguation_report(\".\", summary_table_files=[\"tests/resources/raw_inventor_sample.tsv\"])"
   ]
  }
 ],
 "metadata": {
  "kernelspec": {
   "display_name": "Python 3.7.13 ('pv-evaluation')",
   "language": "python",
   "name": "python3"
  },
  "language_info": {
   "codemirror_mode": {
    "name": "ipython",
    "version": 3
   },
   "file_extension": ".py",
   "mimetype": "text/x-python",
   "name": "python",
   "nbconvert_exporter": "python",
   "pygments_lexer": "ipython3",
   "version": "3.7.13"
  },
  "orig_nbformat": 4,
  "vscode": {
   "interpreter": {
    "hash": "c6191605ccbc69ee850b3b607fa517accda1f0792654a487c9877b1d34a204e1"
   }
  }
 },
 "nbformat": 4,
 "nbformat_minor": 2
}
