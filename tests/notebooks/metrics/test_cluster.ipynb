{
 "cells": [
  {
   "cell_type": "markdown",
   "metadata": {},
   "source": [
    "# Inspectable execution of cluster metrics"
   ]
  },
  {
   "cell_type": "code",
   "execution_count": 1,
   "metadata": {},
   "outputs": [],
   "source": [
    "import pandas as pd\n",
    "import sklearn as sk\n",
    "\n",
    "from pv_evaluation.metrics.cluster import (\n",
    "    cluster_precision,\n",
    "    cluster_recall,\n",
    "    cluster_fscore,\n",
    "    cluster_fowlkes_mallows,\n",
    "    cluster_homogeneity,\n",
    "    cluster_completeness,\n",
    "    cluster_v_measure,\n",
    "    clusters_count\n",
    ")"
   ]
  },
  {
   "cell_type": "markdown",
   "metadata": {},
   "source": [
    "## Test data"
   ]
  },
  {
   "cell_type": "code",
   "execution_count": 1,
   "metadata": {},
   "outputs": [
    {
     "ename": "NameError",
     "evalue": "name 'pd' is not defined",
     "output_type": "error",
     "traceback": [
      "\u001b[0;31m---------------------------------------------------------------------------\u001b[0m",
      "\u001b[0;31mNameError\u001b[0m                                 Traceback (most recent call last)",
      "\u001b[0;32m/tmp/ipykernel_59184/1778566116.py\u001b[0m in \u001b[0;36m<module>\u001b[0;34m\u001b[0m\n\u001b[1;32m      1\u001b[0m data1 = (\n\u001b[0;32m----> 2\u001b[0;31m     \u001b[0mpd\u001b[0m\u001b[0;34m.\u001b[0m\u001b[0mread_csv\u001b[0m\u001b[0;34m(\u001b[0m\u001b[0;34m\"../../resources/raw_inventor_sample.tsv\"\u001b[0m\u001b[0;34m,\u001b[0m \u001b[0msep\u001b[0m\u001b[0;34m=\u001b[0m\u001b[0;34m\"\\t\"\u001b[0m\u001b[0;34m)\u001b[0m\u001b[0;34m\u001b[0m\u001b[0;34m\u001b[0m\u001b[0m\n\u001b[0m\u001b[1;32m      3\u001b[0m     \u001b[0;34m.\u001b[0m\u001b[0mset_index\u001b[0m\u001b[0;34m(\u001b[0m\u001b[0;34m\"mention_id\"\u001b[0m\u001b[0;34m)\u001b[0m\u001b[0;34m\u001b[0m\u001b[0;34m\u001b[0m\u001b[0m\n\u001b[1;32m      4\u001b[0m     \u001b[0;34m.\u001b[0m\u001b[0mdropna\u001b[0m\u001b[0;34m(\u001b[0m\u001b[0;34m)\u001b[0m\u001b[0;34m\u001b[0m\u001b[0;34m\u001b[0m\u001b[0m\n\u001b[1;32m      5\u001b[0m )\n",
      "\u001b[0;31mNameError\u001b[0m: name 'pd' is not defined"
     ]
    }
   ],
   "source": [
    "data1 = (\n",
    "    pd.read_csv(\"tests/resources/raw_inventor_sample.tsv\", sep=\"\\t\")\n",
    "    .set_index(\"mention_id\")\n",
    "    .dropna()\n",
    ")\n",
    "\n",
    "data1"
   ]
  },
  {
   "cell_type": "code",
   "execution_count": 3,
   "metadata": {},
   "outputs": [],
   "source": [
    "prediction = pd.Series([0, 0, 1, 1, 1, 2, 3, 4, 4, 5, 6 ,7, 8, 8, 8, 8, 9, 0, 11, 11])\n",
    "reference = pd.Series([0, 0, 1, 1, 1, 2, 2, 2, 3])\n",
    "\n",
    "data2 = pd.concat({\"prediction\":prediction, \"reference\":reference}, axis=1, join=\"inner\")"
   ]
  },
  {
   "cell_type": "code",
   "execution_count": 4,
   "metadata": {},
   "outputs": [],
   "source": [
    "ARGS = [(data1.name_full, data1.inventor_id),\n",
    "        (prediction, reference),\n",
    "        (data2.prediction, data2.reference)]"
   ]
  },
  {
   "cell_type": "markdown",
   "metadata": {},
   "source": [
    "## Cluster metrics tests"
   ]
  },
  {
   "cell_type": "markdown",
   "metadata": {},
   "source": [
    "### Precision"
   ]
  },
  {
   "cell_type": "code",
   "execution_count": 5,
   "metadata": {},
   "outputs": [
    {
     "name": "stdout",
     "output_type": "stream",
     "text": [
      "0.9621477251795911\n",
      "0.36363636363636365\n",
      "0.8\n"
     ]
    }
   ],
   "source": [
    "for args in ARGS:\n",
    "    print(cluster_precision(*args))"
   ]
  },
  {
   "cell_type": "markdown",
   "metadata": {},
   "source": [
    "### Recall"
   ]
  },
  {
   "cell_type": "code",
   "execution_count": 6,
   "metadata": {},
   "outputs": [
    {
     "name": "stdout",
     "output_type": "stream",
     "text": [
      "0.8660184237461617\n",
      "0.75\n",
      "0.75\n"
     ]
    }
   ],
   "source": [
    "for args in ARGS:\n",
    "    print(cluster_recall(*args))"
   ]
  },
  {
   "cell_type": "markdown",
   "metadata": {},
   "source": [
    "### f-score"
   ]
  },
  {
   "cell_type": "code",
   "execution_count": 7,
   "metadata": {},
   "outputs": [
    {
     "name": "stdout",
     "output_type": "stream",
     "text": [
      "0.9115557214103355\n",
      "0.48979591836734687\n",
      "0.7741935483870969\n"
     ]
    }
   ],
   "source": [
    "for args in ARGS:\n",
    "    print(cluster_fscore(*args, beta=1))"
   ]
  },
  {
   "cell_type": "markdown",
   "metadata": {},
   "source": [
    "### Fowlkes-Mallow"
   ]
  },
  {
   "cell_type": "code",
   "execution_count": 8,
   "metadata": {},
   "outputs": [
    {
     "name": "stdout",
     "output_type": "stream",
     "text": [
      "0.9128185232405096\n",
      "0.5222329678670935\n",
      "0.7745966692414834\n"
     ]
    }
   ],
   "source": [
    "for args in ARGS:\n",
    "    print(cluster_fowlkes_mallows(*args))"
   ]
  },
  {
   "cell_type": "markdown",
   "metadata": {},
   "source": [
    "### Cluster homogeneity"
   ]
  },
  {
   "cell_type": "code",
   "execution_count": 9,
   "metadata": {},
   "outputs": [
    {
     "name": "stdout",
     "output_type": "stream",
     "text": [
      "0.9922090512260598\n",
      "0.8824880799443542\n",
      "0.8824880799443542\n"
     ]
    }
   ],
   "source": [
    "for args in ARGS:\n",
    "    print(cluster_homogeneity(*args))"
   ]
  },
  {
   "cell_type": "markdown",
   "metadata": {},
   "source": [
    "### Cluster completeness"
   ]
  },
  {
   "cell_type": "code",
   "execution_count": 10,
   "metadata": {},
   "outputs": [
    {
     "name": "stdout",
     "output_type": "stream",
     "text": [
      "0.9790038456879436\n",
      "0.7595437291421123\n",
      "0.7595437291421123\n"
     ]
    }
   ],
   "source": [
    "for args in ARGS:\n",
    "    print(cluster_completeness(*args))"
   ]
  },
  {
   "cell_type": "markdown",
   "metadata": {},
   "source": [
    "### Cluster v-measure"
   ]
  },
  {
   "cell_type": "code",
   "execution_count": 11,
   "metadata": {},
   "outputs": [
    {
     "name": "stdout",
     "output_type": "stream",
     "text": [
      "0.9855622174524317\n",
      "0.8164132795177796\n",
      "0.8164132795177796\n"
     ]
    }
   ],
   "source": [
    "for args in ARGS:\n",
    "    print(cluster_v_measure(*args))"
   ]
  },
  {
   "cell_type": "markdown",
   "metadata": {},
   "source": [
    "### Clusters count"
   ]
  },
  {
   "cell_type": "code",
   "execution_count": 12,
   "metadata": {},
   "outputs": [
    {
     "name": "stdout",
     "output_type": "stream",
     "text": [
      "10858\n",
      "11\n",
      "5\n"
     ]
    }
   ],
   "source": [
    "for args in ARGS:\n",
    "    print(clusters_count(args[0]))"
   ]
  }
 ],
 "metadata": {
  "interpreter": {
   "hash": "c6191605ccbc69ee850b3b607fa517accda1f0792654a487c9877b1d34a204e1"
  },
  "kernelspec": {
   "display_name": "Python 3.7.13 ('pv-evaluation')",
   "language": "python",
   "name": "python3"
  },
  "language_info": {
   "codemirror_mode": {
    "name": "ipython",
    "version": 3
   },
   "file_extension": ".py",
   "mimetype": "text/x-python",
   "name": "python",
   "nbconvert_exporter": "python",
   "pygments_lexer": "ipython3",
   "version": "3.7.13"
  },
  "orig_nbformat": 4
 },
 "nbformat": 4,
 "nbformat_minor": 2
}
