{
 "cells": [
  {
   "cell_type": "markdown",
   "metadata": {},
   "source": [
    "# Inspectable execution of pairwise metrics"
   ]
  },
  {
   "cell_type": "code",
   "execution_count": 1,
   "metadata": {},
   "outputs": [],
   "source": [
    "import pandas as pd\n",
    "import sklearn as sk\n",
    "\n",
    "from pv_evaluation.metrics.pairwise import (\n",
    "    pairwise_precision,\n",
    "    pairwise_recall,\n",
    "    pairwise_precision_recall,\n",
    "    pairwise_fscore,\n",
    "    pairwise_fowlkes_mallows\n",
    ")"
   ]
  },
  {
   "cell_type": "markdown",
   "metadata": {},
   "source": [
    "## Test data"
   ]
  },
  {
   "cell_type": "code",
   "execution_count": 2,
   "metadata": {},
   "outputs": [
    {
     "data": {
      "text/html": [
       "<div>\n",
       "<style scoped>\n",
       "    .dataframe tbody tr th:only-of-type {\n",
       "        vertical-align: middle;\n",
       "    }\n",
       "\n",
       "    .dataframe tbody tr th {\n",
       "        vertical-align: top;\n",
       "    }\n",
       "\n",
       "    .dataframe thead th {\n",
       "        text-align: right;\n",
       "    }\n",
       "</style>\n",
       "<table border=\"1\" class=\"dataframe\">\n",
       "  <thead>\n",
       "    <tr style=\"text-align: right;\">\n",
       "      <th></th>\n",
       "      <th>name_full</th>\n",
       "      <th>inventor_id</th>\n",
       "    </tr>\n",
       "    <tr>\n",
       "      <th>mention_id</th>\n",
       "      <th></th>\n",
       "      <th></th>\n",
       "    </tr>\n",
       "  </thead>\n",
       "  <tbody>\n",
       "    <tr>\n",
       "      <th>6760406-1</th>\n",
       "      <td>Oscar_&amp;Hcirc;emberg</td>\n",
       "      <td>dlei8eght8xe350iq4urclkr0</td>\n",
       "    </tr>\n",
       "    <tr>\n",
       "      <th>6690003-0</th>\n",
       "      <td>Artur_&amp;Zacute;ak</td>\n",
       "      <td>kcoqyl54g28tccz837acqbd4r</td>\n",
       "    </tr>\n",
       "    <tr>\n",
       "      <th>9703572-2</th>\n",
       "      <td>Jonathan Blake_'Brannon</td>\n",
       "      <td>t8p2wr6gqwsz7lta05srozz9m</td>\n",
       "    </tr>\n",
       "    <tr>\n",
       "      <th>D319135-0</th>\n",
       "      <td>Stephan_'Feger</td>\n",
       "      <td>c8eumyxzvfrn0toycnijevjva</td>\n",
       "    </tr>\n",
       "    <tr>\n",
       "      <th>7253022-0</th>\n",
       "      <td>Victor Tan Cher_'Khng</td>\n",
       "      <td>fl:vi_ln:'khng-1</td>\n",
       "    </tr>\n",
       "    <tr>\n",
       "      <th>...</th>\n",
       "      <td>...</td>\n",
       "      <td>...</td>\n",
       "    </tr>\n",
       "    <tr>\n",
       "      <th>9586758-0</th>\n",
       "      <td>Jesus R._Acevedo</td>\n",
       "      <td>fl:je_ln:acevedo-1</td>\n",
       "    </tr>\n",
       "    <tr>\n",
       "      <th>9690400-4</th>\n",
       "      <td>Daniel_Acevedo</td>\n",
       "      <td>fl:da_ln:acevedo-2</td>\n",
       "    </tr>\n",
       "    <tr>\n",
       "      <th>3959828-0</th>\n",
       "      <td>Ignacio_Acevedo</td>\n",
       "      <td>fl:ig_ln:acevedo-1</td>\n",
       "    </tr>\n",
       "    <tr>\n",
       "      <th>11053783-3</th>\n",
       "      <td>Isaiah_Acevedo</td>\n",
       "      <td>fl:is_ln:acevedo-1</td>\n",
       "    </tr>\n",
       "    <tr>\n",
       "      <th>6554942-1</th>\n",
       "      <td>Richard_Acevedo</td>\n",
       "      <td>fl:ri_ln:acevedo-1</td>\n",
       "    </tr>\n",
       "  </tbody>\n",
       "</table>\n",
       "<p>49973 rows × 2 columns</p>\n",
       "</div>"
      ],
      "text/plain": [
       "                          name_full                inventor_id\n",
       "mention_id                                                    \n",
       "6760406-1       Oscar_&Hcirc;emberg  dlei8eght8xe350iq4urclkr0\n",
       "6690003-0          Artur_&Zacute;ak  kcoqyl54g28tccz837acqbd4r\n",
       "9703572-2   Jonathan Blake_'Brannon  t8p2wr6gqwsz7lta05srozz9m\n",
       "D319135-0            Stephan_'Feger  c8eumyxzvfrn0toycnijevjva\n",
       "7253022-0     Victor Tan Cher_'Khng           fl:vi_ln:'khng-1\n",
       "...                             ...                        ...\n",
       "9586758-0          Jesus R._Acevedo         fl:je_ln:acevedo-1\n",
       "9690400-4            Daniel_Acevedo         fl:da_ln:acevedo-2\n",
       "3959828-0           Ignacio_Acevedo         fl:ig_ln:acevedo-1\n",
       "11053783-3           Isaiah_Acevedo         fl:is_ln:acevedo-1\n",
       "6554942-1           Richard_Acevedo         fl:ri_ln:acevedo-1\n",
       "\n",
       "[49973 rows x 2 columns]"
      ]
     },
     "execution_count": 2,
     "metadata": {},
     "output_type": "execute_result"
    }
   ],
   "source": [
    "data1 = (\n",
    "    pd.read_csv(\"tests/resources/raw_inventor_sample.tsv\", sep=\"\\t\")\n",
    "    .set_index(\"mention_id\")\n",
    "    .dropna()\n",
    ")\n",
    "\n",
    "data1"
   ]
  },
  {
   "cell_type": "code",
   "execution_count": 3,
   "metadata": {},
   "outputs": [],
   "source": [
    "prediction = pd.Series([0, 0, 1, 1, 1, 2, 3, 4, 4, 5, 6 ,7, 8, 8, 8, 8, 9, 0, 11, 11])\n",
    "reference = pd.Series([0, 0, 1, 1, 1, 2, 2, 2, 3])\n",
    "\n",
    "data2 = pd.concat({\"prediction\":prediction, \"reference\":reference}, axis=1, join=\"inner\")"
   ]
  },
  {
   "cell_type": "code",
   "execution_count": 4,
   "metadata": {},
   "outputs": [],
   "source": [
    "ARGS = [(data1.name_full, data1.inventor_id),\n",
    "        (prediction, reference),\n",
    "        (data2.prediction, data2.reference)]"
   ]
  },
  {
   "cell_type": "markdown",
   "metadata": {},
   "source": [
    "## Pairwise metrics tests"
   ]
  },
  {
   "cell_type": "markdown",
   "metadata": {},
   "source": [
    "### Precision"
   ]
  },
  {
   "cell_type": "code",
   "execution_count": 5,
   "metadata": {},
   "outputs": [
    {
     "name": "stdout",
     "output_type": "stream",
     "text": [
      "0.9497532624651509\n",
      "0.2857142857142857\n",
      "0.8\n"
     ]
    }
   ],
   "source": [
    "for args in ARGS:\n",
    "    print(pairwise_precision(*args))"
   ]
  },
  {
   "cell_type": "markdown",
   "metadata": {},
   "source": [
    "### Recall"
   ]
  },
  {
   "cell_type": "code",
   "execution_count": 6,
   "metadata": {},
   "outputs": [
    {
     "name": "stdout",
     "output_type": "stream",
     "text": [
      "0.9032585765407237\n",
      "0.5714285714285714\n",
      "0.5714285714285714\n"
     ]
    }
   ],
   "source": [
    "for args in ARGS:\n",
    "    print(pairwise_recall(*args))"
   ]
  },
  {
   "cell_type": "markdown",
   "metadata": {},
   "source": [
    "### Precision-recall"
   ]
  },
  {
   "cell_type": "code",
   "execution_count": 7,
   "metadata": {},
   "outputs": [
    {
     "name": "stdout",
     "output_type": "stream",
     "text": [
      "(0.9497532624651509, 0.9032585765407237)\n",
      "(0.2857142857142857, 0.5714285714285714)\n",
      "(0.8, 0.5714285714285714)\n"
     ]
    }
   ],
   "source": [
    "for args in ARGS:\n",
    "    print(pairwise_precision_recall(*args))"
   ]
  },
  {
   "cell_type": "markdown",
   "metadata": {},
   "source": [
    "### f-score"
   ]
  },
  {
   "cell_type": "code",
   "execution_count": 8,
   "metadata": {},
   "outputs": [
    {
     "name": "stdout",
     "output_type": "stream",
     "text": [
      "0.9259226108122679\n",
      "0.38095238095238093\n",
      "0.6666666666666666\n"
     ]
    }
   ],
   "source": [
    "for args in ARGS:\n",
    "    print(pairwise_fscore(*args, beta=1))"
   ]
  },
  {
   "cell_type": "markdown",
   "metadata": {},
   "source": [
    "### Fowlkes-Mallow"
   ]
  },
  {
   "cell_type": "code",
   "execution_count": 9,
   "metadata": {},
   "outputs": [
    {
     "name": "stdout",
     "output_type": "stream",
     "text": [
      "0.9262142192382821\n",
      "0.40406101782088427\n",
      "0.6761234037828132\n"
     ]
    }
   ],
   "source": [
    "for args in ARGS:\n",
    "    print(pairwise_fowlkes_mallows(*args))"
   ]
  }
 ],
 "metadata": {
  "interpreter": {
   "hash": "f97207c432139506604244392b105fdb9240a7e9b3c1166362d476ada5e4ac07"
  },
  "kernelspec": {
   "display_name": "Python 3.7.13 ('pv-evaluation')",
   "language": "python",
   "name": "python3"
  },
  "language_info": {
   "codemirror_mode": {
    "name": "ipython",
    "version": 3
   },
   "file_extension": ".py",
   "mimetype": "text/x-python",
   "name": "python",
   "nbconvert_exporter": "python",
   "pygments_lexer": "ipython3",
   "version": "3.7.13"
  },
  "orig_nbformat": 4
 },
 "nbformat": 4,
 "nbformat_minor": 2
}
