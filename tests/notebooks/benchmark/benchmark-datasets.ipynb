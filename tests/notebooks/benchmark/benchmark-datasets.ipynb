{
 "cells": [
  {
   "cell_type": "markdown",
   "metadata": {},
   "source": [
    "## Inspectable execution tests"
   ]
  },
  {
   "cell_type": "code",
   "execution_count": 2,
   "metadata": {},
   "outputs": [
    {
     "ename": "ModuleNotFoundError",
     "evalue": "No module named 'pv_evaluation'",
     "output_type": "error",
     "traceback": [
      "\u001b[0;31m---------------------------------------------------------------------------\u001b[0m",
      "\u001b[0;31mModuleNotFoundError\u001b[0m                       Traceback (most recent call last)",
      "\u001b[0;32m/var/folders/m_/ccmxlv8j6jdcddyv2s7ffxkh0000gn/T/ipykernel_71410/2797547372.py\u001b[0m in \u001b[0;36m<module>\u001b[0;34m\u001b[0m\n\u001b[0;32m----> 1\u001b[0;31m from pv_evaluation.benchmark import (\n\u001b[0m\u001b[1;32m      2\u001b[0m     \u001b[0mload_israeli_inventors_benchmark\u001b[0m\u001b[0;34m,\u001b[0m\u001b[0;34m\u001b[0m\u001b[0;34m\u001b[0m\u001b[0m\n\u001b[1;32m      3\u001b[0m     \u001b[0mload_patentsview_inventors_benchmark\u001b[0m\u001b[0;34m\u001b[0m\u001b[0;34m\u001b[0m\u001b[0m\n\u001b[1;32m      4\u001b[0m )\n",
      "\u001b[0;31mModuleNotFoundError\u001b[0m: No module named 'pv_evaluation'"
     ]
    }
   ],
   "source": [
    "from pv_evaluation.benchmark import (\n",
    "    load_israeli_inventors_benchmark,\n",
    "    load_patentsview_inventors_benchmark\n",
    ")"
   ]
  },
  {
   "cell_type": "code",
   "execution_count": null,
   "metadata": {},
   "outputs": [],
   "source": [
    "load_israeli_inventors_benchmark()"
   ]
  },
  {
   "cell_type": "code",
   "execution_count": null,
   "metadata": {},
   "outputs": [],
   "source": [
    "load_patentsview_inventors_benchmark()"
   ]
  }
 ],
 "metadata": {
  "interpreter": {
   "hash": "8c992b4d03f0e2f8bf902d12c369c14bb14ec12474a257267b693c8e71f1c090"
  },
  "kernelspec": {
   "display_name": "Python 3.7.13 ('pv-evaluation')",
   "language": "python",
   "name": "python3"
  },
  "language_info": {
   "codemirror_mode": {
    "name": "ipython",
    "version": 3
   },
   "file_extension": ".py",
   "mimetype": "text/x-python",
   "name": "python",
   "nbconvert_exporter": "python",
   "pygments_lexer": "ipython3",
   "version": "3.7.13"
  },
  "orig_nbformat": 4
 },
 "nbformat": 4,
 "nbformat_minor": 2
}
