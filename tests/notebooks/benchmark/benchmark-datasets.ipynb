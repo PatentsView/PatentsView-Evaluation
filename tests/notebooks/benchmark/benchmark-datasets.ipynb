{
 "cells": [
  {
   "cell_type": "markdown",
   "metadata": {},
   "source": [
    "## Inspectable execution tests"
   ]
  },
  {
   "cell_type": "code",
   "execution_count": 1,
   "metadata": {},
   "outputs": [],
   "source": [
    "from pv_evaluation.benchmark import (\n",
    "    load_israeli_inventors_benchmark,\n",
    "    load_patentsview_inventors_benchmark,\n",
    "    load_lai_2011_inventors_benchmark,\n",
    "    load_ens_inventors_benchmark,\n",
    "    load_als_inventors_benchmark,\n",
    ")"
   ]
  },
  {
   "cell_type": "code",
   "execution_count": 2,
   "metadata": {},
   "outputs": [
    {
     "data": {
      "text/plain": [
       "mention_id\n",
       "US3858246-0    11797\n",
       "US3858578-0    11797\n",
       "US3858674-0    16606\n",
       "US3859165-0    13384\n",
       "US3859616-0     9865\n",
       "               ...  \n",
       "US6009346-0    12734\n",
       "US6009390-1     7694\n",
       "US6009409-2    11416\n",
       "US6009543-0    19168\n",
       "US6009552-0      650\n",
       "Name: unique_id, Length: 9156, dtype: int64"
      ]
     },
     "execution_count": 2,
     "metadata": {},
     "output_type": "execute_result"
    }
   ],
   "source": [
    "load_israeli_inventors_benchmark()"
   ]
  },
  {
   "cell_type": "code",
   "execution_count": 3,
   "metadata": {},
   "outputs": [
    {
     "data": {
      "text/plain": [
       "mention_id\n",
       "USD629911-2     1\n",
       "US6547229-4     1\n",
       "US4484600-0     2\n",
       "US6296293-0     3\n",
       "US5951090-1     3\n",
       "               ..\n",
       "US8232336-5    67\n",
       "US7803865-5    67\n",
       "US7947776-5    67\n",
       "US8785531-5    67\n",
       "US8318257-5    67\n",
       "Name: unique_id, Length: 94, dtype: int64"
      ]
     },
     "execution_count": 3,
     "metadata": {},
     "output_type": "execute_result"
    }
   ],
   "source": [
    "load_patentsview_inventors_benchmark()"
   ]
  },
  {
   "cell_type": "code",
   "execution_count": 4,
   "metadata": {},
   "outputs": [
    {
     "data": {
      "text/plain": [
       "mention_id\n",
       "US5773227-2     1\n",
       "US6156576-0     1\n",
       "US6335201-0     1\n",
       "US6740497-0     1\n",
       "US7157223-0     1\n",
       "               ..\n",
       "US6673424-0    95\n",
       "US6734438-0    95\n",
       "US7152462-2    95\n",
       "US7687767-0    95\n",
       "US7745206-1    95\n",
       "Name: unique_id, Length: 1321, dtype: int64"
      ]
     },
     "execution_count": 4,
     "metadata": {},
     "output_type": "execute_result"
    }
   ],
   "source": [
    "load_lai_2011_inventors_benchmark()"
   ]
  },
  {
   "cell_type": "code",
   "execution_count": 5,
   "metadata": {},
   "outputs": [
    {
     "data": {
      "text/plain": [
       "mention_id\n",
       "US6568878-1       0\n",
       "US7597885-1       1\n",
       "US7852346-1       2\n",
       "US8361742-1       3\n",
       "US6112206-1       4\n",
       "               ... \n",
       "US6669049-0     519\n",
       "US6931473-1      16\n",
       "US6598303-2     984\n",
       "US4682569-1     127\n",
       "US7754662-0    1645\n",
       "Name: unique_id, Length: 10595, dtype: int64"
      ]
     },
     "execution_count": 5,
     "metadata": {},
     "output_type": "execute_result"
    }
   ],
   "source": [
    "load_ens_inventors_benchmark()"
   ]
  },
  {
   "cell_type": "code",
   "execution_count": 6,
   "metadata": {},
   "outputs": [
    {
     "data": {
      "text/plain": [
       "mention_id\n",
       "US6205043-1        1\n",
       "US6434031-1        1\n",
       "US6583702-1        1\n",
       "US6423491-1        2\n",
       "US4184768-1        3\n",
       "               ...  \n",
       "US6723088-1    17241\n",
       "US6811612-4    28601\n",
       "US6829498-3    40943\n",
       "US6829498-4    41841\n",
       "US6830895-1    49818\n",
       "Name: unique_id, Length: 142522, dtype: int64"
      ]
     },
     "execution_count": 6,
     "metadata": {},
     "output_type": "execute_result"
    }
   ],
   "source": [
    "load_als_inventors_benchmark()"
   ]
  }
 ],
 "metadata": {
  "kernelspec": {
   "display_name": "Python 3.9.12 ('base': conda)",
   "language": "python",
   "name": "python3"
  },
  "language_info": {
   "codemirror_mode": {
    "name": "ipython",
    "version": 3
   },
   "file_extension": ".py",
   "mimetype": "text/x-python",
   "name": "python",
   "nbconvert_exporter": "python",
   "pygments_lexer": "ipython3",
   "version": "3.9.12"
  },
  "orig_nbformat": 4,
  "vscode": {
   "interpreter": {
    "hash": "d366ceee791367589ff1ed6dc5fb57b1e5eb0d210a7a54b43020c52608fe54d0"
   }
  }
 },
 "nbformat": 4,
 "nbformat_minor": 2
}
