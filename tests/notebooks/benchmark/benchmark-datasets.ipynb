{
 "cells": [
  {
   "cell_type": "markdown",
   "metadata": {},
   "source": [
    "## Inspectable execution tests"
   ]
  },
  {
   "cell_type": "code",
   "execution_count": 1,
   "metadata": {},
   "outputs": [],
   "source": [
    "from pv_evaluation.benchmark import (\n",
    "    load_israeli_inventors_benchmark,\n",
    "    load_patentsview_inventors_benchmark\n",
    ")"
   ]
  },
  {
   "cell_type": "code",
   "execution_count": 2,
   "metadata": {},
   "outputs": [
    {
     "data": {
      "text/plain": [
       "mention-id\n",
       "US3858246-0    11797\n",
       "US3858578-0    11797\n",
       "US3858674-0    16606\n",
       "US3859165-0    13384\n",
       "US3859616-0     9865\n",
       "               ...  \n",
       "US6009346-0    12734\n",
       "US6009390-1     7694\n",
       "US6009409-2    11416\n",
       "US6009543-0    19168\n",
       "US6009552-0      650\n",
       "Name: unique-id, Length: 9156, dtype: int64"
      ]
     },
     "execution_count": 2,
     "metadata": {},
     "output_type": "execute_result"
    }
   ],
   "source": [
    "load_israeli_inventors_benchmark()"
   ]
  },
  {
   "cell_type": "code",
   "execution_count": 3,
   "metadata": {},
   "outputs": [
    {
     "data": {
      "text/plain": [
       "mention-id\n",
       "USD629911-2     1\n",
       "US6547229-4     1\n",
       "US4484600-0     2\n",
       "US6296293-0     3\n",
       "US5951090-1     3\n",
       "               ..\n",
       "US8232336-5    67\n",
       "US7803865-5    67\n",
       "US7947776-5    67\n",
       "US8785531-5    67\n",
       "US8318257-5    67\n",
       "Name: unique-id, Length: 94, dtype: int64"
      ]
     },
     "execution_count": 3,
     "metadata": {},
     "output_type": "execute_result"
    }
   ],
   "source": [
    "load_patentsview_inventors_benchmark()"
   ]
  }
 ],
 "metadata": {
  "interpreter": {
   "hash": "8c992b4d03f0e2f8bf902d12c369c14bb14ec12474a257267b693c8e71f1c090"
  },
  "kernelspec": {
   "display_name": "Python 3.7.13 ('pv-evaluation')",
   "language": "python",
   "name": "python3"
  },
  "language_info": {
   "codemirror_mode": {
    "name": "ipython",
    "version": 3
   },
   "file_extension": ".py",
   "mimetype": "text/x-python",
   "name": "python",
   "nbconvert_exporter": "python",
   "pygments_lexer": "ipython3",
   "version": "3.7.13"
  },
  "orig_nbformat": 4
 },
 "nbformat": 4,
 "nbformat_minor": 2
}
