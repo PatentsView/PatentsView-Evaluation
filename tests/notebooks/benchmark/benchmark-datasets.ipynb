{
 "cells": [
  {
   "cell_type": "markdown",
   "metadata": {},
   "source": [
    "## Inspectable execution tests"
   ]
  },
  {
   "cell_type": "code",
   "execution_count": 1,
   "metadata": {},
   "outputs": [
    {
     "ename": "SyntaxError",
     "evalue": "invalid syntax (data.py, line 18)",
     "output_type": "error",
     "traceback": [
      "Traceback \u001b[0;36m(most recent call last)\u001b[0m:\n",
      "  File \u001b[1;32m\"/home/olivieratair/anaconda3/envs/pv-evaluation/lib/python3.7/site-packages/IPython/core/interactiveshell.py\"\u001b[0m, line \u001b[1;32m3457\u001b[0m, in \u001b[1;35mrun_code\u001b[0m\n    exec(code_obj, self.user_global_ns, self.user_ns)\n",
      "  File \u001b[1;32m\"/tmp/ipykernel_11400/4031328959.py\"\u001b[0m, line \u001b[1;32m1\u001b[0m, in \u001b[1;35m<module>\u001b[0m\n    from pv_evaluation.benchmark import (\n",
      "\u001b[0;36m  File \u001b[0;32m\"/home/olivieratair/Desktop/PatentsView-Evaluation/pv_evaluation/benchmark/__init__.py\"\u001b[0;36m, line \u001b[0;32m1\u001b[0;36m, in \u001b[0;35m<module>\u001b[0;36m\u001b[0m\n\u001b[0;31m    from .data import (\u001b[0m\n",
      "\u001b[0;36m  File \u001b[0;32m\"/home/olivieratair/Desktop/PatentsView-Evaluation/pv_evaluation/benchmark/data.py\"\u001b[0;36m, line \u001b[0;32m18\u001b[0m\n\u001b[0;31m    >>>>>>> benchmark\u001b[0m\n\u001b[0m     ^\u001b[0m\n\u001b[0;31mSyntaxError\u001b[0m\u001b[0;31m:\u001b[0m invalid syntax\n"
     ]
    }
   ],
   "source": [
    "from pv_evaluation.benchmark import (\n",
    "    load_harvard_inventors_benchmark,\n",
    "    load_israeli_inventors_benchmark,\n",
    "    load_patentsview_inventors_benchmark\n",
    ")"
   ]
  },
  {
   "cell_type": "code",
   "execution_count": null,
   "metadata": {},
   "outputs": [
    {
     "data": {
      "text/plain": [
       "mention-id\n",
       "US05712011-0    277\n",
       "US05712011-1    488\n",
       "US05712011-2    587\n",
       "US05720935-0    204\n",
       "US05720935-1      3\n",
       "               ... \n",
       "US07858965-2    705\n",
       "US07858965-3    773\n",
       "US07858965-4    778\n",
       "US07858965-5    782\n",
       "USRE041614-0    133\n",
       "Name: unique-id, Length: 1997, dtype: int64"
      ]
     },
     "execution_count": 3,
     "metadata": {},
     "output_type": "execute_result"
    }
   ],
   "source": [
    "load_harvard_inventors_benchmark()"
   ]
  },
  {
   "cell_type": "code",
   "execution_count": null,
   "metadata": {},
   "outputs": [],
   "source": [
    "load_israeli_inventors_benchmark()"
   ]
  },
  {
   "cell_type": "code",
   "execution_count": null,
   "metadata": {},
   "outputs": [],
   "source": [
    "load_patentsview_inventors_benchmark()"
   ]
  }
 ],
 "metadata": {
  "interpreter": {
   "hash": "c6191605ccbc69ee850b3b607fa517accda1f0792654a487c9877b1d34a204e1"
  },
  "kernelspec": {
   "display_name": "Python 3.7.13 ('pv-evaluation')",
   "language": "python",
   "name": "python3"
  },
  "language_info": {
   "codemirror_mode": {
    "name": "ipython",
    "version": 3
   },
   "file_extension": ".py",
   "mimetype": "text/x-python",
   "name": "python",
   "nbconvert_exporter": "python",
   "pygments_lexer": "ipython3",
   "version": "3.7.13"
  },
  "orig_nbformat": 4
 },
 "nbformat": 4,
 "nbformat_minor": 2
}
