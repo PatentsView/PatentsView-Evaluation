{
 "cells": [
  {
   "cell_type": "markdown",
   "metadata": {},
   "source": [
    "## Inspectable execution tests"
   ]
  },
  {
   "cell_type": "code",
   "execution_count": 1,
   "metadata": {},
   "outputs": [],
   "source": [
    "from pv_evaluation.benchmark import (\n",
    "    load_harvard_inventors_benchmark,\n",
    "    load_israeli_inventors_benchmark,\n",
    "    load_patentsview_inventors_benchmark\n",
    ")"
   ]
  },
  {
   "cell_type": "code",
   "execution_count": 2,
   "metadata": {},
   "outputs": [
    {
     "data": {
      "text/plain": [
       "mention-id\n",
       "US05712011-0    277\n",
       "US05712011-1    488\n",
       "US05712011-2    587\n",
       "US05720935-0    204\n",
       "US05720935-1      3\n",
       "               ... \n",
       "US07858965-2    705\n",
       "US07858965-3    773\n",
       "US07858965-4    778\n",
       "US07858965-5    782\n",
       "USRE041614-0    133\n",
       "Name: unique-id, Length: 1997, dtype: int64"
      ]
     },
     "execution_count": 2,
     "metadata": {},
     "output_type": "execute_result"
    }
   ],
   "source": [
    "load_harvard_inventors_benchmark()"
   ]
  },
  {
   "cell_type": "code",
   "execution_count": 3,
   "metadata": {},
   "outputs": [
    {
     "data": {
      "text/plain": [
       "mention-id\n",
       "US3858246-1    11797\n",
       "US3858578-1    11797\n",
       "US3858674-1    16606\n",
       "US3859165-1    13384\n",
       "US3859616-1     9865\n",
       "               ...  \n",
       "US6009346-1    12734\n",
       "US6009390-2     7694\n",
       "US6009409-3    11416\n",
       "US6009543-1    19168\n",
       "US6009552-1      650\n",
       "Name: unique-id, Length: 9156, dtype: int64"
      ]
     },
     "execution_count": 3,
     "metadata": {},
     "output_type": "execute_result"
    }
   ],
   "source": [
    "load_israeli_inventors_benchmark()"
   ]
  },
  {
   "cell_type": "code",
   "execution_count": 4,
   "metadata": {},
   "outputs": [
    {
     "data": {
      "text/plain": [
       "mention-id\n",
       "USD629911-2     1\n",
       "US6547229-4     1\n",
       "US4484600-0     2\n",
       "US6296293-0     3\n",
       "US5951090-1     3\n",
       "               ..\n",
       "US8232336-5    67\n",
       "US7803865-5    67\n",
       "US7947776-5    67\n",
       "US8785531-5    67\n",
       "US8318257-5    67\n",
       "Name: unique-id, Length: 94, dtype: int64"
      ]
     },
     "execution_count": 4,
     "metadata": {},
     "output_type": "execute_result"
    }
   ],
   "source": [
    "load_patentsview_inventors_benchmark()"
   ]
  }
 ],
 "metadata": {
  "interpreter": {
   "hash": "c6191605ccbc69ee850b3b607fa517accda1f0792654a487c9877b1d34a204e1"
  },
  "kernelspec": {
   "display_name": "Python 3.7.13 ('pv-evaluation')",
   "language": "python",
   "name": "python3"
  },
  "language_info": {
   "codemirror_mode": {
    "name": "ipython",
    "version": 3
   },
   "file_extension": ".py",
   "mimetype": "text/x-python",
   "name": "python",
   "nbconvert_exporter": "python",
   "pygments_lexer": "ipython3",
   "version": "3.7.13"
  },
  "orig_nbformat": 4
 },
 "nbformat": 4,
 "nbformat_minor": 2
}
