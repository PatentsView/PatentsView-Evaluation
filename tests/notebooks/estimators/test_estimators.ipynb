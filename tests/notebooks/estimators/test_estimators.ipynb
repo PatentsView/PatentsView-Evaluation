{
 "cells": [
  {
   "cell_type": "markdown",
   "metadata": {},
   "source": [
    "# Inspectable execution tests"
   ]
  },
  {
   "cell_type": "code",
   "execution_count": 1,
   "metadata": {},
   "outputs": [],
   "source": [
    "import numpy as np\n",
    "np.random.seed(1)\n",
    "from pv_evaluation.metrics import pairwise_precision_recall\n",
    "from pv_evaluation.estimators import pairwise_precision_estimator, pairwise_recall_estimator\n",
    "from pv_evaluation.benchmark import load_als_inventors_benchmark"
   ]
  },
  {
   "cell_type": "code",
   "execution_count": 2,
   "metadata": {},
   "outputs": [],
   "source": [
    "reference = load_als_inventors_benchmark()\n",
    "\n",
    "# Create prediction membership vector as a noisy version of the reference\n",
    "prediction = reference.copy()\n",
    "for _ in range(10000):\n",
    "    i,j = np.random.randint(0, len(prediction), size=2)\n",
    "    prediction[i] = prediction[j]"
   ]
  },
  {
   "cell_type": "markdown",
   "metadata": {},
   "source": [
    "True pairwise precision and recall:"
   ]
  },
  {
   "cell_type": "code",
   "execution_count": 3,
   "metadata": {},
   "outputs": [
    {
     "name": "stdout",
     "output_type": "stream",
     "text": [
      "0.8495857333565273 0.864769100993944\n"
     ]
    }
   ],
   "source": [
    "P, R = pairwise_precision_recall(prediction, reference)\n",
    "\n",
    "print(P, R)"
   ]
  },
  {
   "cell_type": "markdown",
   "metadata": {},
   "source": [
    "## Sampling clusters with probability proportional to their size"
   ]
  },
  {
   "cell_type": "code",
   "execution_count": 4,
   "metadata": {},
   "outputs": [],
   "source": [
    "def sample_clusters(reference, sample_size):\n",
    "    clusters = np.random.choice(reference.values, size=sample_size, replace=True)\n",
    "    return reference[reference.isin(clusters)]"
   ]
  },
  {
   "cell_type": "markdown",
   "metadata": {},
   "source": [
    "Checking for unbiasedness."
   ]
  },
  {
   "cell_type": "code",
   "execution_count": 5,
   "metadata": {},
   "outputs": [],
   "source": [
    "k = 100\n",
    "\n",
    "for params in [(\"record\", \"uniform\"), (\"cluster\", \"cluster_size\"), (\"cluster_block\", \"cluster_size\")]:\n",
    "    P_hat = np.zeros(k)\n",
    "    R_hat = np.zeros(k)\n",
    "    for i in range(k):\n",
    "        sample = sample_clusters(reference, sample_size=200)\n",
    "        P_hat[i] = pairwise_precision_estimator(prediction, sample, sampling_type=params[0], weights=params[1])\n",
    "        R_hat[i] = pairwise_recall_estimator(prediction, sample, sampling_type=params[0], weights=params[1])\n",
    "\n",
    "    assert np.abs(np.mean(P_hat) - P) < 0.05\n",
    "    assert np.abs(np.mean(R_hat) - R) < 0.05"
   ]
  },
  {
   "cell_type": "markdown",
   "metadata": {},
   "source": [
    "## Sampling clusters uniformly at random"
   ]
  },
  {
   "cell_type": "code",
   "execution_count": 6,
   "metadata": {},
   "outputs": [],
   "source": [
    "def sample_clusters_uniformly(reference, sample_size):\n",
    "    clusters = np.random.choice(reference.unique(), size=sample_size, replace=True)\n",
    "    return reference[reference.isin(clusters)]"
   ]
  },
  {
   "cell_type": "markdown",
   "metadata": {},
   "source": [
    "Checking for (near) unbiasedness. Note that bias of these ratio estimators would be high in small samples."
   ]
  },
  {
   "cell_type": "code",
   "execution_count": 7,
   "metadata": {},
   "outputs": [],
   "source": [
    "k = 100\n",
    "\n",
    "j=0\n",
    "for params in [(\"cluster\", \"uniform\"), (\"cluster_block\", \"uniform\")]:\n",
    "    P_hat = np.zeros(k)\n",
    "    R_hat = np.zeros(k)\n",
    "\n",
    "    for i in range(k):\n",
    "        sample = sample_clusters_uniformly(reference, sample_size=200)\n",
    "        P_hat[i] = pairwise_precision_estimator(prediction, sample, sampling_type=params[0], weights=params[1])\n",
    "        R_hat[i] = pairwise_recall_estimator(prediction, sample, sampling_type=params[0], weights=params[1])\n",
    "\n",
    "    assert np.abs(np.mean(P_hat) - P) < 0.05\n",
    "    assert np.abs(np.mean(R_hat) - R) < 0.05"
   ]
  }
 ],
 "metadata": {
  "kernelspec": {
   "display_name": "Python 3.7.13 ('pv-evaluation': conda)",
   "language": "python",
   "name": "python3"
  },
  "language_info": {
   "codemirror_mode": {
    "name": "ipython",
    "version": 3
   },
   "file_extension": ".py",
   "mimetype": "text/x-python",
   "name": "python",
   "nbconvert_exporter": "python",
   "pygments_lexer": "ipython3",
   "version": "3.7.13"
  },
  "orig_nbformat": 4,
  "vscode": {
   "interpreter": {
    "hash": "135eb778a123b23717215bebe642ebc480e0ab0e1bc583cf4971f84281f0b229"
   }
  }
 },
 "nbformat": 4,
 "nbformat_minor": 2
}
