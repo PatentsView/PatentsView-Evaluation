{
 "cells": [
  {
   "cell_type": "markdown",
   "metadata": {},
   "source": [
    "# First Example\n",
    "\n",
    "This is the code for example 1 in \"Practical Performance Evaluation of Entity Resolution Algorithms: Lessons Learned at PatentsView.org\""
   ]
  },
  {
   "cell_type": "code",
   "execution_count": 1,
   "metadata": {},
   "outputs": [
    {
     "name": "stdout",
     "output_type": "stream",
     "text": [
      "Collecting git+https://github.com/OlivierBinette/groupbyrule.git\n",
      "  Cloning https://github.com/OlivierBinette/groupbyrule.git to /tmp/pip-req-build-m4cjdiip\n",
      "  Resolved https://github.com/OlivierBinette/groupbyrule.git to commit df3032320395ea1c2513019c2b8cf8b3a2d2f2d9\n",
      "Requirement already satisfied: numpy in /home/ubuntu/miniconda3/envs/pv-evaluation/lib/python3.7/site-packages (from groupbyrule==0.0.1.9000) (1.21.6)\n",
      "Requirement already satisfied: scipy in /home/ubuntu/miniconda3/envs/pv-evaluation/lib/python3.7/site-packages (from groupbyrule==0.0.1.9000) (1.7.3)\n",
      "Requirement already satisfied: pandas in /home/ubuntu/miniconda3/envs/pv-evaluation/lib/python3.7/site-packages (from groupbyrule==0.0.1.9000) (1.3.5)\n",
      "Requirement already satisfied: igraph in /home/ubuntu/miniconda3/envs/pv-evaluation/lib/python3.7/site-packages (from groupbyrule==0.0.1.9000) (0.9.10)\n",
      "Requirement already satisfied: sklearn in /home/ubuntu/miniconda3/envs/pv-evaluation/lib/python3.7/site-packages (from groupbyrule==0.0.1.9000) (0.0)\n",
      "Requirement already satisfied: pybind11 in /home/ubuntu/miniconda3/envs/pv-evaluation/lib/python3.7/site-packages (from groupbyrule==0.0.1.9000) (2.9.2)\n",
      "Requirement already satisfied: texttable>=1.6.2 in /home/ubuntu/miniconda3/envs/pv-evaluation/lib/python3.7/site-packages (from igraph->groupbyrule==0.0.1.9000) (1.6.4)\n",
      "Requirement already satisfied: pytz>=2017.3 in /home/ubuntu/miniconda3/envs/pv-evaluation/lib/python3.7/site-packages (from pandas->groupbyrule==0.0.1.9000) (2022.1)\n",
      "Requirement already satisfied: python-dateutil>=2.7.3 in /home/ubuntu/miniconda3/envs/pv-evaluation/lib/python3.7/site-packages (from pandas->groupbyrule==0.0.1.9000) (2.8.2)\n",
      "Requirement already satisfied: six>=1.5 in /home/ubuntu/miniconda3/envs/pv-evaluation/lib/python3.7/site-packages (from python-dateutil>=2.7.3->pandas->groupbyrule==0.0.1.9000) (1.16.0)\n",
      "Requirement already satisfied: scikit-learn in /home/ubuntu/miniconda3/envs/pv-evaluation/lib/python3.7/site-packages (from sklearn->groupbyrule==0.0.1.9000) (1.0.2)\n",
      "Requirement already satisfied: joblib>=0.11 in /home/ubuntu/miniconda3/envs/pv-evaluation/lib/python3.7/site-packages (from scikit-learn->sklearn->groupbyrule==0.0.1.9000) (1.1.0)\n",
      "Requirement already satisfied: threadpoolctl>=2.0.0 in /home/ubuntu/miniconda3/envs/pv-evaluation/lib/python3.7/site-packages (from scikit-learn->sklearn->groupbyrule==0.0.1.9000) (3.1.0)\n"
     ]
    },
    {
     "name": "stderr",
     "output_type": "stream",
     "text": [
      "  Running command git clone -q https://github.com/OlivierBinette/groupbyrule.git /tmp/pip-req-build-m4cjdiip\n",
      "  Running command git submodule update --init --recursive -q\n"
     ]
    }
   ],
   "source": [
    "%%bash\n",
    "\n",
    "pip install git+https://github.com/OlivierBinette/groupbyrule.git"
   ]
  },
  {
   "cell_type": "code",
   "execution_count": 2,
   "metadata": {},
   "outputs": [
    {
     "name": "stderr",
     "output_type": "stream",
     "text": [
      "/home/ubuntu/miniconda3/envs/pv-evaluation/lib/python3.7/site-packages/groupbyrule/comparator/__init__.py:11: UserWarning: Could not load C++ shared library. Using pure Python implementation instead.\n",
      "  \"Could not load C++ shared library. Using pure Python implementation instead.\")\n"
     ]
    }
   ],
   "source": [
    "import numpy as np\n",
    "np.random.seed(1)\n",
    "\n",
    "import pandas as pd\n",
    "from groupbyrule.data import load_RLdata10000\n",
    "from groupbyrule import Any, Match"
   ]
  },
  {
   "cell_type": "markdown",
   "metadata": {},
   "source": [
    "We use RLdata10000 throughout."
   ]
  },
  {
   "cell_type": "code",
   "execution_count": 3,
   "metadata": {},
   "outputs": [],
   "source": [
    "df = load_RLdata10000()"
   ]
  },
  {
   "cell_type": "markdown",
   "metadata": {},
   "source": [
    "The disambiguation algorithm which we consider matches two records if they match on all of first name, last name and birth year, if they match on first name, birth day and birth year, OR if they match on last name, birth day and birth year."
   ]
  },
  {
   "cell_type": "code",
   "execution_count": 4,
   "metadata": {},
   "outputs": [],
   "source": [
    "rule = Any(\n",
    "    Match(\"fname_c1\", \"lname_c1\", \"by\"),\n",
    "    Match(\"fname_c1\", \"bd\", \"by\"),\n",
    "    Match(\"lname_c1\", \"bd\", \"by\")\n",
    ")\n",
    "\n",
    "# Apply the rule to a dataset\n",
    "rule.fit(df)\n",
    "\n",
    "disambiguation = pd.Series(rule.groups, df.index)"
   ]
  },
  {
   "cell_type": "markdown",
   "metadata": {},
   "source": [
    "This is not a good algorithm. It only achieves 52% precision and 83% recall."
   ]
  },
  {
   "cell_type": "code",
   "execution_count": 5,
   "metadata": {},
   "outputs": [
    {
     "data": {
      "text/plain": [
       "(0.520625, 0.833)"
      ]
     },
     "execution_count": 5,
     "metadata": {},
     "output_type": "execute_result"
    }
   ],
   "source": [
    "from pv_evaluation.metrics import pairwise_precision, pairwise_precision_recall\n",
    "from pv_evaluation.estimators import pairwise_precision_estimator\n",
    "\n",
    "pairwise_precision_recall(disambiguation, df.identity)"
   ]
  },
  {
   "cell_type": "code",
   "execution_count": 6,
   "metadata": {},
   "outputs": [],
   "source": [
    "true_precision = pairwise_precision(disambiguation, df.identity)"
   ]
  },
  {
   "cell_type": "markdown",
   "metadata": {},
   "source": [
    "Now we sample 100 clusters and use this as a benchmark dataset to compute precision. That is, precision is computed for predictions contained in the benchmark dataset. The process is repeated 5000 time in order to estimate the distribution of this estimator."
   ]
  },
  {
   "cell_type": "code",
   "execution_count": 7,
   "metadata": {},
   "outputs": [],
   "source": [
    "def sample_clusters(df, k=200):\n",
    "    clusters = np.random.choice(df.identity.values, size=k, replace=True)\n",
    "    return df[df.identity.isin(clusters)]\n",
    "\n",
    "n = 5000\n",
    "precision_values = np.zeros(n)\n",
    "est_precision_values = np.zeros(n)\n",
    "for i in range(n):\n",
    "    benchmark = sample_clusters(df)\n",
    "    data = pd.concat({\"prediction\":disambiguation, \"reference\":benchmark.identity}, axis=1, join=\"inner\")\n",
    "    precision_values[i] = (\n",
    "        pairwise_precision(data.prediction, data.reference)\n",
    "    )\n",
    "    est_precision_values[i] = (\n",
    "        pairwise_precision_estimator(disambiguation, benchmark.identity, sampling_type=\"cluster\", weights=\"cluster_size\")\n",
    "    )"
   ]
  },
  {
   "cell_type": "markdown",
   "metadata": {},
   "source": [
    "As we can see below, this \"trivial\" estimator is highly biased. Most of the time, we observe 100% accuracy, despite the fact that true accuracy is only 52%."
   ]
  },
  {
   "cell_type": "code",
   "execution_count": 8,
   "metadata": {},
   "outputs": [
    {
     "data": {
      "text/plain": [
       "<AxesSubplot:ylabel='Count'>"
      ]
     },
     "execution_count": 8,
     "metadata": {},
     "output_type": "execute_result"
    },
    {
     "data": {
      "image/png": "[encoded data removed]",
      "text/plain": [
       "<Figure size 432x288 with 1 Axes>"
      ]
     },
     "metadata": {
      "needs_background": "light"
     },
     "output_type": "display_data"
    }
   ],
   "source": [
    "import matplotlib.pyplot as plt\n",
    "import seaborn as sns\n",
    "\n",
    "sns.histplot(precision_values)"
   ]
  },
  {
   "cell_type": "markdown",
   "metadata": {},
   "source": [
    "Within the same experiment, we also computed our proposed precision estimator which accounts for the sampling structure."
   ]
  },
  {
   "cell_type": "markdown",
   "metadata": {},
   "source": [
    "Our estimator is nearly unbiased."
   ]
  },
  {
   "cell_type": "code",
   "execution_count": 9,
   "metadata": {},
   "outputs": [
    {
     "data": {
      "text/plain": [
       "0.5231695962782801"
      ]
     },
     "execution_count": 9,
     "metadata": {},
     "output_type": "execute_result"
    }
   ],
   "source": [
    "np.mean(est_precision_values)"
   ]
  },
  {
   "cell_type": "code",
   "execution_count": 10,
   "metadata": {},
   "outputs": [
    {
     "data": {
      "text/plain": [
       "<AxesSubplot:ylabel='Count'>"
      ]
     },
     "execution_count": 10,
     "metadata": {},
     "output_type": "execute_result"
    },
    {
     "data": {
      "image/png": "[encoded data removed]",
      "text/plain": [
       "<Figure size 432x288 with 1 Axes>"
      ]
     },
     "metadata": {
      "needs_background": "light"
     },
     "output_type": "display_data"
    }
   ],
   "source": [
    "sns.histplot(est_precision_values)"
   ]
  },
  {
   "cell_type": "markdown",
   "metadata": {},
   "source": [
    "Finally, we can consider using the \"single block\" estimator which assumes that a single block has been sampled. This does not correspond exactly to the sampling mechanism used here. However, the results below show that it still provides precision estimates which are much more reasonable than what would be obtained using a trivial computation of precision."
   ]
  },
  {
   "cell_type": "code",
   "execution_count": 11,
   "metadata": {},
   "outputs": [],
   "source": [
    "import pandas as pd\n",
    "from pv_evaluation.estimators import pairwise_precision_estimator\n",
    "\n",
    "n = 5000\n",
    "block_est_precision_values = np.zeros(n)\n",
    "for i in range(n):\n",
    "    benchmark = sample_clusters(df)\n",
    "    block_est_precision_values[i] = (\n",
    "        pairwise_precision_estimator(disambiguation, benchmark.identity, sampling_type=\"single_block\", weights=\"uniform\")\n",
    "    )"
   ]
  },
  {
   "cell_type": "code",
   "execution_count": 12,
   "metadata": {},
   "outputs": [
    {
     "data": {
      "text/plain": [
       "0.46253771783421416"
      ]
     },
     "execution_count": 12,
     "metadata": {},
     "output_type": "execute_result"
    }
   ],
   "source": [
    "np.mean(block_est_precision_values)"
   ]
  },
  {
   "cell_type": "code",
   "execution_count": 13,
   "metadata": {},
   "outputs": [
    {
     "data": {
      "text/plain": [
       "<AxesSubplot:ylabel='Count'>"
      ]
     },
     "execution_count": 13,
     "metadata": {},
     "output_type": "execute_result"
    },
    {
     "data": {
      "image/png": "[encoded data removed]",
      "text/plain": [
       "<Figure size 432x288 with 1 Axes>"
      ]
     },
     "metadata": {
      "needs_background": "light"
     },
     "output_type": "display_data"
    }
   ],
   "source": [
    "sns.histplot(block_est_precision_values)"
   ]
  },
  {
   "cell_type": "markdown",
   "metadata": {},
   "source": [
    "## Paper figure\n",
    "\n",
    "The figure appearing in the paper is constructed below."
   ]
  },
  {
   "cell_type": "code",
   "execution_count": 14,
   "metadata": {},
   "outputs": [
    {
     "data": {
      "image/png": "[encoded data removed]",
      "text/plain": [
       "<Figure size 468x108 with 2 Axes>"
      ]
     },
     "metadata": {
      "needs_background": "light"
     },
     "output_type": "display_data"
    }
   ],
   "source": [
    "plt.rc('font', size=8) #controls default text size\n",
    "plt.rc('axes', titlesize=10) \n",
    "plt.rc('axes', labelsize=8) \n",
    "plt.rc('xtick', labelsize=8) \n",
    "plt.rc('ytick', labelsize=8) \n",
    "\n",
    "fig, (ax1, ax2) = plt.subplots(figsize=(6.5, 1.5), ncols=2, sharey=True)\n",
    "\n",
    "sns.histplot(precision_values, stat=\"probability\", binwidth=0.05, binrange=(0,1), ax=ax1)\n",
    "ax1.set_xlim(0,1)\n",
    "ax1.set_xlabel(\"Precision\")\n",
    "ax1.vlines(x=pairwise_precision(disambiguation, df.identity), ymin=0, ymax=1, colors=\"black\", linestyles=\"dotted\",)\n",
    "ax1.set_title(\"Precision trivially computed\\non benchmark data\")\n",
    "ax1.text(-0.1, 1.05, \"A\", transform=ax1.transAxes, size=10, weight='bold')\n",
    "\n",
    "ax1.text(0.05, 0.8, f\"bias = {round(np.mean(precision_values) - true_precision, 3)}\", transform=ax1.transAxes, size=8, weight='normal')\n",
    "ax1.text(0.05, 0.6, f\"rmse = {round(np.sqrt(np.mean((precision_values - true_precision)**2)), 3)}\", transform=ax1.transAxes, size=8, weight='normal')\n",
    "\n",
    "\n",
    "sns.histplot(est_precision_values, stat=\"probability\", binwidth=0.05, binrange=(0,1), ax=ax2)\n",
    "ax2.set_xlim(0,1)\n",
    "ax2.set_xlabel(\"Precision\")\n",
    "ax2.vlines(x=pairwise_precision(disambiguation, df.identity), ymin=0, ymax=1, colors=\"black\", linestyles=\"dotted\")\n",
    "ax2.set_title(\"Proposed precision estimator\")\n",
    "ax2.text(-0.1, 1.05, \"B\", transform=ax2.transAxes, size=10, weight='bold')\n",
    "\n",
    "ax2.text(0.05, 0.8, f\"bias = {round(np.mean(est_precision_values) - true_precision, 3)}\", transform=ax2.transAxes, size=8, weight='normal')\n",
    "ax2.text(0.05, 0.6, f\"rmse = {round(np.sqrt(np.mean((est_precision_values - true_precision)**2)), 3)}\", transform=ax2.transAxes, size=8, weight='normal')\n",
    "\n",
    "\n",
    "plt.savefig(\"first-example.pdf\", format=\"pdf\", bbox_inches=\"tight\")\n",
    "plt.show()"
   ]
  }
 ],
 "metadata": {
  "interpreter": {
   "hash": "135eb778a123b23717215bebe642ebc480e0ab0e1bc583cf4971f84281f0b229"
  },
  "kernelspec": {
   "display_name": "Python 3.7.13 ('pv-evaluation': conda)",
   "language": "python",
   "name": "python3"
  },
  "language_info": {
   "codemirror_mode": {
    "name": "ipython",
    "version": 3
   },
   "file_extension": ".py",
   "mimetype": "text/x-python",
   "name": "python",
   "nbconvert_exporter": "python",
   "pygments_lexer": "ipython3",
   "version": "3.7.13"
  },
  "orig_nbformat": 4
 },
 "nbformat": 4,
 "nbformat_minor": 2
}
