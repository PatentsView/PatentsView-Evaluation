{
 "cells": [
  {
   "cell_type": "code",
   "execution_count": 3,
   "metadata": {},
   "outputs": [],
   "source": [
    "import pandas as pd\n",
    "import numpy as np\n",
    "import stringcompare"
   ]
  },
  {
   "cell_type": "code",
   "execution_count": 56,
   "metadata": {},
   "outputs": [],
   "source": [
    "#read\n",
    "result = pd.read_csv('data/patents_2005_012_autosequence.csv', index_col = 0, dtype={'patent': 'string', 'fname': 'string', 'mname': 'string', \\\n",
    "    'lname': 'string', 'suffix': 'string'})\n",
    "\n",
    "#clean (convert sequence to int, omit NaN's)\n",
    "result['sequence'] = pd.to_numeric(result['sequence'], errors='ignore').astype(pd.Int16Dtype())\n",
    "result = result[result['sequence'] != \"NaN\"]\n",
    "\n",
    "#get mention id\n",
    "result['mention'] = result.apply(lambda x: \"US\" + str(x.patent) + \"-\" + str(x.sequence), axis=1)\n",
    "#result.set_index('mention', inplace=True)\n",
    "\n",
    "#find duplicates and create slice for re-assigning sequence number manually\n",
    "todo = result[result.mention.duplicated(keep=False)].copy()\n",
    "finished = result[result.mention.duplicated(keep=False) == False].copy()"
   ]
  },
  {
   "cell_type": "code",
   "execution_count": null,
   "metadata": {},
   "outputs": [],
   "source": [
    "#reading in raw_inventor (and sorting for efficiency)\n",
    "rawinventor = pd.read_csv(\"data/rawinventor.tsv\", sep=\"\\t\", usecols=[\"patent_id\", \"sequence\", \"name_first\", \"name_last\"], dtype={\"patent_id\": \"string\", \"sequence\": \"int16\", \"name_first\": \"string\", \"name_last\": \"string\"})\n",
    "rawinventor.set_index(['patent_id', 'sequence'], inplace=True)\n",
    "rawinventor.sort_index(inplace=True)\n",
    "rawinventor"
   ]
  },
  {
   "cell_type": "code",
   "execution_count": 57,
   "metadata": {},
   "outputs": [
    {
     "data": {
      "text/html": [
       "<div>\n",
       "<style scoped>\n",
       "    .dataframe tbody tr th:only-of-type {\n",
       "        vertical-align: middle;\n",
       "    }\n",
       "\n",
       "    .dataframe tbody tr th {\n",
       "        vertical-align: top;\n",
       "    }\n",
       "\n",
       "    .dataframe thead th {\n",
       "        text-align: right;\n",
       "    }\n",
       "</style>\n",
       "<table border=\"1\" class=\"dataframe\">\n",
       "  <thead>\n",
       "    <tr style=\"text-align: right;\">\n",
       "      <th></th>\n",
       "      <th>name_first</th>\n",
       "      <th>name_last</th>\n",
       "    </tr>\n",
       "    <tr>\n",
       "      <th>sequence</th>\n",
       "      <th></th>\n",
       "      <th></th>\n",
       "    </tr>\n",
       "  </thead>\n",
       "  <tbody>\n",
       "    <tr>\n",
       "      <th>0</th>\n",
       "      <td>C. -H.</td>\n",
       "      <td>Chang</td>\n",
       "    </tr>\n",
       "    <tr>\n",
       "      <th>1</th>\n",
       "      <td>Claude F.</td>\n",
       "      <td>Meares</td>\n",
       "    </tr>\n",
       "    <tr>\n",
       "      <th>2</th>\n",
       "      <td>C.-H</td>\n",
       "      <td>Chang</td>\n",
       "    </tr>\n",
       "  </tbody>\n",
       "</table>\n",
       "</div>"
      ],
      "text/plain": [
       "         name_first name_last\n",
       "sequence                     \n",
       "0            C. -H.     Chang\n",
       "1         Claude F.    Meares\n",
       "2              C.-H     Chang"
      ]
     },
     "execution_count": 57,
     "metadata": {},
     "output_type": "execute_result"
    }
   ],
   "source": [
    "#for fixing manually pt. 1\n",
    "todo.sort_values('patent', inplace=True)\n",
    "todo.reset_index(inplace=True)\n",
    "counter = 0\n",
    "patent = todo.patent.loc[counter]\n",
    "rawinventor.loc[patent]"
   ]
  },
  {
   "cell_type": "code",
   "execution_count": 79,
   "metadata": {},
   "outputs": [
    {
     "name": "stdout",
     "output_type": "stream",
     "text": [
      "6830895\n"
     ]
    },
    {
     "data": {
      "text/html": [
       "<div>\n",
       "<style scoped>\n",
       "    .dataframe tbody tr th:only-of-type {\n",
       "        vertical-align: middle;\n",
       "    }\n",
       "\n",
       "    .dataframe tbody tr th {\n",
       "        vertical-align: top;\n",
       "    }\n",
       "\n",
       "    .dataframe thead th {\n",
       "        text-align: right;\n",
       "    }\n",
       "</style>\n",
       "<table border=\"1\" class=\"dataframe\">\n",
       "  <thead>\n",
       "    <tr style=\"text-align: right;\">\n",
       "      <th></th>\n",
       "      <th>name_first</th>\n",
       "      <th>name_last</th>\n",
       "    </tr>\n",
       "    <tr>\n",
       "      <th>sequence</th>\n",
       "      <th></th>\n",
       "      <th></th>\n",
       "    </tr>\n",
       "  </thead>\n",
       "  <tbody>\n",
       "    <tr>\n",
       "      <th>0</th>\n",
       "      <td>Gordon A.</td>\n",
       "      <td>Andrews</td>\n",
       "    </tr>\n",
       "    <tr>\n",
       "      <th>1</th>\n",
       "      <td>Joseph E.</td>\n",
       "      <td>Smith</td>\n",
       "    </tr>\n",
       "  </tbody>\n",
       "</table>\n",
       "</div>"
      ],
      "text/plain": [
       "         name_first name_last\n",
       "sequence                     \n",
       "0         Gordon A.   Andrews\n",
       "1         Joseph E.     Smith"
      ]
     },
     "execution_count": 79,
     "metadata": {},
     "output_type": "execute_result"
    }
   ],
   "source": [
    "#for fixing manually pt. 2\n",
    "counter += 2\n",
    "patent = todo.patent.loc[counter]\n",
    "print(patent)\n",
    "rawinventor.loc[patent]"
   ]
  },
  {
   "cell_type": "code",
   "execution_count": 33,
   "metadata": {},
   "outputs": [],
   "source": [
    "#writing to csv for manual inspection\n",
    "todo.to_csv('todo.csv')"
   ]
  },
  {
   "cell_type": "code",
   "execution_count": 91,
   "metadata": {},
   "outputs": [],
   "source": [
    "#reading cleaned dataframe\n",
    "done = pd.read_csv('todo.csv', index_col = 0)\n",
    "\n",
    "#clean (convert sequence to int, omit NaN's)\n",
    "done['sequence'] = pd.to_numeric(done['sequence'], errors='ignore').astype(pd.Int16Dtype())\n",
    "done = done[done['sequence'] != \"NaN\"]\n",
    "\n",
    "#drop existing duplicates (beyond our control)\n",
    "done.drop_duplicates(inplace=True)\n",
    "\n",
    "#writing mention\n",
    "done['mention'] = done.apply(lambda x: \"US\" + str(x.patent) + \"-\" + str(x.sequence), axis=1)"
   ]
  },
  {
   "cell_type": "code",
   "execution_count": 101,
   "metadata": {},
   "outputs": [],
   "source": [
    "#concatenating with already correct (non duplicated) rows and saving dataframe\n",
    "final = pd.concat([finished, done])\n",
    "final.set_index('mention')\n",
    "final.to_csv('data/autosequence_cleaned.csv')"
   ]
  }
 ],
 "metadata": {
  "interpreter": {
   "hash": "aee8b7b246df8f9039afb4144a1f6fd8d2ca17a180786b69acc140d282b71a49"
  },
  "kernelspec": {
   "display_name": "Python 3.10.4 64-bit",
   "language": "python",
   "name": "python3"
  },
  "language_info": {
   "codemirror_mode": {
    "name": "ipython",
    "version": 3
   },
   "file_extension": ".py",
   "mimetype": "text/x-python",
   "name": "python",
   "nbconvert_exporter": "python",
   "pygments_lexer": "ipython3",
   "version": "3.10.4"
  },
  "orig_nbformat": 4
 },
 "nbformat": 4,
 "nbformat_minor": 2
}
