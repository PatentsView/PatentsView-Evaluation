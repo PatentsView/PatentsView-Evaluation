{
 "cells": [
  {
   "cell_type": "markdown",
   "metadata": {},
   "source": [
    "### Get Inventor Sequence Number\n",
    "This document walks through the get-inventor-sequence-number class to describe the methodology, data cleaning, and performance metrics. Here are the datasets we are working with:"
   ]
  },
  {
   "cell_type": "markdown",
   "metadata": {},
   "source": [
    "**patents_2005_012.tsv:** patent-inventor instances containing inventor information such as:\n",
    "- **id11:** inventor cluster identifier\n",
    "- **patent:** patent identifier\n",
    "- **fname:** first name\n",
    "- **mname:** middle name\n",
    "- **lname:** last name\n",
    "- **suffix:** suffix\n",
    "- other inventor information including location\n",
    "\n",
    "**rawinventor.tsv:** second dataset with patent-inventor instances containing sequence number\n",
    "- **patent_id:** patent identifier\n",
    "- **name_first:** first name\n",
    "- **name_last:** last name\n",
    "- **sequence:** sequence number\n",
    "\n",
    "**eval_als.txt:** manual disambiguation of patent-inventor instances\n",
    "- **mention_id:** mention identifier for patent-inventor instances following \"US_PatentNumber-SequenceNumber\" (ie. US5294443-0)\n",
    "- **cluster_id:** inventor cluster identifier to define a like inventor between patent-inventor instances"
   ]
  },
  {
   "cell_type": "markdown",
   "metadata": {},
   "source": [
    "### Objective"
   ]
  },
  {
   "cell_type": "markdown",
   "metadata": {},
   "source": [
    "The patents_2005_012.tsv dataset does not include the sequence number of inventors on a given patent. This is how Patents-View indexes patent-inventor instances, a necessary component to organizing the data. We will obtain this information by cross-referencing the names in patents_2005_012.tsv with names on the same patent in rawinventor.tsv.\n",
    "\n",
    "There are several difficulties, as name instances are not guaranteed matches. For example, \"G. Kenneth Adams 3rd\" in patents_2005_012.tsv exists as \"George K. Adams, III\" in the rawinventor.tsv. The get_sequence function attempts to compare our inventor's name in patents_2005_012.tsv with all inventors of the same patent in rawinventor.tsv. If a close match is found, the sequence number is returned."
   ]
  },
  {
   "cell_type": "markdown",
   "metadata": {},
   "source": [
    "### Package Imports"
   ]
  },
  {
   "cell_type": "code",
   "execution_count": null,
   "metadata": {},
   "outputs": [],
   "source": [
    "!pip install git+https://github.com/OlivierBinette/StringCompare.git@release"
   ]
  },
  {
   "cell_type": "code",
   "execution_count": 4,
   "metadata": {},
   "outputs": [],
   "source": [
    "import stringcompare\n",
    "import pandas as pd\n",
    "import numpy as np\n",
    "import wget\n",
    "import zipfile\n",
    "import os\n",
    "\n",
    "if not os.path.isfile(\"input/rawinventor.tsv\"):\n",
    "    wget.download(\"https://s3.amazonaws.com/data.patentsview.org/download/rawinventor.tsv.zip\")\n",
    "    with zipfile.ZipFile(\"rawinventor.tsv.zip\", 'r') as zip_ref:\n",
    "        zip_ref.extractall(\".\")\n",
    "    os.remove(\"rawinventor.tsv.zip\")"
   ]
  },
  {
   "cell_type": "markdown",
   "metadata": {},
   "source": [
    "### Data Imports"
   ]
  },
  {
   "cell_type": "markdown",
   "metadata": {},
   "source": [
    "First we have the **rawinventor.tsv** file. Attribute information is listed above. We have set and sorted the index of rawinventor.tsv to speed up execution since our execution makes a large amount of **patent_id** lookups in this dataframe."
   ]
  },
  {
   "cell_type": "code",
   "execution_count": null,
   "metadata": {},
   "outputs": [],
   "source": [
    "rawinventor = pd.read_csv(\"input/rawinventor.tsv\", sep=\"\\t\", usecols=[\"patent_id\", \"sequence\", \"name_first\", \"name_last\"], \n",
    "    dtype={\"patent_id\": \"string\", \"sequence\": \"int16\", \"name_first\": \"string\", \"name_last\": \"string\"})\n",
    "rawinventor.set_index(['patent_id', 'sequence'], inplace=True)\n",
    "rawinventor.sort_index(inplace=True)\n",
    "rawinventor.head(10)"
   ]
  },
  {
   "cell_type": "markdown",
   "metadata": {},
   "source": [
    "Next is the **patents_2005_012.tsv** file (attribute information listed above):"
   ]
  },
  {
   "cell_type": "code",
   "execution_count": null,
   "metadata": {},
   "outputs": [],
   "source": [
    "patents_2005_012 = pd.read_csv(\"patents_2005_012.tsv\", sep=\"\\t\", usecols=[\"patent\", \"fname\", \"mname\", \"lname\", \"suffix\"], dtype=\"string\")\n",
    "patents_2005_012.head(10)"
   ]
  },
  {
   "cell_type": "markdown",
   "metadata": {},
   "source": [
    "### Functions"
   ]
  },
  {
   "cell_type": "markdown",
   "metadata": {},
   "source": [
    "**get_word()** is used in cases where the entire name is not a match. In these cases, **get_sequence()** attempts to compare the \"first word\" (substring before first whitespace) of the names in **rawinventor.tsv** with the \"first word\" of the name in **patents_2005_012.tsv**."
   ]
  },
  {
   "cell_type": "code",
   "execution_count": null,
   "metadata": {},
   "outputs": [],
   "source": [
    "def get_word(name):\n",
    "    index = name.find(' ')\n",
    "    if(index != -1):\n",
    "        return name[0: index]\n",
    "    else:\n",
    "        return name"
   ]
  },
  {
   "cell_type": "markdown",
   "metadata": {},
   "source": [
    "**get_sequence()** is the main function used in this class. For a single patent_id and name, it returns the sequence number for the nearest string match found. If no close match is found, it returns \"NaN\". Note the **autosequence_log** variable which logs information when **get_sequence()** detects a possibility for error."
   ]
  },
  {
   "cell_type": "code",
   "execution_count": 14,
   "metadata": {},
   "outputs": [],
   "source": [
    "comparator = stringcompare.Levenshtein()\n",
    "\n",
    "def get_sequence(patent_id, name_first, name_last, name_middle, suffix):\n",
    "\n",
    "    if patent_id in rawinventor.index:\n",
    "        #combined names\n",
    "        first_half = name_first\n",
    "        second_half = name_last\n",
    "\n",
    "        #concat middle name/initial\n",
    "        if name_middle != \"&\":\n",
    "            first_half += \" \" + name_middle\n",
    "\n",
    "        #concat suffix\n",
    "        if suffix != \"&\":\n",
    "            if suffix == \"2nd\":\n",
    "                suffix = \"II\"\n",
    "            elif suffix == \"3rd\":\n",
    "                suffix = \"III\"\n",
    "            second_half += \" \" + suffix\n",
    "\n",
    "        #computing string distances\n",
    "        dat = rawinventor.loc[patent_id]\n",
    "        last_distances = comparator.pairwise([second_half.lower()], dat.name_last.str.lower().values)[0]\n",
    "        first_distances = comparator.pairwise([first_half.lower()], dat.name_first.str.lower().values)[0]\n",
    "\n",
    "        #one last name match\n",
    "        if sum(last_distances == 0) == 1: \n",
    "            return np.argmin(last_distances)\n",
    "\n",
    "        #multiple last name matches\n",
    "        elif sum(last_distances == 0) > 1:\n",
    "            return np.argmin(first_distances)\n",
    "\n",
    "        #close matches\n",
    "        elif sum(last_distances < 0.2) >= 1:\n",
    "            #record close data to close_match and return sequence number\n",
    "            index = np.argmin(last_distances + first_distances)\n",
    "            dict = {'patent_id': patent_id, 'name_last': second_half, 'name_first': first_half, 'index': index, \n",
    "                'referenced_last': dat.name_last[index], 'referenced_first': dat.name_first[index], 'type': \"Close Match\"}\n",
    "            autosequence_log.append(dict)\n",
    "            return index\n",
    "        \n",
    "        #vague matches\n",
    "        elif sum(last_distances < 0.3) >= 1 or sum(first_distances < 0.3) >= 1:\n",
    "            #record vague data to vague_match and return sequence number\n",
    "            index = np.argmin(last_distances + first_distances)\n",
    "            dict = {'patent_id': patent_id, 'name_last': second_half, 'name_first': first_half, 'index': index, \n",
    "                'referenced_last': dat.name_last[index], 'referenced_first': dat.name_first[index], 'type': \"Vague Match\"}\n",
    "            autosequence_log.append(dict)\n",
    "            return index\n",
    "\n",
    "        #no matches for full word comparison\n",
    "        else:\n",
    "            #get first word for each name\n",
    "            firsts = dat.apply(lambda x: get_word(x.name_first), axis=1)\n",
    "            lasts = dat.apply(lambda x: get_word(x.name_last), axis=1)\n",
    "            name_last = get_word(name_last)\n",
    "            name_first = get_word(name_first)\n",
    "            \n",
    "            #recompute string distances\n",
    "            last_distances = comparator.pairwise([name_last.lower()], lasts.str.lower().values)[0]\n",
    "            first_distances = comparator.pairwise([name_first.lower()], firsts.str.lower().values)[0]\n",
    "\n",
    "            #check if first word matches -> half match, otherwise no match\n",
    "            if sum(last_distances < 0.2) >= 1 and sum(first_distances < 0.2) >= 1:\n",
    "                #record half word data to half_match and return sequence number\n",
    "                index = np.argmin(last_distances + first_distances)\n",
    "                dict = {'patent_id': patent_id, 'name_last': second_half, 'name_first': first_half, 'index': index, \n",
    "                    'referenced_last': dat.name_last[index], 'referenced_first': dat.name_first[index], 'type': \"Half Match\"}\n",
    "                autosequence_log.append(dict)\n",
    "                return index\n",
    "            else:\n",
    "                #still record data but return \"NaN\"\n",
    "                index = np.argmin(last_distances + first_distances)\n",
    "                dict = {'patent_id': patent_id, 'name_last': second_half, 'name_first': first_half, 'index': index, \n",
    "                    'referenced_last': dat.name_last[index], 'referenced_first': dat.name_first[index], 'type': \"No Match\"}\n",
    "                autosequence_log.append(dict)\n",
    "                return \"NaN\"\n",
    "    else:\n",
    "        #if key is not present in rawinventors.tsv\n",
    "        dict = {'type': \"No Match\"}\n",
    "        autosequence_log.append(dict)\n",
    "        return \"NaN\""
   ]
  },
  {
   "cell_type": "markdown",
   "metadata": {},
   "source": [
    "### Execution\n",
    "We use **pandas.apply()** to run **get_sequence()** row-wise on **patents_2005_012.tsv**. Dependent on your machine and the size of your data files, this process could take a long time."
   ]
  },
  {
   "cell_type": "code",
   "execution_count": 16,
   "metadata": {},
   "outputs": [],
   "source": [
    "if not os.path.isfile(\"output/autosequence.csv\"):\n",
    "    autosequence_log = []\n",
    "    patents_2005_012[\"sequence\"] = patents_2005_012.apply(lambda x: get_sequence(x.patent, x.fname, x.lname, x.mname, x.suffix), axis=1)\n",
    "    patents_2005_012.to_csv(\"output/autosequence.csv\")\n",
    "    results = pd.DataFrame(autosequence_log)\n",
    "    results.to_csv(\"output/autosequence_log.csv\")"
   ]
  },
  {
   "cell_type": "markdown",
   "metadata": {},
   "source": [
    "### Results\n",
    "**patents_2005_012.tsv** is 142619 rows long. After executing our code, **get_sequence()** attributed the following counts to each category for our match 'type':"
   ]
  },
  {
   "cell_type": "code",
   "execution_count": 14,
   "metadata": {},
   "outputs": [
    {
     "data": {
      "text/plain": [
       "Close Match    2598\n",
       "Vague Match    1682\n",
       "No Match        214\n",
       "Half Match      107\n",
       "Name: type, dtype: int64"
      ]
     },
     "execution_count": 14,
     "metadata": {},
     "output_type": "execute_result"
    }
   ],
   "source": [
    "#results = pd.read_csv('output/autosequence_log.csv')\n",
    "results.type.value_counts()"
   ]
  },
  {
   "cell_type": "markdown",
   "metadata": {},
   "source": [
    "Not reported in this table, there were 138018 'Exact Matches' (can be found by taking the difference between our dataframe length and our logged results length) reported by **get_sequence()**.\n",
    "\n",
    "Of the 214 'No Match' cases, we attribute 51 to 'No Key Error' where the 'patent' in **patents_2005_012.tsv** did not exist in **rawinventor.tsv**. The other 163 cases will require manual review to disambiguate as **get_sequence()** could not accurately determine the sequence number."
   ]
  }
 ],
 "metadata": {
  "interpreter": {
   "hash": "aee8b7b246df8f9039afb4144a1f6fd8d2ca17a180786b69acc140d282b71a49"
  },
  "kernelspec": {
   "display_name": "Python 3.10.4 64-bit",
   "language": "python",
   "name": "python3"
  },
  "language_info": {
   "codemirror_mode": {
    "name": "ipython",
    "version": 3
   },
   "file_extension": ".py",
   "mimetype": "text/x-python",
   "name": "python",
   "nbconvert_exporter": "python",
   "pygments_lexer": "ipython3",
   "version": "3.10.4"
  },
  "orig_nbformat": 4
 },
 "nbformat": 4,
 "nbformat_minor": 2
}
