{
 "cells": [
  {
   "cell_type": "code",
   "execution_count": null,
   "metadata": {},
   "outputs": [],
   "source": [
    "!pip install git+https://github.com/OlivierBinette/StringCompare.git@release"
   ]
  },
  {
   "cell_type": "code",
   "execution_count": 1,
   "metadata": {},
   "outputs": [],
   "source": [
    "import stringcompare\n",
    "import pandas as pd\n",
    "import numpy as np\n",
    "import wget\n",
    "import zipfile\n",
    "import os\n",
    "from timeit import timeit\n",
    "\n",
    "if not os.path.isfile(\"rawinventor.tsv\"):\n",
    "    wget.download(\"https://s3.amazonaws.com/data.patentsview.org/download/rawinventor.tsv.zip\")\n",
    "    with zipfile.ZipFile(\"rawinventor.tsv.zip\", 'r') as zip_ref:\n",
    "        zip_ref.extractall(\".\")\n",
    "    os.remove(\"rawinventor.tsv.zip\")"
   ]
  },
  {
   "cell_type": "code",
   "execution_count": 2,
   "metadata": {},
   "outputs": [
    {
     "data": {
      "text/html": [
       "<div>\n",
       "<style scoped>\n",
       "    .dataframe tbody tr th:only-of-type {\n",
       "        vertical-align: middle;\n",
       "    }\n",
       "\n",
       "    .dataframe tbody tr th {\n",
       "        vertical-align: top;\n",
       "    }\n",
       "\n",
       "    .dataframe thead th {\n",
       "        text-align: right;\n",
       "    }\n",
       "</style>\n",
       "<table border=\"1\" class=\"dataframe\">\n",
       "  <thead>\n",
       "    <tr style=\"text-align: right;\">\n",
       "      <th></th>\n",
       "      <th>patent_id</th>\n",
       "      <th>name_first</th>\n",
       "      <th>name_last</th>\n",
       "      <th>sequence</th>\n",
       "    </tr>\n",
       "  </thead>\n",
       "  <tbody>\n",
       "    <tr>\n",
       "      <th>0</th>\n",
       "      <td>6584128</td>\n",
       "      <td>Richard</td>\n",
       "      <td>Kroeger</td>\n",
       "      <td>0</td>\n",
       "    </tr>\n",
       "    <tr>\n",
       "      <th>1</th>\n",
       "      <td>4789863</td>\n",
       "      <td>Thomas A.</td>\n",
       "      <td>Bush</td>\n",
       "      <td>0</td>\n",
       "    </tr>\n",
       "    <tr>\n",
       "      <th>2</th>\n",
       "      <td>11161990</td>\n",
       "      <td>Matthew F.</td>\n",
       "      <td>Boudreaux</td>\n",
       "      <td>1</td>\n",
       "    </tr>\n",
       "    <tr>\n",
       "      <th>3</th>\n",
       "      <td>6795487</td>\n",
       "      <td>Gerald</td>\n",
       "      <td>Whitworth</td>\n",
       "      <td>1</td>\n",
       "    </tr>\n",
       "    <tr>\n",
       "      <th>4</th>\n",
       "      <td>D474886</td>\n",
       "      <td>Thomas W.</td>\n",
       "      <td>Fleming</td>\n",
       "      <td>0</td>\n",
       "    </tr>\n",
       "    <tr>\n",
       "      <th>...</th>\n",
       "      <td>...</td>\n",
       "      <td>...</td>\n",
       "      <td>...</td>\n",
       "      <td>...</td>\n",
       "    </tr>\n",
       "    <tr>\n",
       "      <th>19632552</th>\n",
       "      <td>10261193</td>\n",
       "      <td>Harald</td>\n",
       "      <td>Doppke</td>\n",
       "      <td>2</td>\n",
       "    </tr>\n",
       "    <tr>\n",
       "      <th>19632553</th>\n",
       "      <td>5441952</td>\n",
       "      <td>David A.</td>\n",
       "      <td>Claremon</td>\n",
       "      <td>0</td>\n",
       "    </tr>\n",
       "    <tr>\n",
       "      <th>19632554</th>\n",
       "      <td>4828281</td>\n",
       "      <td>David K.</td>\n",
       "      <td>Sanchas</td>\n",
       "      <td>0</td>\n",
       "    </tr>\n",
       "    <tr>\n",
       "      <th>19632555</th>\n",
       "      <td>10541390</td>\n",
       "      <td>Hitoshi</td>\n",
       "      <td>Yonemura</td>\n",
       "      <td>0</td>\n",
       "    </tr>\n",
       "    <tr>\n",
       "      <th>19632556</th>\n",
       "      <td>4831297</td>\n",
       "      <td>Jeffrey R.</td>\n",
       "      <td>Repp</td>\n",
       "      <td>1</td>\n",
       "    </tr>\n",
       "  </tbody>\n",
       "</table>\n",
       "<p>19632557 rows × 4 columns</p>\n",
       "</div>"
      ],
      "text/plain": [
       "         patent_id  name_first  name_last  sequence\n",
       "0          6584128     Richard    Kroeger         0\n",
       "1          4789863   Thomas A.       Bush         0\n",
       "2         11161990  Matthew F.  Boudreaux         1\n",
       "3          6795487      Gerald  Whitworth         1\n",
       "4          D474886   Thomas W.    Fleming         0\n",
       "...            ...         ...        ...       ...\n",
       "19632552  10261193      Harald     Doppke         2\n",
       "19632553   5441952    David A.   Claremon         0\n",
       "19632554   4828281    David K.    Sanchas         0\n",
       "19632555  10541390     Hitoshi   Yonemura         0\n",
       "19632556   4831297  Jeffrey R.       Repp         1\n",
       "\n",
       "[19632557 rows x 4 columns]"
      ]
     },
     "execution_count": 2,
     "metadata": {},
     "output_type": "execute_result"
    }
   ],
   "source": [
    "rawinventor = pd.read_csv(\"rawinventor.tsv\", sep=\"\\t\", usecols=[\"patent_id\", \"sequence\", \"name_first\", \"name_last\"], dtype={\"patent_id\": \"string\", \"sequence\": \"int16\", \"name_first\": \"string\", \"name_last\": \"string\"})\n",
    "rawinventor"
   ]
  },
  {
   "cell_type": "code",
   "execution_count": 3,
   "metadata": {},
   "outputs": [],
   "source": [
    "rawinventor.set_index(['patent_id', 'sequence'], inplace=True)\n",
    "rawinventor.sort_index(inplace=True)"
   ]
  },
  {
   "cell_type": "code",
   "execution_count": 4,
   "metadata": {},
   "outputs": [
    {
     "data": {
      "text/html": [
       "<div>\n",
       "<style scoped>\n",
       "    .dataframe tbody tr th:only-of-type {\n",
       "        vertical-align: middle;\n",
       "    }\n",
       "\n",
       "    .dataframe tbody tr th {\n",
       "        vertical-align: top;\n",
       "    }\n",
       "\n",
       "    .dataframe thead th {\n",
       "        text-align: right;\n",
       "    }\n",
       "</style>\n",
       "<table border=\"1\" class=\"dataframe\">\n",
       "  <thead>\n",
       "    <tr style=\"text-align: right;\">\n",
       "      <th></th>\n",
       "      <th></th>\n",
       "      <th>name_first</th>\n",
       "      <th>name_last</th>\n",
       "    </tr>\n",
       "    <tr>\n",
       "      <th>patent_id</th>\n",
       "      <th>sequence</th>\n",
       "      <th></th>\n",
       "      <th></th>\n",
       "    </tr>\n",
       "  </thead>\n",
       "  <tbody>\n",
       "    <tr>\n",
       "      <th>10000000</th>\n",
       "      <th>0</th>\n",
       "      <td>Joseph</td>\n",
       "      <td>Marron</td>\n",
       "    </tr>\n",
       "    <tr>\n",
       "      <th rowspan=\"2\" valign=\"top\">10000001</th>\n",
       "      <th>0</th>\n",
       "      <td>Sun-Woo</td>\n",
       "      <td>Lee</td>\n",
       "    </tr>\n",
       "    <tr>\n",
       "      <th>1</th>\n",
       "      <td>Hyeon-Jae</td>\n",
       "      <td>Yu</td>\n",
       "    </tr>\n",
       "    <tr>\n",
       "      <th rowspan=\"2\" valign=\"top\">10000002</th>\n",
       "      <th>0</th>\n",
       "      <td>Yun-Jo</td>\n",
       "      <td>Kim</td>\n",
       "    </tr>\n",
       "    <tr>\n",
       "      <th>1</th>\n",
       "      <td>Si-Min</td>\n",
       "      <td>Kim</td>\n",
       "    </tr>\n",
       "    <tr>\n",
       "      <th>...</th>\n",
       "      <th>...</th>\n",
       "      <td>...</td>\n",
       "      <td>...</td>\n",
       "    </tr>\n",
       "    <tr>\n",
       "      <th rowspan=\"3\" valign=\"top\">T999002</th>\n",
       "      <th>0</th>\n",
       "      <td>Henry C.</td>\n",
       "      <td>Twiggs</td>\n",
       "    </tr>\n",
       "    <tr>\n",
       "      <th>1</th>\n",
       "      <td>James L.</td>\n",
       "      <td>Suggs</td>\n",
       "    </tr>\n",
       "    <tr>\n",
       "      <th>2</th>\n",
       "      <td>Dan F.</td>\n",
       "      <td>Buck</td>\n",
       "    </tr>\n",
       "    <tr>\n",
       "      <th rowspan=\"2\" valign=\"top\">T999003</th>\n",
       "      <th>0</th>\n",
       "      <td>John A.</td>\n",
       "      <td>Ford</td>\n",
       "    </tr>\n",
       "    <tr>\n",
       "      <th>1</th>\n",
       "      <td>Gregory J.</td>\n",
       "      <td>Lestina</td>\n",
       "    </tr>\n",
       "  </tbody>\n",
       "</table>\n",
       "<p>19632557 rows × 2 columns</p>\n",
       "</div>"
      ],
      "text/plain": [
       "                    name_first name_last\n",
       "patent_id sequence                      \n",
       "10000000  0             Joseph    Marron\n",
       "10000001  0            Sun-Woo       Lee\n",
       "          1          Hyeon-Jae        Yu\n",
       "10000002  0             Yun-Jo       Kim\n",
       "          1             Si-Min       Kim\n",
       "...                        ...       ...\n",
       "T999002   0           Henry C.    Twiggs\n",
       "          1           James L.     Suggs\n",
       "          2             Dan F.      Buck\n",
       "T999003   0            John A.      Ford\n",
       "          1         Gregory J.   Lestina\n",
       "\n",
       "[19632557 rows x 2 columns]"
      ]
     },
     "execution_count": 4,
     "metadata": {},
     "output_type": "execute_result"
    }
   ],
   "source": [
    "rawinventor"
   ]
  },
  {
   "cell_type": "code",
   "execution_count": null,
   "metadata": {},
   "outputs": [],
   "source": []
  },
  {
   "cell_type": "code",
   "execution_count": 78,
   "metadata": {},
   "outputs": [
    {
     "data": {
      "text/plain": [
       "sequence\n",
       "0    Twiggs\n",
       "1     Suggs\n",
       "2      Buck\n",
       "Name: name_last, dtype: string"
      ]
     },
     "execution_count": 78,
     "metadata": {},
     "output_type": "execute_result"
    }
   ],
   "source": [
    "dat = rawinventor.loc['T999002']\n",
    "lasts = []\n",
    "first = []\n",
    "\n",
    "dat.name_last"
   ]
  },
  {
   "cell_type": "code",
   "execution_count": 62,
   "metadata": {},
   "outputs": [],
   "source": [
    "comparator = stringcompare.Levenshtein()\n",
    "\n",
    "#need to figure out the best way to do this\n",
    "def get_sequence(patent_id, name_first, name_last, name_middle, suffix):\n",
    "\n",
    "    if patent_id in rawinventor.index:\n",
    "        #combined names\n",
    "        first_half = name_first\n",
    "        second_half = name_last\n",
    "\n",
    "        #concat middle name/initial\n",
    "        if name_middle != \"&\":\n",
    "            first_half += \" \" + name_middle\n",
    "\n",
    "        #concat suffix\n",
    "        if suffix != \"&\":\n",
    "            if suffix == \"2nd\":\n",
    "                suffix == \"II\"\n",
    "            elif suffix == \"3rd\":\n",
    "                suffix == \"III\"\n",
    "            second_half += \" \" + suffix\n",
    "\n",
    "        #dat = rawinventor[rawinventor.patent_id == patent_id]\n",
    "        dat = rawinventor.loc[patent_id]\n",
    "        last_distances = comparator.pairwise([second_half.lower()], dat.name_last.str.lower().values)[0]\n",
    "        first_distances = comparator.pairwise([first_half.lower()], dat.name_first.str.lower().values)[0]\n",
    "\n",
    "        #one last name match\n",
    "        if sum(last_distances == 0) == 1: \n",
    "            return np.argmin(last_distances)\n",
    "\n",
    "        #multiple last name matches\n",
    "        elif sum(last_distances == 0) > 1:\n",
    "            return np.argmin(first_distances)\n",
    "\n",
    "        #close matches\n",
    "        elif sum(last_distances < 0.2) >= 1:\n",
    "            #record close data to close_match and return sequence number\n",
    "            index = np.argmin(last_distances + first_distances)\n",
    "            dict = {'patent_id': patent_id, 'name_last': name_last, 'name_first': name_first, 'index': index, 'table': dat}\n",
    "            close_match.append(dict)\n",
    "            return index\n",
    "        \n",
    "        #vague matches\n",
    "        elif sum(last_distances < 0.3) >= 1 or sum(first_distances < 0.3) >= 1:\n",
    "            #record vague data to vague_match and return sequence number\n",
    "            index = np.argmin(last_distances + first_distances)\n",
    "            dict = {'patent_id': patent_id, 'name_last': name_last, 'name_first': name_first, 'index': index, 'table': dat}\n",
    "            vague_match.append(dict)\n",
    "            return index\n",
    "\n",
    "        #no matches\n",
    "        else:\n",
    "            #just get first word for each\n",
    "            \n",
    "            last_distances = comparator.pairwise([name_last.lower()], dat.name_last.str.lower().values)[0]\n",
    "            first_distances = comparator.pairwise([name_first.lower()], dat.name_first.str.lower().values)[0]\n",
    "\n",
    "\n",
    "            #still record data but return \"NaN\"\n",
    "            index = np.argmin(last_distances + first_distances)\n",
    "            dict = {'patent_id': patent_id, 'name_last': name_last, 'name_first': name_first, 'index': index, 'table': dat}\n",
    "            no_match.append(dict)\n",
    "            return \"NaN\"\n",
    "    else:\n",
    "        no_key.append(patent_id)\n",
    "        return \"NaN\"\n",
    "        "
   ]
  },
  {
   "cell_type": "code",
   "execution_count": 64,
   "metadata": {},
   "outputs": [
    {
     "name": "stdout",
     "output_type": "stream",
     "text": [
      "<class 'pandas.core.frame.DataFrame'>\n",
      "Int64Index: 1000 entries, 26648 to 41942\n",
      "Data columns (total 5 columns):\n",
      " #   Column  Non-Null Count  Dtype \n",
      "---  ------  --------------  ----- \n",
      " 0   patent  1000 non-null   string\n",
      " 1   fname   1000 non-null   string\n",
      " 2   mname   1000 non-null   string\n",
      " 3   lname   1000 non-null   string\n",
      " 4   suffix  1000 non-null   string\n",
      "dtypes: string(5)\n",
      "memory usage: 46.9 KB\n"
     ]
    }
   ],
   "source": [
    "#lai_benchmark = pd.read_excel(\"benchmark.xlsx\", dtype=str).iloc[3:, :]\n",
    "lai_benchmark = pd.read_csv(\"patents_2005_012.tsv\", sep=\"\\t\", usecols=[\"patent\", \"fname\", \"mname\", \"lname\", \"suffix\"], dtype=\"string\").sample(1000)\n",
    "lai_benchmark.info()"
   ]
  },
  {
   "cell_type": "code",
   "execution_count": null,
   "metadata": {},
   "outputs": [],
   "source": [
    "no_key = []\n",
    "close_match = []\n",
    "vague_match = []\n",
    "no_match = []\n",
    "lai_benchmark[\"sequence\"] = lai_benchmark.apply(lambda x: get_sequence(x.patent, x.fname, x.lname, x.mname, x.suffix), axis=1)"
   ]
  },
  {
   "cell_type": "code",
   "execution_count": 63,
   "metadata": {},
   "outputs": [],
   "source": [
    "lai_benchmark.to_csv(\"patents_2005_012_autosequence.csv\")"
   ]
  },
  {
   "cell_type": "code",
   "execution_count": 57,
   "metadata": {},
   "outputs": [
    {
     "name": "stdout",
     "output_type": "stream",
     "text": [
      "Close Match Size: 13\n",
      "Vague Match Size 5\n",
      "No Match Size: 9\n",
      "No Key Size: 0\n"
     ]
    }
   ],
   "source": [
    "#look at results\n",
    "print(\"Close Match Size:\", len(close_match))\n",
    "print(\"Vague Match Size\", len(vague_match))\n",
    "print(\"No Match Size:\", len(no_match))\n",
    "print(\"No Key Size:\", len(no_key))"
   ]
  },
  {
   "cell_type": "code",
   "execution_count": 61,
   "metadata": {},
   "outputs": [
    {
     "data": {
      "text/plain": [
       "{'patent_id': '5825448',\n",
       " 'name_last': 'Glenn Jr.',\n",
       " 'name_first': 'William E.',\n",
       " 'index': 3,\n",
       " 'table':           name_first          name_last\n",
       " sequence                               \n",
       " 0          Philip J.                Bos\n",
       " 1            Jianmin               Chen\n",
       " 2           David L.  Johnson, deceased\n",
       " 3         William E.              Glenn\n",
       " 4          Carvel E.             Holton\n",
       " 5           Brett E.              Smith}"
      ]
     },
     "execution_count": 61,
     "metadata": {},
     "output_type": "execute_result"
    }
   ],
   "source": [
    "no_match[1]"
   ]
  }
 ],
 "metadata": {
  "interpreter": {
   "hash": "aee8b7b246df8f9039afb4144a1f6fd8d2ca17a180786b69acc140d282b71a49"
  },
  "kernelspec": {
   "display_name": "Python 3.10.4 64-bit",
   "language": "python",
   "name": "python3"
  },
  "language_info": {
   "codemirror_mode": {
    "name": "ipython",
    "version": 3
   },
   "file_extension": ".py",
   "mimetype": "text/x-python",
   "name": "python",
   "nbconvert_exporter": "python",
   "pygments_lexer": "ipython3",
   "version": "3.10.4"
  },
  "orig_nbformat": 4
 },
 "nbformat": 4,
 "nbformat_minor": 2
}
