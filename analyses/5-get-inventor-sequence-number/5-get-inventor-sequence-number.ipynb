{
 "cells": [
  {
   "cell_type": "code",
   "execution_count": 1,
   "metadata": {},
   "outputs": [
    {
     "name": "stdout",
     "output_type": "stream",
     "text": [
      "Collecting git+https://github.com/OlivierBinette/StringCompare.git@release\n",
      "  Cloning https://github.com/OlivierBinette/StringCompare.git (to revision release) to /tmp/pip-req-build-hoeq7xfk\n",
      "  Running command git clone -q https://github.com/OlivierBinette/StringCompare.git /tmp/pip-req-build-hoeq7xfk\n",
      "  Running command git checkout -b release --track origin/release\n",
      "  Switched to a new branch 'release'\n",
      "  Branch 'release' set up to track remote branch 'release' from 'origin'.\n",
      "  Resolved https://github.com/OlivierBinette/StringCompare.git to commit e3c3fead4b62dfa68248c0717c9c4c0f2a4e6f10\n",
      "  Installing build dependencies ... \u001b[?25ldone\n",
      "\u001b[?25h  Getting requirements to build wheel ... \u001b[?25ldone\n",
      "\u001b[?25h    Preparing wheel metadata ... \u001b[?25ldone\n",
      "\u001b[?25hRequirement already satisfied: numpy in /home/ubuntu/miniconda3/envs/pv-evaluation/lib/python3.7/site-packages (from stringcompare==0.1.0) (1.21.6)\n",
      "Requirement already satisfied: pybind11 in /home/ubuntu/miniconda3/envs/pv-evaluation/lib/python3.7/site-packages (from stringcompare==0.1.0) (2.9.2)\n"
     ]
    }
   ],
   "source": [
    "!pip install git+https://github.com/OlivierBinette/StringCompare.git@release"
   ]
  },
  {
   "cell_type": "code",
   "execution_count": 2,
   "metadata": {},
   "outputs": [],
   "source": [
    "import stringcompare\n",
    "import pandas as pd\n",
    "import numpy as np\n",
    "import wget\n",
    "import zipfile\n",
    "import os\n",
    "\n",
    "if not os.path.isfile(\"rawinventor.tsv\"):\n",
    "    wget.download(\"https://s3.amazonaws.com/data.patentsview.org/download/rawinventor.tsv.zip\")\n",
    "    with zipfile.ZipFile(\"rawinventor.tsv.zip\", 'r') as zip_ref:\n",
    "        zip_ref.extractall(\".\")\n",
    "    os.remove(\"rawinventor.tsv.zip\")"
   ]
  },
  {
   "cell_type": "code",
   "execution_count": 3,
   "metadata": {},
   "outputs": [],
   "source": [
    "rawinventor = pd.read_csv(\"rawinventor.tsv\", sep=\"\\t\", dtype=str, usecols=[\"patent_id\", \"sequence\", \"inventor_id\", \"name_first\", \"name_last\"])"
   ]
  },
  {
   "cell_type": "code",
   "execution_count": 11,
   "metadata": {},
   "outputs": [
    {
     "data": {
      "text/html": [
       "<div>\n",
       "<style scoped>\n",
       "    .dataframe tbody tr th:only-of-type {\n",
       "        vertical-align: middle;\n",
       "    }\n",
       "\n",
       "    .dataframe tbody tr th {\n",
       "        vertical-align: top;\n",
       "    }\n",
       "\n",
       "    .dataframe thead th {\n",
       "        text-align: right;\n",
       "    }\n",
       "</style>\n",
       "<table border=\"1\" class=\"dataframe\">\n",
       "  <thead>\n",
       "    <tr style=\"text-align: right;\">\n",
       "      <th></th>\n",
       "      <th>patent_id</th>\n",
       "      <th>inventor_id</th>\n",
       "      <th>name_first</th>\n",
       "      <th>name_last</th>\n",
       "      <th>sequence</th>\n",
       "    </tr>\n",
       "  </thead>\n",
       "  <tbody>\n",
       "    <tr>\n",
       "      <th>0</th>\n",
       "      <td>6584128</td>\n",
       "      <td>fl:ri_ln:kroeger-1</td>\n",
       "      <td>Richard</td>\n",
       "      <td>Kroeger</td>\n",
       "      <td>0</td>\n",
       "    </tr>\n",
       "    <tr>\n",
       "      <th>1</th>\n",
       "      <td>4789863</td>\n",
       "      <td>fl:th_ln:bush-1</td>\n",
       "      <td>Thomas A.</td>\n",
       "      <td>Bush</td>\n",
       "      <td>0</td>\n",
       "    </tr>\n",
       "    <tr>\n",
       "      <th>2</th>\n",
       "      <td>11161990</td>\n",
       "      <td>fl:ma_ln:boudreaux-4</td>\n",
       "      <td>Matthew F.</td>\n",
       "      <td>Boudreaux</td>\n",
       "      <td>1</td>\n",
       "    </tr>\n",
       "    <tr>\n",
       "      <th>3</th>\n",
       "      <td>6795487</td>\n",
       "      <td>fl:ge_ln:whitworth-1</td>\n",
       "      <td>Gerald</td>\n",
       "      <td>Whitworth</td>\n",
       "      <td>1</td>\n",
       "    </tr>\n",
       "    <tr>\n",
       "      <th>4</th>\n",
       "      <td>D474886</td>\n",
       "      <td>fl:th_ln:fleming-3</td>\n",
       "      <td>Thomas W.</td>\n",
       "      <td>Fleming</td>\n",
       "      <td>0</td>\n",
       "    </tr>\n",
       "    <tr>\n",
       "      <th>...</th>\n",
       "      <td>...</td>\n",
       "      <td>...</td>\n",
       "      <td>...</td>\n",
       "      <td>...</td>\n",
       "      <td>...</td>\n",
       "    </tr>\n",
       "    <tr>\n",
       "      <th>19632552</th>\n",
       "      <td>10261193</td>\n",
       "      <td>fl:ha_ln:doppke-1</td>\n",
       "      <td>Harald</td>\n",
       "      <td>Doppke</td>\n",
       "      <td>2</td>\n",
       "    </tr>\n",
       "    <tr>\n",
       "      <th>19632553</th>\n",
       "      <td>5441952</td>\n",
       "      <td>fl:da_ln:claremon-1</td>\n",
       "      <td>David A.</td>\n",
       "      <td>Claremon</td>\n",
       "      <td>0</td>\n",
       "    </tr>\n",
       "    <tr>\n",
       "      <th>19632554</th>\n",
       "      <td>4828281</td>\n",
       "      <td>zzzzquzhq278y507kbtfikz9b</td>\n",
       "      <td>David K.</td>\n",
       "      <td>Sanchas</td>\n",
       "      <td>0</td>\n",
       "    </tr>\n",
       "    <tr>\n",
       "      <th>19632555</th>\n",
       "      <td>10541390</td>\n",
       "      <td>fl:hi_ln:yonemura-3</td>\n",
       "      <td>Hitoshi</td>\n",
       "      <td>Yonemura</td>\n",
       "      <td>0</td>\n",
       "    </tr>\n",
       "    <tr>\n",
       "      <th>19632556</th>\n",
       "      <td>4831297</td>\n",
       "      <td>fl:je_ln:repp-3</td>\n",
       "      <td>Jeffrey R.</td>\n",
       "      <td>Repp</td>\n",
       "      <td>1</td>\n",
       "    </tr>\n",
       "  </tbody>\n",
       "</table>\n",
       "<p>19632557 rows × 5 columns</p>\n",
       "</div>"
      ],
      "text/plain": [
       "         patent_id                inventor_id  name_first  name_last sequence\n",
       "0          6584128         fl:ri_ln:kroeger-1     Richard    Kroeger        0\n",
       "1          4789863            fl:th_ln:bush-1   Thomas A.       Bush        0\n",
       "2         11161990       fl:ma_ln:boudreaux-4  Matthew F.  Boudreaux        1\n",
       "3          6795487       fl:ge_ln:whitworth-1      Gerald  Whitworth        1\n",
       "4          D474886         fl:th_ln:fleming-3   Thomas W.    Fleming        0\n",
       "...            ...                        ...         ...        ...      ...\n",
       "19632552  10261193          fl:ha_ln:doppke-1      Harald     Doppke        2\n",
       "19632553   5441952        fl:da_ln:claremon-1    David A.   Claremon        0\n",
       "19632554   4828281  zzzzquzhq278y507kbtfikz9b    David K.    Sanchas        0\n",
       "19632555  10541390        fl:hi_ln:yonemura-3     Hitoshi   Yonemura        0\n",
       "19632556   4831297            fl:je_ln:repp-3  Jeffrey R.       Repp        1\n",
       "\n",
       "[19632557 rows x 5 columns]"
      ]
     },
     "execution_count": 11,
     "metadata": {},
     "output_type": "execute_result"
    }
   ],
   "source": [
    "rawinventor"
   ]
  },
  {
   "cell_type": "code",
   "execution_count": 4,
   "metadata": {},
   "outputs": [],
   "source": [
    "comparator = stringcompare.Levenshtein()\n",
    "\n",
    "def get_sequence(patent_id, name_first, name_last):\n",
    "    dat = rawinventor[rawinventor.patent_id == patent_id]\n",
    "    distances = comparator.pairwise([name_last.lower()], dat.name_last.str.lower().values)[0]\n",
    "    if sum(distances == 0) == 1 or sum(distances < 0.2) == 1: \n",
    "        return dat.sequence.values[np.argmin(distances)]\n",
    "    else:\n",
    "        return \"NaN\""
   ]
  },
  {
   "cell_type": "code",
   "execution_count": 5,
   "metadata": {},
   "outputs": [],
   "source": [
    "lai_benchmark = pd.read_excel(\"benchmark.xlsx\", dtype=str).iloc[3:, :]"
   ]
  },
  {
   "cell_type": "code",
   "execution_count": 6,
   "metadata": {},
   "outputs": [],
   "source": [
    "lai_benchmark[\"sequence\"] = lai_benchmark.apply(lambda x: get_sequence(x.Patent, x.Firstname, x.Lastname), axis=1)"
   ]
  },
  {
   "cell_type": "code",
   "execution_count": 8,
   "metadata": {},
   "outputs": [],
   "source": [
    "lai_benchmark.to_csv(\"benchmark_auto_sequence.csv\")"
   ]
  }
 ],
 "metadata": {
  "interpreter": {
   "hash": "135eb778a123b23717215bebe642ebc480e0ab0e1bc583cf4971f84281f0b229"
  },
  "kernelspec": {
   "display_name": "Python 3.7.13 ('pv-evaluation': conda)",
   "language": "python",
   "name": "python3"
  },
  "language_info": {
   "codemirror_mode": {
    "name": "ipython",
    "version": 3
   },
   "file_extension": ".py",
   "mimetype": "text/x-python",
   "name": "python",
   "nbconvert_exporter": "python",
   "pygments_lexer": "ipython3",
   "version": "3.7.13"
  },
  "orig_nbformat": 4
 },
 "nbformat": 4,
 "nbformat_minor": 2
}
