{
 "cells": [
  {
   "cell_type": "code",
   "execution_count": 2,
   "metadata": {},
   "outputs": [],
   "source": [
    "import pandas as pd\n",
    "\n",
    "from pv_evaluation.metrics import cluster_precision_recall\n",
    "from pv_evaluation.benchmark import inspect_clusters_to_split"
   ]
  },
  {
   "cell_type": "code",
   "execution_count": 3,
   "metadata": {},
   "outputs": [
    {
     "data": {
      "text/plain": [
       "mention\n",
       "US5294443-0       0\n",
       "US6207855-1       1\n",
       "US5767288-2       2\n",
       "US4996481-1       3\n",
       "US6727070-0       4\n",
       "               ... \n",
       "US5150706-0     493\n",
       "US7556935-2    1516\n",
       "US8405044-1    2534\n",
       "US7088104-0    1517\n",
       "US6068972-0     528\n",
       "Name: cluster, Length: 41347, dtype: int16"
      ]
     },
     "execution_count": 3,
     "metadata": {},
     "output_type": "execute_result"
    }
   ],
   "source": [
    "ref = pd.read_csv('data/eval_als.txt', sep='\\t', header=None, names=['mention', 'cluster'], dtype={'mention': 'string', 'cluster': 'int16'})\n",
    "ref['mention'] = ref.apply(lambda x: \"US\" + x.mention, axis=1)\n",
    "\n",
    "#convert to series\n",
    "ref.set_index('mention', inplace=True)\n",
    "ref_series = ref.iloc[:, 0]\n",
    "ref_series"
   ]
  },
  {
   "cell_type": "code",
   "execution_count": 4,
   "metadata": {},
   "outputs": [
    {
     "name": "stdout",
     "output_type": "stream",
     "text": [
      "<class 'pandas.core.series.Series'>\n",
      "Index: 142400 entries, US6205043-1 to US6830895-1\n",
      "Series name: id11\n",
      "Non-Null Count   Dtype\n",
      "--------------   -----\n",
      "142400 non-null  int64\n",
      "dtypes: int64(1)\n",
      "memory usage: 2.2+ MB\n"
     ]
    }
   ],
   "source": [
    "#loading result and id datasets for merge\n",
    "pred_result = pd.read_csv('data/autosequence_cleaned.csv', index_col = 0)\n",
    "pred_result['sequence'] = pd.to_numeric(pred_result['sequence'], errors='coerce').astype(pd.Int16Dtype())\n",
    "pred_id = pd.read_csv('data/patents_2005_012.tsv', sep='\\t', usecols=['id11', 'patent', 'fname', 'mname', 'lname', 'suffix'])\n",
    "pred_id.drop_duplicates(inplace=True)\n",
    "\n",
    "#join\n",
    "pred = pd.merge(pred_result, pred_id, on=['patent', 'fname', 'mname', 'lname', 'suffix'])\n",
    "\n",
    "#convert to series\n",
    "pred.set_index('mention', inplace=True)\n",
    "pred_series = pred['id11']\n",
    "pred_series.info()"
   ]
  },
  {
   "cell_type": "code",
   "execution_count": 14,
   "metadata": {},
   "outputs": [
    {
     "data": {
      "text/plain": [
       "patent      6495023\n",
       "fname       Gregory\n",
       "mname            J.\n",
       "lname        Zeikus\n",
       "suffix            &\n",
       "sequence          0\n",
       "id11          60228\n",
       "Name: US6495023-0, dtype: object"
      ]
     },
     "execution_count": 14,
     "metadata": {},
     "output_type": "execute_result"
    }
   ],
   "source": [
    "pred.loc['US6495023-0']"
   ]
  },
  {
   "cell_type": "code",
   "execution_count": 15,
   "metadata": {},
   "outputs": [
    {
     "data": {
      "text/plain": [
       "patent      4352885\n",
       "fname        Joseph\n",
       "mname       Gregory\n",
       "lname        Zeikus\n",
       "suffix            &\n",
       "sequence          0\n",
       "id11          60231\n",
       "Name: US4352885-0, dtype: object"
      ]
     },
     "execution_count": 15,
     "metadata": {},
     "output_type": "execute_result"
    }
   ],
   "source": [
    "pred.loc['US4352885-0']"
   ]
  },
  {
   "cell_type": "code",
   "execution_count": 5,
   "metadata": {},
   "outputs": [
    {
     "name": "stdout",
     "output_type": "stream",
     "text": [
      "Predicted index duplicates: 0\n",
      "Reference index duplicates: 0\n"
     ]
    }
   ],
   "source": [
    "print(\"Predicted index duplicates:\", pred_series.index.duplicated().sum())\n",
    "print(\"Reference index duplicates:\", ref_series.index.duplicated().sum())"
   ]
  },
  {
   "cell_type": "code",
   "execution_count": 11,
   "metadata": {},
   "outputs": [
    {
     "name": "stdout",
     "output_type": "stream",
     "text": [
      "Pred length: 142400\n",
      "Ref length: 41347\n",
      "Join length: 22650\n"
     ]
    }
   ],
   "source": [
    "print(\"Pred length:\", len(pred_series))\n",
    "print(\"Ref length:\", len(ref_series))\n",
    "print(\"Join length:\", len(join))"
   ]
  },
  {
   "cell_type": "code",
   "execution_count": 5,
   "metadata": {},
   "outputs": [
    {
     "name": "stdout",
     "output_type": "stream",
     "text": [
      "(0.9997167941093175, 0.9963057686842853)\n"
     ]
    }
   ],
   "source": [
    "join = pd.concat({\"pred\":pred_series, \"ref\":ref_series}, axis=1, join=\"inner\")\n",
    "\n",
    "print(cluster_precision_recall(join.pred, join.ref))"
   ]
  },
  {
   "cell_type": "code",
   "execution_count": 6,
   "metadata": {},
   "outputs": [
    {
     "data": {
      "text/plain": [
       "22650"
      ]
     },
     "execution_count": 6,
     "metadata": {},
     "output_type": "execute_result"
    }
   ],
   "source": [
    "len(join)"
   ]
  },
  {
   "cell_type": "code",
   "execution_count": 13,
   "metadata": {},
   "outputs": [
    {
     "data": {
      "text/html": [
       "<div>\n",
       "<style scoped>\n",
       "    .dataframe tbody tr th:only-of-type {\n",
       "        vertical-align: middle;\n",
       "    }\n",
       "\n",
       "    .dataframe tbody tr th {\n",
       "        vertical-align: top;\n",
       "    }\n",
       "\n",
       "    .dataframe thead th {\n",
       "        text-align: right;\n",
       "    }\n",
       "</style>\n",
       "<table border=\"1\" class=\"dataframe\">\n",
       "  <thead>\n",
       "    <tr style=\"text-align: right;\">\n",
       "      <th></th>\n",
       "      <th>reference</th>\n",
       "      <th>prediction</th>\n",
       "    </tr>\n",
       "    <tr>\n",
       "      <th>mention</th>\n",
       "      <th></th>\n",
       "      <th></th>\n",
       "    </tr>\n",
       "  </thead>\n",
       "  <tbody>\n",
       "    <tr>\n",
       "      <th>US5656497-0</th>\n",
       "      <td>25</td>\n",
       "      <td>60231</td>\n",
       "    </tr>\n",
       "    <tr>\n",
       "      <th>US4737459-0</th>\n",
       "      <td>25</td>\n",
       "      <td>60231</td>\n",
       "    </tr>\n",
       "    <tr>\n",
       "      <th>US5980890-1</th>\n",
       "      <td>25</td>\n",
       "      <td>60231</td>\n",
       "    </tr>\n",
       "    <tr>\n",
       "      <th>US5908924-1</th>\n",
       "      <td>25</td>\n",
       "      <td>60231</td>\n",
       "    </tr>\n",
       "    <tr>\n",
       "      <th>US6495023-0</th>\n",
       "      <td>25</td>\n",
       "      <td>60228</td>\n",
       "    </tr>\n",
       "    <tr>\n",
       "      <th>...</th>\n",
       "      <td>...</td>\n",
       "      <td>...</td>\n",
       "    </tr>\n",
       "    <tr>\n",
       "      <th>US5459317-0</th>\n",
       "      <td>3061</td>\n",
       "      <td>49630</td>\n",
       "    </tr>\n",
       "    <tr>\n",
       "      <th>US6534062-2</th>\n",
       "      <td>3097</td>\n",
       "      <td>44221</td>\n",
       "    </tr>\n",
       "    <tr>\n",
       "      <th>US6686462-4</th>\n",
       "      <td>3097</td>\n",
       "      <td>44222</td>\n",
       "    </tr>\n",
       "    <tr>\n",
       "      <th>US6111071-0</th>\n",
       "      <td>3262</td>\n",
       "      <td>17617</td>\n",
       "    </tr>\n",
       "    <tr>\n",
       "      <th>US5456912-1</th>\n",
       "      <td>3262</td>\n",
       "      <td>17618</td>\n",
       "    </tr>\n",
       "  </tbody>\n",
       "</table>\n",
       "<p>111 rows × 2 columns</p>\n",
       "</div>"
      ],
      "text/plain": [
       "             reference  prediction\n",
       "mention                           \n",
       "US5656497-0         25       60231\n",
       "US4737459-0         25       60231\n",
       "US5980890-1         25       60231\n",
       "US5908924-1         25       60231\n",
       "US6495023-0         25       60228\n",
       "...                ...         ...\n",
       "US5459317-0       3061       49630\n",
       "US6534062-2       3097       44221\n",
       "US6686462-4       3097       44222\n",
       "US6111071-0       3262       17617\n",
       "US5456912-1       3262       17618\n",
       "\n",
       "[111 rows x 2 columns]"
      ]
     },
     "execution_count": 13,
     "metadata": {},
     "output_type": "execute_result"
    }
   ],
   "source": [
    "from pv_evaluation.benchmark import inspect_clusters_to_merge\n",
    "\n",
    "inspect_clusters_to_merge(join.pred, join.ref)"
   ]
  }
 ],
 "metadata": {
  "interpreter": {
   "hash": "aee8b7b246df8f9039afb4144a1f6fd8d2ca17a180786b69acc140d282b71a49"
  },
  "kernelspec": {
   "display_name": "Python 3.10.4 64-bit",
   "language": "python",
   "name": "python3"
  },
  "language_info": {
   "codemirror_mode": {
    "name": "ipython",
    "version": 3
   },
   "file_extension": ".py",
   "mimetype": "text/x-python",
   "name": "python",
   "nbconvert_exporter": "python",
   "pygments_lexer": "ipython3",
   "version": "3.10.4"
  },
  "orig_nbformat": 4
 },
 "nbformat": 4,
 "nbformat_minor": 2
}
