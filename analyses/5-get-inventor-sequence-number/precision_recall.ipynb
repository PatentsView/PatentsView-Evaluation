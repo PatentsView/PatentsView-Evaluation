{
 "cells": [
  {
   "cell_type": "code",
   "execution_count": 1,
   "metadata": {},
   "outputs": [],
   "source": [
    "import pandas as pd\n",
    "import sys\n",
    "\n",
    "sys.path.insert(0, '/Users/sengineer/Documents/GitHub/PatentsView-Evaluation/pv_evaluation/metrics')\n",
    "from cluster import cluster_precision_recall"
   ]
  },
  {
   "cell_type": "code",
   "execution_count": 2,
   "metadata": {},
   "outputs": [
    {
     "data": {
      "text/plain": [
       "mention\n",
       "US5294443-0       0\n",
       "US6207855-1       1\n",
       "US5767288-2       2\n",
       "US4996481-1       3\n",
       "US6727070-0       4\n",
       "               ... \n",
       "US5150706-0     493\n",
       "US7556935-2    1516\n",
       "US8405044-1    2534\n",
       "US7088104-0    1517\n",
       "US6068972-0     528\n",
       "Name: cluster, Length: 41347, dtype: int16"
      ]
     },
     "execution_count": 2,
     "metadata": {},
     "output_type": "execute_result"
    }
   ],
   "source": [
    "ref = pd.read_csv('data/eval_als.txt', sep='\\t', header=None, names=['mention', 'cluster'], dtype={'mention': 'string', 'cluster': 'int16'})\n",
    "ref['mention'] = ref.apply(lambda x: \"US\" + x.mention, axis=1)\n",
    "\n",
    "#convert to series\n",
    "ref.set_index('mention', inplace=True)\n",
    "ref_series = ref.iloc[:, 0]\n",
    "ref_series"
   ]
  },
  {
   "cell_type": "code",
   "execution_count": 18,
   "metadata": {},
   "outputs": [
    {
     "data": {
      "text/plain": [
       "mention\n",
       "US6205043-1        1\n",
       "US6434031-1        1\n",
       "US6583702-1        1\n",
       "US6423491-1        2\n",
       "US4184768-1        3\n",
       "               ...  \n",
       "US6723088-1    17241\n",
       "US6811612-4    28601\n",
       "US6829498-3    40943\n",
       "US6829498-4    41841\n",
       "US6830895-1    49818\n",
       "Name: id11, Length: 142400, dtype: int64"
      ]
     },
     "execution_count": 18,
     "metadata": {},
     "output_type": "execute_result"
    }
   ],
   "source": [
    "#loading result and id datasets for merge\n",
    "pred_result = pd.read_csv('data/autosequence_cleaned.csv', index_col = 0)\n",
    "pred_result['sequence'] = pd.to_numeric(pred_result['sequence'], errors='coerce').astype(pd.Int16Dtype())\n",
    "pred_id = pd.read_csv('data/patents_2005_012.tsv', sep='\\t', usecols=['id11', 'patent', 'fname', 'mname', 'lname', 'suffix'])\n",
    "pred_id.drop_duplicates(inplace=True)\n",
    "\n",
    "#join\n",
    "pred = pd.merge(pred_result, pred_id, on=['patent', 'fname', 'mname', 'lname', 'suffix'])\n",
    "\n",
    "#convert to series\n",
    "pred.set_index('mention', inplace=True)\n",
    "pred_series = pred['id11']\n",
    "pred_series"
   ]
  },
  {
   "cell_type": "code",
   "execution_count": 19,
   "metadata": {},
   "outputs": [
    {
     "name": "stdout",
     "output_type": "stream",
     "text": [
      "Predicted index duplicates: 0\n",
      "Reference index duplicates: 0\n"
     ]
    }
   ],
   "source": [
    "print(\"Predicted index duplicates:\", pred_series.index.duplicated().sum())\n",
    "print(\"Reference index duplicates:\", ref_series.index.duplicated().sum())"
   ]
  },
  {
   "cell_type": "code",
   "execution_count": 20,
   "metadata": {},
   "outputs": [
    {
     "name": "stdout",
     "output_type": "stream",
     "text": [
      "(0.05977174980527617, 0.7391946025722117)\n"
     ]
    }
   ],
   "source": [
    "print(cluster_precision_recall(pred_series, ref_series))"
   ]
  }
 ],
 "metadata": {
  "interpreter": {
   "hash": "aee8b7b246df8f9039afb4144a1f6fd8d2ca17a180786b69acc140d282b71a49"
  },
  "kernelspec": {
   "display_name": "Python 3.10.4 64-bit",
   "language": "python",
   "name": "python3"
  },
  "language_info": {
   "codemirror_mode": {
    "name": "ipython",
    "version": 3
   },
   "file_extension": ".py",
   "mimetype": "text/x-python",
   "name": "python",
   "nbconvert_exporter": "python",
   "pygments_lexer": "ipython3",
   "version": "3.10.4"
  },
  "orig_nbformat": 4
 },
 "nbformat": 4,
 "nbformat_minor": 2
}
