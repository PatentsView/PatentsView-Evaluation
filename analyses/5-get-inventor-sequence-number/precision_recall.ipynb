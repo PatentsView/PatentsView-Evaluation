{
 "cells": [
  {
   "cell_type": "markdown",
   "metadata": {},
   "source": [
    "### Precision and Recall Analysis\n",
    "The final step of this class is to test our disambiguation against the **eval_als.txt** dataset (reference)."
   ]
  },
  {
   "cell_type": "markdown",
   "metadata": {},
   "source": [
    "### Package imports"
   ]
  },
  {
   "cell_type": "code",
   "execution_count": 1,
   "metadata": {},
   "outputs": [],
   "source": [
    "import pandas as pd\n",
    "\n",
    "from pv_evaluation.metrics import cluster_precision_recall\n",
    "from pv_evaluation.benchmark import inspect_clusters_to_split\n",
    "from pv_evaluation.benchmark import inspect_clusters_to_merge"
   ]
  },
  {
   "cell_type": "markdown",
   "metadata": {},
   "source": [
    "### Data Imports\n",
    "Loading in the reference dataset and formatting into a series."
   ]
  },
  {
   "cell_type": "code",
   "execution_count": 99,
   "metadata": {},
   "outputs": [
    {
     "name": "stdout",
     "output_type": "stream",
     "text": [
      "0\n"
     ]
    },
    {
     "data": {
      "text/plain": [
       "mention\n",
       "US5294443-0       0\n",
       "US6207855-1       1\n",
       "US5767288-2       2\n",
       "US4996481-1       3\n",
       "US6727070-0       4\n",
       "               ... \n",
       "US5150706-0     493\n",
       "US7556935-2    1516\n",
       "US8405044-1    2534\n",
       "US7088104-0    1517\n",
       "US6068972-0     528\n",
       "Name: cluster, Length: 41347, dtype: int16"
      ]
     },
     "execution_count": 99,
     "metadata": {},
     "output_type": "execute_result"
    }
   ],
   "source": [
    "ref = pd.read_csv('input/eval_als.txt', sep='\\t', header=None, names=['mention', 'cluster'], dtype={'mention': 'string', 'cluster': 'int16'})\n",
    "ref['mention'] = ref.apply(lambda x: \"US\" + x.mention, axis=1)\n",
    "\n",
    "#convert to series\n",
    "ref.set_index('mention', inplace=True)\n",
    "ref_series = ref.iloc[:, 0]\n",
    "ref_series"
   ]
  },
  {
   "cell_type": "markdown",
   "metadata": {},
   "source": [
    "Loading in our prediction dataset and formatting into a series. We have to join it with our initial **patents_2005_012.tsv** because we previously dropped 'id11'. Our final series uses the newly derived 'mention' id and 'id11' for the cluster id"
   ]
  },
  {
   "cell_type": "code",
   "execution_count": 100,
   "metadata": {},
   "outputs": [
    {
     "data": {
      "text/plain": [
       "mention\n",
       "US6205043-1        1\n",
       "US6434031-1        1\n",
       "US6583702-1        1\n",
       "US6423491-1        2\n",
       "US4184768-1        3\n",
       "               ...  \n",
       "US6723088-1    17241\n",
       "US6811612-4    28601\n",
       "US6829498-3    40943\n",
       "US6829498-4    41841\n",
       "US6830895-1    49818\n",
       "Name: id11, Length: 142522, dtype: int64"
      ]
     },
     "execution_count": 100,
     "metadata": {},
     "output_type": "execute_result"
    }
   ],
   "source": [
    "#loading result and id datasets for merge\n",
    "pred_mention_id = pd.read_csv('output/autosequence_cleaned.csv', dtype=\"string\")\n",
    "pred_cluster_id = pd.read_csv('input/patents_2005_012.tsv', sep='\\t', usecols=['id11', 'patent', 'fname', 'mname', 'lname', 'suffix'], \n",
    "    dtype=\"string\")\n",
    "\n",
    "#join to match mention_id with cluster_id\n",
    "pred_cluster_id.drop_duplicates(inplace=True)\n",
    "pred = pd.merge(pred_mention_id, pred_cluster_id, on=['patent', 'fname', 'mname', 'lname', 'suffix'])\n",
    "\n",
    "#convert to series\n",
    "pred['id11'] = pd.to_numeric(pred['id11'])\n",
    "pred.set_index('mention', inplace=True)\n",
    "pred_series = pred['id11']\n",
    "pred_series"
   ]
  },
  {
   "cell_type": "markdown",
   "metadata": {},
   "source": [
    "### Testing\n",
    "Calculating our precision and recall values. Note that we could only calculate this on a fraction of our dataset since the overlap between **eval_als.txt** and **patents_2005_012.tsv** is small."
   ]
  },
  {
   "cell_type": "code",
   "execution_count": 111,
   "metadata": {},
   "outputs": [
    {
     "name": "stdout",
     "output_type": "stream",
     "text": [
      "(0.9997167941093175, 0.9963057686842853)\n"
     ]
    }
   ],
   "source": [
    "join = pd.concat({'pred': pred_series, 'ref': ref_series}, axis=1, join=\"inner\")\n",
    "\n",
    "print(cluster_precision_recall(join.pred, join.ref))"
   ]
  },
  {
   "cell_type": "code",
   "execution_count": 112,
   "metadata": {},
   "outputs": [
    {
     "name": "stdout",
     "output_type": "stream",
     "text": [
      "Pred length: 142522\n",
      "Ref length: 41347\n",
      "Join length: 22652\n"
     ]
    }
   ],
   "source": [
    "print(\"Pred length:\", len(pred_series))\n",
    "print(\"Ref length:\", len(ref_series))\n",
    "print(\"Join length:\", len(join))"
   ]
  },
  {
   "cell_type": "markdown",
   "metadata": {},
   "source": [
    "### Output\n",
    "Writing cases where there are inconsistencies between our two disambiguations."
   ]
  },
  {
   "cell_type": "code",
   "execution_count": 154,
   "metadata": {},
   "outputs": [
    {
     "data": {
      "text/html": [
       "<div>\n",
       "<style scoped>\n",
       "    .dataframe tbody tr th:only-of-type {\n",
       "        vertical-align: middle;\n",
       "    }\n",
       "\n",
       "    .dataframe tbody tr th {\n",
       "        vertical-align: top;\n",
       "    }\n",
       "\n",
       "    .dataframe thead th {\n",
       "        text-align: right;\n",
       "    }\n",
       "</style>\n",
       "<table border=\"1\" class=\"dataframe\">\n",
       "  <thead>\n",
       "    <tr style=\"text-align: right;\">\n",
       "      <th></th>\n",
       "      <th>reference</th>\n",
       "      <th>prediction</th>\n",
       "      <th>info</th>\n",
       "    </tr>\n",
       "    <tr>\n",
       "      <th>mention</th>\n",
       "      <th></th>\n",
       "      <th></th>\n",
       "      <th></th>\n",
       "    </tr>\n",
       "  </thead>\n",
       "  <tbody>\n",
       "    <tr>\n",
       "      <th>US5656497-0</th>\n",
       "      <td>25</td>\n",
       "      <td>60231</td>\n",
       "      <td>{'fname': 'Joseph', 'mname': 'Gregory', 'lname...</td>\n",
       "    </tr>\n",
       "    <tr>\n",
       "      <th>US6495023-0</th>\n",
       "      <td>25</td>\n",
       "      <td>60228</td>\n",
       "      <td>{'fname': 'Gregory', 'mname': 'J.', 'lname': '...</td>\n",
       "    </tr>\n",
       "    <tr>\n",
       "      <th>US6270649-0</th>\n",
       "      <td>25</td>\n",
       "      <td>60231</td>\n",
       "      <td>{'fname': 'Joseph', 'mname': 'Gregory', 'lname...</td>\n",
       "    </tr>\n",
       "    <tr>\n",
       "      <th>US5980890-1</th>\n",
       "      <td>25</td>\n",
       "      <td>60231</td>\n",
       "      <td>{'fname': 'Joseph', 'mname': 'Gregory', 'lname...</td>\n",
       "    </tr>\n",
       "    <tr>\n",
       "      <th>US5908924-1</th>\n",
       "      <td>25</td>\n",
       "      <td>60231</td>\n",
       "      <td>{'fname': 'Joseph', 'mname': 'Gregory', 'lname...</td>\n",
       "    </tr>\n",
       "    <tr>\n",
       "      <th>...</th>\n",
       "      <td>...</td>\n",
       "      <td>...</td>\n",
       "      <td>...</td>\n",
       "    </tr>\n",
       "    <tr>\n",
       "      <th>US5459317-0</th>\n",
       "      <td>3061</td>\n",
       "      <td>49630</td>\n",
       "      <td>{'fname': 'Gary', 'mname': 'W.', 'lname': 'Sma...</td>\n",
       "    </tr>\n",
       "    <tr>\n",
       "      <th>US6534062-2</th>\n",
       "      <td>3097</td>\n",
       "      <td>44221</td>\n",
       "      <td>{'fname': 'Douglas', 'mname': '&amp;', 'lname': 'R...</td>\n",
       "    </tr>\n",
       "    <tr>\n",
       "      <th>US6686462-4</th>\n",
       "      <td>3097</td>\n",
       "      <td>44222</td>\n",
       "      <td>{'fname': 'Douglas', 'mname': 'D.', 'lname': '...</td>\n",
       "    </tr>\n",
       "    <tr>\n",
       "      <th>US6111071-0</th>\n",
       "      <td>3262</td>\n",
       "      <td>17617</td>\n",
       "      <td>{'fname': 'Eric', 'mname': '&amp;', 'lname': 'Gers...</td>\n",
       "    </tr>\n",
       "    <tr>\n",
       "      <th>US5456912-1</th>\n",
       "      <td>3262</td>\n",
       "      <td>17618</td>\n",
       "      <td>{'fname': 'M.', 'mname': 'Eric', 'lname': 'Ger...</td>\n",
       "    </tr>\n",
       "  </tbody>\n",
       "</table>\n",
       "<p>112 rows × 3 columns</p>\n",
       "</div>"
      ],
      "text/plain": [
       "             reference  prediction  \\\n",
       "mention                              \n",
       "US5656497-0         25       60231   \n",
       "US6495023-0         25       60228   \n",
       "US6270649-0         25       60231   \n",
       "US5980890-1         25       60231   \n",
       "US5908924-1         25       60231   \n",
       "...                ...         ...   \n",
       "US5459317-0       3061       49630   \n",
       "US6534062-2       3097       44221   \n",
       "US6686462-4       3097       44222   \n",
       "US6111071-0       3262       17617   \n",
       "US5456912-1       3262       17618   \n",
       "\n",
       "                                                          info  \n",
       "mention                                                         \n",
       "US5656497-0  {'fname': 'Joseph', 'mname': 'Gregory', 'lname...  \n",
       "US6495023-0  {'fname': 'Gregory', 'mname': 'J.', 'lname': '...  \n",
       "US6270649-0  {'fname': 'Joseph', 'mname': 'Gregory', 'lname...  \n",
       "US5980890-1  {'fname': 'Joseph', 'mname': 'Gregory', 'lname...  \n",
       "US5908924-1  {'fname': 'Joseph', 'mname': 'Gregory', 'lname...  \n",
       "...                                                        ...  \n",
       "US5459317-0  {'fname': 'Gary', 'mname': 'W.', 'lname': 'Sma...  \n",
       "US6534062-2  {'fname': 'Douglas', 'mname': '&', 'lname': 'R...  \n",
       "US6686462-4  {'fname': 'Douglas', 'mname': 'D.', 'lname': '...  \n",
       "US6111071-0  {'fname': 'Eric', 'mname': '&', 'lname': 'Gers...  \n",
       "US5456912-1  {'fname': 'M.', 'mname': 'Eric', 'lname': 'Ger...  \n",
       "\n",
       "[112 rows x 3 columns]"
      ]
     },
     "execution_count": 154,
     "metadata": {},
     "output_type": "execute_result"
    }
   ],
   "source": [
    "df = inspect_clusters_to_merge(join.pred, join.ref)\n",
    "info = []\n",
    "ref_head = []\n",
    "pred_head = []\n",
    "\n",
    "for index, dict in df.iterrows():\n",
    "    val = pred.loc[index]\n",
    "    info.append({'fname': val.fname, 'mname': val.mname, 'lname': val.lname, 'suffix': val.suffix})\n",
    "\n",
    "df['info'] = info\n",
    "df.to_csv('output/clusters.csv')\n",
    "df"
   ]
  }
 ],
 "metadata": {
  "interpreter": {
   "hash": "aee8b7b246df8f9039afb4144a1f6fd8d2ca17a180786b69acc140d282b71a49"
  },
  "kernelspec": {
   "display_name": "Python 3.10.4 64-bit",
   "language": "python",
   "name": "python3"
  },
  "language_info": {
   "codemirror_mode": {
    "name": "ipython",
    "version": 3
   },
   "file_extension": ".py",
   "mimetype": "text/x-python",
   "name": "python",
   "nbconvert_exporter": "python",
   "pygments_lexer": "ipython3",
   "version": "3.10.4"
  },
  "orig_nbformat": 4
 },
 "nbformat": 4,
 "nbformat_minor": 2
}
