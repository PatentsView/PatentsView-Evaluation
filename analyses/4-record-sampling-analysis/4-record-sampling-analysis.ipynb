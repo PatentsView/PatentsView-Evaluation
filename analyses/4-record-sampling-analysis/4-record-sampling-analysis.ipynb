{
 "cells": [
  {
   "cell_type": "code",
   "execution_count": 2,
   "metadata": {},
   "outputs": [],
   "source": [
    "import pandas as pd\n",
    "import numpy as np\n",
    "\n",
    "import wget\n",
    "import zipfile\n",
    "import os\n",
    "\n",
    "if not os.path.isfile(\"rawinventor.tsv\"):\n",
    "    wget.download(\"https://s3.amazonaws.com/data.patentsview.org/download/rawinventor.tsv.zip\")\n",
    "    with zipfile.ZipFile(\"rawinventor.tsv.zip\", 'r') as zip_ref:\n",
    "        zip_ref.extractall(\".\")\n",
    "    os.remove(\"rawinventor.tsv.zip\")\n",
    "\n",
    "rawinventor = pd.read_csv(\"rawinventor.tsv\", sep=\"\\t\")\n",
    "rawinventor[\"mention_id\"] = \"US\" + rawinventor.patent_id.astype(str) + \"-\" + rawinventor.sequence.astype(str)\n",
    "disambiguation = rawinventor.set_index(\"mention_id\")[\"inventor_id\"]"
   ]
  },
  {
   "cell_type": "code",
   "execution_count": 2,
   "metadata": {},
   "outputs": [],
   "source": [
    "benchmark = pd.read_csv(\"inventor_benchmark_binette_20.csv\", sep=\"\\t\").fillna(\"\").iloc[0:20, :]"
   ]
  },
  {
   "cell_type": "code",
   "execution_count": 3,
   "metadata": {},
   "outputs": [],
   "source": [
    "def lambd(x):\n",
    "    cluster = disambiguation[disambiguation == x.inventor_id].index.values\n",
    "    to_add = np.setdiff1d(x[\"add\"].split(\", \"), [\"\"])\n",
    "    cluster = np.append(cluster, to_add)\n",
    "    to_remove = np.setdiff1d([string.strip() for string in x[\"remove\"].split(\",\")], [\"\"])\n",
    "    if len(to_remove) > 0:\n",
    "        assert all(mention in cluster for mention in to_remove), f\"{to_remove[np.array([mention not in cluster for mention in to_remove])]}\"\n",
    "        cluster =  np.setdiff1d(cluster, to_remove)\n",
    "    return cluster"
   ]
  },
  {
   "cell_type": "code",
   "execution_count": 4,
   "metadata": {},
   "outputs": [],
   "source": [
    "true_clusters = benchmark.apply(lambd, axis=1)\n",
    "reference = pd.concat({\"inventor_id\":benchmark.inventor_id, \"mention_id\":true_clusters}, axis=1).explode(\"mention_id\").set_index(\"mention_id\")[\"inventor_id\"]"
   ]
  },
  {
   "cell_type": "code",
   "execution_count": 5,
   "metadata": {},
   "outputs": [
    {
     "data": {
      "text/plain": [
       "0.9759856470977679"
      ]
     },
     "execution_count": 5,
     "metadata": {},
     "output_type": "execute_result"
    }
   ],
   "source": [
    "from pv_evaluation.estimators import pairwise_precision_estimator, pairwise_precision_std\n",
    "\n",
    "pairwise_precision_estimator(disambiguation, reference, sampling_type=\"cluster_block\", weights=\"cluster_size\")"
   ]
  },
  {
   "cell_type": "code",
   "execution_count": 6,
   "metadata": {},
   "outputs": [
    {
     "data": {
      "text/plain": [
       "0.020129014582105607"
      ]
     },
     "execution_count": 6,
     "metadata": {},
     "output_type": "execute_result"
    }
   ],
   "source": [
    "pairwise_precision_std(disambiguation, reference, sampling_type=\"cluster_block\", weights=\"cluster_size\")"
   ]
  },
  {
   "cell_type": "markdown",
   "metadata": {},
   "source": [
    "## Emma results 2022-06-22"
   ]
  },
  {
   "cell_type": "code",
   "execution_count": 7,
   "metadata": {},
   "outputs": [],
   "source": [
    "benchmark = pd.read_excel(\"2022-06-22-Emma_pantentSample.xlsx\").fillna(\"\")"
   ]
  },
  {
   "cell_type": "code",
   "execution_count": 8,
   "metadata": {},
   "outputs": [],
   "source": [
    "true_clusters = benchmark.apply(lambd, axis=1)\n",
    "reference = pd.concat({\"inventor_id\":benchmark.inventor_id, \"mention_id\":true_clusters}, axis=1).explode(\"mention_id\").set_index(\"mention_id\")[\"inventor_id\"]"
   ]
  },
  {
   "cell_type": "code",
   "execution_count": 9,
   "metadata": {},
   "outputs": [
    {
     "data": {
      "text/plain": [
       "0.8608282020727221"
      ]
     },
     "execution_count": 9,
     "metadata": {},
     "output_type": "execute_result"
    }
   ],
   "source": [
    "from pv_evaluation.estimators import pairwise_precision_estimator, pairwise_precision_std\n",
    "\n",
    "pairwise_precision_estimator(disambiguation, reference, sampling_type=\"cluster_block\", weights=\"cluster_size\")"
   ]
  },
  {
   "cell_type": "code",
   "execution_count": 10,
   "metadata": {},
   "outputs": [
    {
     "data": {
      "text/plain": [
       "0.055797239309423874"
      ]
     },
     "execution_count": 10,
     "metadata": {},
     "output_type": "execute_result"
    }
   ],
   "source": [
    "pairwise_precision_std(disambiguation, reference, sampling_type=\"cluster_block\", weights=\"cluster_size\")"
   ]
  },
  {
   "cell_type": "code",
   "execution_count": 11,
   "metadata": {},
   "outputs": [
    {
     "data": {
      "text/plain": [
       "0.9421315090119152"
      ]
     },
     "execution_count": 11,
     "metadata": {},
     "output_type": "execute_result"
    }
   ],
   "source": [
    "from pv_evaluation.estimators import pairwise_recall_estimator, pairwise_recall_std\n",
    "\n",
    "pairwise_recall_estimator(disambiguation, reference, sampling_type=\"cluster_block\", weights=\"cluster_size\")"
   ]
  },
  {
   "cell_type": "code",
   "execution_count": 12,
   "metadata": {},
   "outputs": [
    {
     "data": {
      "text/plain": [
       "0.021200869250555428"
      ]
     },
     "execution_count": 12,
     "metadata": {},
     "output_type": "execute_result"
    }
   ],
   "source": [
    "pairwise_recall_std(disambiguation, reference, sampling_type=\"cluster_block\", weights=\"cluster_size\")"
   ]
  },
  {
   "cell_type": "markdown",
   "metadata": {},
   "source": [
    "## Aida Results 2022-06-22"
   ]
  },
  {
   "cell_type": "code",
   "execution_count": 13,
   "metadata": {},
   "outputs": [],
   "source": [
    "benchmark = pd.read_excel(\"2022-06-22-Aida-Patent_samples.xlsx\").fillna(\"\")"
   ]
  },
  {
   "cell_type": "code",
   "execution_count": 14,
   "metadata": {},
   "outputs": [],
   "source": [
    "true_clusters = benchmark.apply(lambd, axis=1)\n",
    "reference = pd.concat({\"inventor_id\":benchmark.inventor_id, \"mention_id\":true_clusters}, axis=1).explode(\"mention_id\").set_index(\"mention_id\")[\"inventor_id\"]"
   ]
  },
  {
   "cell_type": "code",
   "execution_count": 15,
   "metadata": {},
   "outputs": [
    {
     "data": {
      "text/plain": [
       "Series([], Name: inventor_id, dtype: object)"
      ]
     },
     "execution_count": 15,
     "metadata": {},
     "output_type": "execute_result"
    }
   ],
   "source": [
    "reference[reference.index.duplicated()]"
   ]
  },
  {
   "cell_type": "code",
   "execution_count": 16,
   "metadata": {},
   "outputs": [
    {
     "data": {
      "text/plain": [
       "0.8757777024662486"
      ]
     },
     "execution_count": 16,
     "metadata": {},
     "output_type": "execute_result"
    }
   ],
   "source": [
    "from pv_evaluation.estimators import pairwise_precision_estimator, pairwise_precision_std\n",
    "\n",
    "pairwise_precision_estimator(disambiguation, reference, sampling_type=\"cluster_block\", weights=\"cluster_size\")"
   ]
  },
  {
   "cell_type": "code",
   "execution_count": 17,
   "metadata": {},
   "outputs": [
    {
     "data": {
      "text/plain": [
       "0.05581127800247002"
      ]
     },
     "execution_count": 17,
     "metadata": {},
     "output_type": "execute_result"
    }
   ],
   "source": [
    "pairwise_precision_std(disambiguation, reference, sampling_type=\"cluster_block\", weights=\"cluster_size\")"
   ]
  },
  {
   "cell_type": "code",
   "execution_count": 18,
   "metadata": {},
   "outputs": [
    {
     "data": {
      "text/plain": [
       "0.9465825412741339"
      ]
     },
     "execution_count": 18,
     "metadata": {},
     "output_type": "execute_result"
    }
   ],
   "source": [
    "from pv_evaluation.estimators import pairwise_recall_estimator, pairwise_recall_std\n",
    "\n",
    "pairwise_recall_estimator(disambiguation, reference, sampling_type=\"cluster_block\", weights=\"cluster_size\")"
   ]
  },
  {
   "cell_type": "code",
   "execution_count": 19,
   "metadata": {},
   "outputs": [
    {
     "data": {
      "text/plain": [
       "0.020033335501181773"
      ]
     },
     "execution_count": 19,
     "metadata": {},
     "output_type": "execute_result"
    }
   ],
   "source": [
    "pairwise_recall_std(disambiguation, reference, sampling_type=\"cluster_block\", weights=\"cluster_size\")"
   ]
  },
  {
   "cell_type": "markdown",
   "metadata": {},
   "source": [
    "## Aida Results 2022-07-25"
   ]
  },
  {
   "cell_type": "code",
   "execution_count": 19,
   "metadata": {},
   "outputs": [],
   "source": [
    "benchmark = pd.read_excel(\"2022-07-25-Aida-patent-samples-part-2.xlsx\").fillna(\"\")\n",
    "true_clusters = benchmark.apply(lambd, axis=1)\n",
    "reference = pd.concat({\"inventor_id\":benchmark.inventor_id, \"mention_id\":true_clusters}, axis=1).explode(\"mention_id\").set_index(\"mention_id\")[\"inventor_id\"]"
   ]
  },
  {
   "cell_type": "code",
   "execution_count": 20,
   "metadata": {},
   "outputs": [
    {
     "data": {
      "text/plain": [
       "Series([], Name: inventor_id, dtype: object)"
      ]
     },
     "execution_count": 20,
     "metadata": {},
     "output_type": "execute_result"
    }
   ],
   "source": [
    "reference[reference.index.duplicated()]"
   ]
  },
  {
   "cell_type": "code",
   "execution_count": 21,
   "metadata": {},
   "outputs": [
    {
     "data": {
      "text/plain": [
       "0.8730249942340461"
      ]
     },
     "execution_count": 21,
     "metadata": {},
     "output_type": "execute_result"
    }
   ],
   "source": [
    "from pv_evaluation.estimators import pairwise_precision_estimator, pairwise_precision_std\n",
    "\n",
    "pairwise_precision_estimator(disambiguation, reference, sampling_type=\"cluster_block\", weights=\"cluster_size\")"
   ]
  },
  {
   "cell_type": "code",
   "execution_count": 22,
   "metadata": {},
   "outputs": [
    {
     "data": {
      "text/plain": [
       "0.03618313103980752"
      ]
     },
     "execution_count": 22,
     "metadata": {},
     "output_type": "execute_result"
    }
   ],
   "source": [
    "pairwise_precision_std(disambiguation, reference, sampling_type=\"cluster_block\", weights=\"cluster_size\")"
   ]
  },
  {
   "cell_type": "code",
   "execution_count": 23,
   "metadata": {},
   "outputs": [
    {
     "data": {
      "text/plain": [
       "0.9574971592453838"
      ]
     },
     "execution_count": 23,
     "metadata": {},
     "output_type": "execute_result"
    }
   ],
   "source": [
    "from pv_evaluation.estimators import pairwise_recall_estimator, pairwise_recall_std\n",
    "\n",
    "pairwise_recall_estimator(disambiguation, reference, sampling_type=\"cluster_block\", weights=\"cluster_size\")"
   ]
  },
  {
   "cell_type": "code",
   "execution_count": 24,
   "metadata": {},
   "outputs": [
    {
     "data": {
      "text/plain": [
       "0.010205193669155926"
      ]
     },
     "execution_count": 24,
     "metadata": {},
     "output_type": "execute_result"
    }
   ],
   "source": [
    "pairwise_recall_std(disambiguation, reference, sampling_type=\"cluster_block\", weights=\"cluster_size\")"
   ]
  },
  {
   "cell_type": "markdown",
   "metadata": {},
   "source": [
    "## Emma Results 2022-07-25"
   ]
  },
  {
   "cell_type": "code",
   "execution_count": 28,
   "metadata": {},
   "outputs": [],
   "source": [
    "benchmark = pd.read_excel(\"2022-07-25-Emma-patent-samples-part-2.xlsx\").fillna(\"\")\n",
    "true_clusters = benchmark.apply(lambd, axis=1)\n",
    "reference = pd.concat({\"inventor_id\":benchmark.inventor_id, \"mention_id\":true_clusters}, axis=1).explode(\"mention_id\").set_index(\"mention_id\")[\"inventor_id\"]"
   ]
  },
  {
   "cell_type": "code",
   "execution_count": 29,
   "metadata": {},
   "outputs": [
    {
     "data": {
      "text/plain": [
       "Series([], Name: inventor_id, dtype: object)"
      ]
     },
     "execution_count": 29,
     "metadata": {},
     "output_type": "execute_result"
    }
   ],
   "source": [
    "reference[reference.index.duplicated()]"
   ]
  },
  {
   "cell_type": "code",
   "execution_count": 30,
   "metadata": {},
   "outputs": [
    {
     "data": {
      "text/plain": [
       "0.8791258159485422"
      ]
     },
     "execution_count": 30,
     "metadata": {},
     "output_type": "execute_result"
    }
   ],
   "source": [
    "from pv_evaluation.estimators import pairwise_precision_estimator, pairwise_precision_std\n",
    "\n",
    "pairwise_precision_estimator(disambiguation, reference, sampling_type=\"cluster_block\", weights=\"cluster_size\")"
   ]
  },
  {
   "cell_type": "code",
   "execution_count": 31,
   "metadata": {},
   "outputs": [
    {
     "data": {
      "text/plain": [
       "0.03391972460493254"
      ]
     },
     "execution_count": 31,
     "metadata": {},
     "output_type": "execute_result"
    }
   ],
   "source": [
    "pairwise_precision_std(disambiguation, reference, sampling_type=\"cluster_block\", weights=\"cluster_size\")"
   ]
  },
  {
   "cell_type": "code",
   "execution_count": 32,
   "metadata": {},
   "outputs": [
    {
     "data": {
      "text/plain": [
       "0.9490388690316084"
      ]
     },
     "execution_count": 32,
     "metadata": {},
     "output_type": "execute_result"
    }
   ],
   "source": [
    "from pv_evaluation.estimators import pairwise_recall_estimator, pairwise_recall_std\n",
    "\n",
    "pairwise_recall_estimator(disambiguation, reference, sampling_type=\"cluster_block\", weights=\"cluster_size\")"
   ]
  },
  {
   "cell_type": "code",
   "execution_count": 33,
   "metadata": {},
   "outputs": [
    {
     "data": {
      "text/plain": [
       "0.011276852957939726"
      ]
     },
     "execution_count": 33,
     "metadata": {},
     "output_type": "execute_result"
    }
   ],
   "source": [
    "pairwise_recall_std(disambiguation, reference, sampling_type=\"cluster_block\", weights=\"cluster_size\")"
   ]
  }
 ],
 "metadata": {
  "interpreter": {
   "hash": "135eb778a123b23717215bebe642ebc480e0ab0e1bc583cf4971f84281f0b229"
  },
  "kernelspec": {
   "display_name": "Python 3.7.13 ('pv-evaluation': conda)",
   "language": "python",
   "name": "python3"
  },
  "language_info": {
   "codemirror_mode": {
    "name": "ipython",
    "version": 3
   },
   "file_extension": ".py",
   "mimetype": "text/x-python",
   "name": "python",
   "nbconvert_exporter": "python",
   "pygments_lexer": "ipython3",
   "version": "3.7.13"
  },
  "orig_nbformat": 4
 },
 "nbformat": 4,
 "nbformat_minor": 2
}
