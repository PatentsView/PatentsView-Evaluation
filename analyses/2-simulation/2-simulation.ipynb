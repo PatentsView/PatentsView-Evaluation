{
 "cells": [
  {
   "cell_type": "code",
   "execution_count": 1,
   "metadata": {},
   "outputs": [],
   "source": [
    "import numpy as np\n",
    "np.random.seed(1)\n",
    "\n",
    "import dask.dataframe as dd\n",
    "import pandas as pd\n",
    "\n",
    "import wget\n",
    "import zipfile\n",
    "import os\n",
    "\n",
    "import plotly.io as pio\n",
    "pio.templates.default = \"plotly_white\" # Set plotly theme\n",
    "\n",
    "if not os.path.isfile(\"rawinventor.tsv\"):\n",
    "    wget.download(\"https://s3.amazonaws.com/data.patentsview.org/download/rawinventor.tsv.zip\")\n",
    "    with zipfile.ZipFile(\"rawinventor.tsv.zip\", 'r') as zip_ref:\n",
    "        zip_ref.extractall(\".\")\n",
    "    os.remove(\"rawinventor.tsv.zip\")\n",
    "\n",
    "if not os.path.isfile(\"disambiguation.tsv\"):\n",
    "    rawinventor = pd.read_csv(\"rawinventor.tsv\", sep=\"\\t\")\n",
    "    rawinventor[\"mention-id\"] = \"US\" + rawinventor.patent_id.astype(str) + \"-\" + rawinventor.sequence.astype(str)\n",
    "    rawinventor[[\"mention-id\", \"inventor_id\"]].to_csv(\"disambiguation.tsv\", sep=\"\\t\", index=False)\n",
    "    del(rawinventor)"
   ]
  },
  {
   "cell_type": "code",
   "execution_count": 2,
   "metadata": {},
   "outputs": [],
   "source": [
    "current = dd.read_csv(\"disambiguation.tsv\", sep=\"\\t\")"
   ]
  },
  {
   "cell_type": "code",
   "execution_count": 3,
   "metadata": {},
   "outputs": [],
   "source": [
    "data = current.compute()\n",
    "reference = data.set_index(\"mention-id\").inventor_id"
   ]
  },
  {
   "cell_type": "code",
   "execution_count": 4,
   "metadata": {},
   "outputs": [],
   "source": [
    "prediction = reference.copy()\n",
    "k = 2000000\n",
    "\n",
    "I = np.random.choice(prediction.index, size=k, replace=False)\n",
    "for i in I:\n",
    "    j = np.random.choice(data.index, size=1)[0]\n",
    "    prediction[i] = prediction[j]"
   ]
  },
  {
   "cell_type": "code",
   "execution_count": 6,
   "metadata": {},
   "outputs": [
    {
     "data": {
      "text/plain": [
       "(0.8013926790503834, 0.806303156889863)"
      ]
     },
     "execution_count": 6,
     "metadata": {},
     "output_type": "execute_result"
    }
   ],
   "source": [
    "from pv_evaluation.metrics import pairwise_precision_recall, pairwise_precision\n",
    "\n",
    "pairwise_precision_recall(prediction, reference)"
   ]
  },
  {
   "cell_type": "code",
   "execution_count": 11,
   "metadata": {},
   "outputs": [],
   "source": [
    "from pv_evaluation.estimators import pairwise_precision_estimator\n",
    "\n",
    "def sample_clusters(series, k=200):\n",
    "    clusters = np.random.choice(series.values, size=k, replace=True)\n",
    "    return series[series.isin(clusters)]\n",
    "\n",
    "n = 20\n",
    "precision_values = np.zeros(n)\n",
    "est_precision_values = np.zeros(n)\n",
    "for i in range(n):\n",
    "    benchmark = sample_clusters(reference)\n",
    "    data = pd.concat({\"prediction\":prediction, \"reference\":benchmark}, axis=1, join=\"inner\")\n",
    "    precision_values[i] = (\n",
    "        pairwise_precision(data.prediction, data.reference)\n",
    "    )\n",
    "    est_precision_values[i] = (\n",
    "        pairwise_precision_estimator(prediction, benchmark, sampling_type=\"cluster\", weights=\"cluster_size\")\n",
    "    )"
   ]
  },
  {
   "cell_type": "code",
   "execution_count": 9,
   "metadata": {},
   "outputs": [
    {
     "data": {
      "text/plain": [
       "0.8706025360029984"
      ]
     },
     "execution_count": 9,
     "metadata": {},
     "output_type": "execute_result"
    }
   ],
   "source": [
    "np.mean(est_precision_values)"
   ]
  },
  {
   "cell_type": "code",
   "execution_count": 10,
   "metadata": {},
   "outputs": [
    {
     "data": {
      "text/plain": [
       "<AxesSubplot:ylabel='Count'>"
      ]
     },
     "execution_count": 10,
     "metadata": {},
     "output_type": "execute_result"
    },
    {
     "data": {
      "image/png": "[encoded data removed]",
      "text/plain": [
       "<Figure size 432x288 with 1 Axes>"
      ]
     },
     "metadata": {
      "needs_background": "light"
     },
     "output_type": "display_data"
    }
   ],
   "source": [
    "import seaborn as sns\n",
    "\n",
    "sns.histplot(est_precision_values)"
   ]
  }
 ],
 "metadata": {
  "interpreter": {
   "hash": "135eb778a123b23717215bebe642ebc480e0ab0e1bc583cf4971f84281f0b229"
  },
  "kernelspec": {
   "display_name": "Python 3.7.13 ('pv-evaluation': conda)",
   "language": "python",
   "name": "python3"
  },
  "language_info": {
   "codemirror_mode": {
    "name": "ipython",
    "version": 3
   },
   "file_extension": ".py",
   "mimetype": "text/x-python",
   "name": "python",
   "nbconvert_exporter": "python",
   "pygments_lexer": "ipython3",
   "version": "3.7.13"
  },
  "orig_nbformat": 4
 },
 "nbformat": 4,
 "nbformat_minor": 2
}
