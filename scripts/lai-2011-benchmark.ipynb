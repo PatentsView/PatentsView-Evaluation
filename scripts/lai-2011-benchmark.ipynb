{
 "cells": [
  {
   "cell_type": "code",
   "execution_count": 6,
   "metadata": {},
   "outputs": [],
   "source": [
    "try:\n",
    "    import pandas as pd\n",
    "except:\n",
    "    raise Exception(\"Unable to import required dependencies.\")\n",
    "\n",
    "lai_benchmark = pd.read_csv(\"../data-raw/Lai-2011-data/benchmark_with_sequence.tsv\", sep=\"\\t\", dtype=str, header=1)"
   ]
  },
  {
   "cell_type": "code",
   "execution_count": 8,
   "metadata": {},
   "outputs": [],
   "source": [
    "lai_benchmark[\"mention-id\"] = \"US\" + lai_benchmark.Patent + \"-\" + lai_benchmark.Sequence\n",
    "lai_benchmark[\"unique-id\"] = lai_benchmark.UniqueID\n",
    "lai_benchmark[[\"mention-id\", \"unique-id\"]].to_csv(\"pv_evaluation/data/inventor/lai-2011-benchmark.csv\", index=False)"
   ]
  }
 ],
 "metadata": {
  "interpreter": {
   "hash": "135eb778a123b23717215bebe642ebc480e0ab0e1bc583cf4971f84281f0b229"
  },
  "kernelspec": {
   "display_name": "Python 3.7.13 ('pv-evaluation': conda)",
   "language": "python",
   "name": "python3"
  },
  "language_info": {
   "codemirror_mode": {
    "name": "ipython",
    "version": 3
   },
   "file_extension": ".py",
   "mimetype": "text/x-python",
   "name": "python",
   "nbconvert_exporter": "python",
   "pygments_lexer": "ipython3",
   "version": "3.7.13"
  },
  "orig_nbformat": 4
 },
 "nbformat": 4,
 "nbformat_minor": 2
}
