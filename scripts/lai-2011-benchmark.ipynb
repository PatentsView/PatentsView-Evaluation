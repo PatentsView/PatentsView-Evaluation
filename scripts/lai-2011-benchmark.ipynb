{
 "cells": [
  {
   "cell_type": "code",
   "execution_count": 11,
   "metadata": {},
   "outputs": [],
   "source": [
    "try:\n",
    "    import pandas as pd\n",
    "except:\n",
    "    raise Exception(\"Unable to import pandas. Please install required dependencies.\")\n",
    "\n",
    "data = pd.read_excel(\"../data-raw/Lai-2011-data/benchmark.xlsx\", header=3)\n",
    "\n",
    "#TODO: Get inventor sequence number and make this into a benchmark"
   ]
  }
 ],
 "metadata": {
  "interpreter": {
   "hash": "c6191605ccbc69ee850b3b607fa517accda1f0792654a487c9877b1d34a204e1"
  },
  "kernelspec": {
   "display_name": "Python 3.7.13 ('pv-evaluation')",
   "language": "python",
   "name": "python3"
  },
  "language_info": {
   "name": "python",
   "version": "3.7.13"
  },
  "orig_nbformat": 4
 },
 "nbformat": 4,
 "nbformat_minor": 2
}
