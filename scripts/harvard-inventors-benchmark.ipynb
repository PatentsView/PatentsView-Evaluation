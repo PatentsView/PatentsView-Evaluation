{
 "cells": [
  {
   "cell_type": "code",
   "execution_count": null,
   "metadata": {},
   "outputs": [],
   "source": [
    "try:\n",
    "    import pandas as pd\n",
    "except:\n",
    "    raise Exception(\"Unable to import pandas. Please install required dependencies.\")\n",
    "\n",
    "data = pd.read_csv(\"../data-raw/harvard-inventors-benchmark/combined_labels_HarvardInv.txt\", sep=\"|\")\n",
    "\n",
    "data[\"ManualIDs\"] = data.ManualIDs.str.split(\",\")\n",
    "data[\"name\"] = data.RawNames.str.split(\",\")\n",
    "data[\"invseq\"] = data.ManualIDs.apply(lambda x: range(len(x)))\n",
    "data = data.explode([\"ManualIDs\", \"name\", \"invseq\"])\n",
    "\n",
    "data[\"mention-id\"] = \"US\" + data.Pub_number.astype(str).map(lambda x:x.lstrip('US0')) + \"-\" + data.invseq.astype(str)\n",
    "data[\"unique-id\"] = data[\"ManualIDs\"]\n",
    "\n",
    "data[[\"mention-id\",\"unique-id\",\"name\"]].to_csv(\"../pv_evaluation/data/inventor/harvard-inventors-benchmark.csv\", index=False)\n",
    "\n",
    "#TODO: Fix order in havard inventor mentions.They're not proper sequential order."
   ]
  }
 ],
 "metadata": {
  "language_info": {
   "name": "python"
  },
  "orig_nbformat": 4
 },
 "nbformat": 4,
 "nbformat_minor": 2
}
