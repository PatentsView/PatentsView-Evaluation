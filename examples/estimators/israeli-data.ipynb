{
 "cells": [
  {
   "cell_type": "markdown",
   "metadata": {},
   "source": [
    "# Performance Estimates for the Israeli Inventors Dataset"
   ]
  },
  {
   "cell_type": "markdown",
   "metadata": {},
   "source": [
    "This notebook showcases the use of our precision and recall performance estimators in application to the Israeli inventors benchmark dataset.\n",
    "\n",
    "Note that the Israeli dataset only covers patents granted between 1963 and 1999. As such, we can only estimate the performance of the current disambiguation algorithm for this time period.\n",
    "\n",
    "Furthermore, we consider the the Israeli benchmark to be following the \"single block\" sampling process."
   ]
  },
  {
   "cell_type": "code",
   "execution_count": 1,
   "metadata": {},
   "outputs": [],
   "source": [
    "from pv_evaluation.estimators import pairwise_precision_estimator, pairwise_recall_estimator\n",
    "from pv_evaluation.benchmark import load_israeli_inventors_benchmark"
   ]
  },
  {
   "cell_type": "code",
   "execution_count": 2,
   "metadata": {},
   "outputs": [],
   "source": [
    "# TODO: Constrain `current_disambiguation` to only contain inventor mentions for granted patents between 1963 and 1999.\n",
    "import pandas as pd\n",
    "import wget\n",
    "import zipfile\n",
    "import os\n",
    "\n",
    "if not os.path.isfile(\"rawinventor.tsv\"):\n",
    "    wget.download(\"https://s3.amazonaws.com/data.patentsview.org/download/rawinventor.tsv.zip\")\n",
    "    with zipfile.ZipFile(\"rawinventor.tsv.zip\", 'r') as zip_ref:\n",
    "        zip_ref.extractall(\".\")\n",
    "    os.remove(\"rawinventor.tsv.zip\")\n",
    "\n",
    "rawinventor = pd.read_csv(\"rawinventor.tsv\", sep=\"\\t\")\n",
    "rawinventor[\"mention-id\"] = \"US\" + rawinventor.patent_id.astype(str) + \"-\" + rawinventor.sequence.astype(str)\n",
    "current_disambiguation = rawinventor.set_index(\"mention-id\")[\"inventor_id\"]"
   ]
  },
  {
   "cell_type": "code",
   "execution_count": null,
   "metadata": {},
   "outputs": [
    {
     "data": {
      "text/plain": [
       "0.0964202816671318"
      ]
     },
     "execution_count": 3,
     "metadata": {},
     "output_type": "execute_result"
    }
   ],
   "source": [
    "pairwise_precision_estimator(current_disambiguation, load_israeli_inventors_benchmark(), sampling_type=\"single_block\", weights=\"uniform\")"
   ]
  },
  {
   "cell_type": "code",
   "execution_count": null,
   "metadata": {},
   "outputs": [
    {
     "data": {
      "text/plain": [
       "0.9409842164000638"
      ]
     },
     "execution_count": 4,
     "metadata": {},
     "output_type": "execute_result"
    }
   ],
   "source": [
    "pairwise_recall_estimator(current_disambiguation, load_israeli_inventors_benchmark(), sampling_type=\"single_block\", weights=\"uniform\")"
   ]
  }
 ],
 "metadata": {
  "interpreter": {
   "hash": "135eb778a123b23717215bebe642ebc480e0ab0e1bc583cf4971f84281f0b229"
  },
  "kernelspec": {
   "display_name": "Python 3.7.13 ('pv-evaluation': conda)",
   "language": "python",
   "name": "python3"
  },
  "language_info": {
   "codemirror_mode": {
    "name": "ipython",
    "version": 3
   },
   "file_extension": ".py",
   "mimetype": "text/x-python",
   "name": "python",
   "nbconvert_exporter": "python",
   "pygments_lexer": "ipython3",
   "version": "3.7.13"
  },
  "orig_nbformat": 4
 },
 "nbformat": 4,
 "nbformat_minor": 2
}
