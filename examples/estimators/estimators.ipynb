{
 "cells": [
  {
   "cell_type": "code",
   "execution_count": 1,
   "metadata": {},
   "outputs": [],
   "source": [
    "import numpy as np\n",
    "import pandas as pd\n",
    "\n",
    "prediction = pd.Series([0, 0, 1, 1, 1, 2, 3, 4, 4, 5, 6 ,7, 8, 8, 8, 8, 9, 0, 11, 11])\n",
    "reference = pd.Series([0, 0, 1, 1, 1, 2, 2, 2, 3])\n",
    "\n",
    "data2 = pd.concat({\"prediction\":prediction, \"reference\":reference}, axis=1, join=\"inner\")"
   ]
  },
  {
   "cell_type": "code",
   "execution_count": 2,
   "metadata": {},
   "outputs": [],
   "source": [
    "from pv_evaluation.estimators import pairwise_precision_estimator"
   ]
  },
  {
   "cell_type": "code",
   "execution_count": 3,
   "metadata": {},
   "outputs": [
    {
     "data": {
      "text/plain": [
       "0.5357142857142857"
      ]
     },
     "execution_count": 3,
     "metadata": {},
     "output_type": "execute_result"
    }
   ],
   "source": [
    "pairwise_precision_estimator(prediction, reference, \"cluster\", \"cluster_size\")"
   ]
  },
  {
   "cell_type": "code",
   "execution_count": 4,
   "metadata": {},
   "outputs": [
    {
     "data": {
      "text/plain": [
       "0.6666666666666666"
      ]
     },
     "execution_count": 4,
     "metadata": {},
     "output_type": "execute_result"
    }
   ],
   "source": [
    "pairwise_precision_estimator(prediction, reference, \"single_block\", \"cluster_size\")"
   ]
  }
 ],
 "metadata": {
  "interpreter": {
   "hash": "78424400d62404555d015ea827af1f1be281e0e9626ee890c10729c98ceb3bcd"
  },
  "kernelspec": {
   "display_name": "Python 3.7.13 64-bit ('pv-evaluation')",
   "language": "python",
   "name": "python3"
  },
  "language_info": {
   "codemirror_mode": {
    "name": "ipython",
    "version": 3
   },
   "file_extension": ".py",
   "mimetype": "text/x-python",
   "name": "python",
   "nbconvert_exporter": "python",
   "pygments_lexer": "ipython3",
   "version": "3.7.13"
  },
  "orig_nbformat": 4
 },
 "nbformat": 4,
 "nbformat_minor": 2
}
