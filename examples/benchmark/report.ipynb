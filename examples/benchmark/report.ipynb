{
 "cells": [
  {
   "cell_type": "markdown",
   "metadata": {},
   "source": [
    "# 📊 Performance Benchmarks\n",
    "\n",
    "This notebook shows the use of the **benchmark** submodule to obtain key performance metrics.\n",
    "\n",
    "Note that the metrics considered here are not representative of full-data performance. They only provide an indication of performance when restricting the disambiguation to the mention IDs which appear in the benchmark data."
   ]
  },
  {
   "cell_type": "markdown",
   "metadata": {},
   "source": [
    "## Data Preparation\n",
    "\n",
    "To get started, we recover the current disambiguation from `rawinventor.tsv`. The result, a pandas Series indexed by mention id and with values corresponding to cluster assignment, is saved to `disambiguation.tsv`."
   ]
  },
  {
   "cell_type": "code",
   "execution_count": 1,
   "metadata": {},
   "outputs": [
    {
     "data": {
      "text/html": [
       "<div>\n",
       "<style scoped>\n",
       "    .dataframe tbody tr th:only-of-type {\n",
       "        vertical-align: middle;\n",
       "    }\n",
       "\n",
       "    .dataframe tbody tr th {\n",
       "        vertical-align: top;\n",
       "    }\n",
       "\n",
       "    .dataframe thead th {\n",
       "        text-align: right;\n",
       "    }\n",
       "</style>\n",
       "<table border=\"1\" class=\"dataframe\">\n",
       "  <thead>\n",
       "    <tr style=\"text-align: right;\">\n",
       "      <th></th>\n",
       "      <th>mention_id</th>\n",
       "      <th>inventor_id</th>\n",
       "    </tr>\n",
       "  </thead>\n",
       "  <tbody>\n",
       "    <tr>\n",
       "      <th>0</th>\n",
       "      <td>US6584128-0</td>\n",
       "      <td>fl:ri_ln:kroeger-1</td>\n",
       "    </tr>\n",
       "    <tr>\n",
       "      <th>1</th>\n",
       "      <td>US4789863-0</td>\n",
       "      <td>fl:th_ln:bush-1</td>\n",
       "    </tr>\n",
       "    <tr>\n",
       "      <th>2</th>\n",
       "      <td>US11161990-1</td>\n",
       "      <td>fl:ma_ln:boudreaux-4</td>\n",
       "    </tr>\n",
       "    <tr>\n",
       "      <th>3</th>\n",
       "      <td>US6795487-1</td>\n",
       "      <td>fl:ge_ln:whitworth-1</td>\n",
       "    </tr>\n",
       "    <tr>\n",
       "      <th>4</th>\n",
       "      <td>USD474886-0</td>\n",
       "      <td>fl:th_ln:fleming-3</td>\n",
       "    </tr>\n",
       "  </tbody>\n",
       "</table>\n",
       "</div>"
      ],
      "text/plain": [
       "     mention_id           inventor_id\n",
       "0   US6584128-0    fl:ri_ln:kroeger-1\n",
       "1   US4789863-0       fl:th_ln:bush-1\n",
       "2  US11161990-1  fl:ma_ln:boudreaux-4\n",
       "3   US6795487-1  fl:ge_ln:whitworth-1\n",
       "4   USD474886-0    fl:th_ln:fleming-3"
      ]
     },
     "execution_count": 1,
     "metadata": {},
     "output_type": "execute_result"
    }
   ],
   "source": [
    "import pandas as pd\n",
    "\n",
    "import wget\n",
    "import zipfile\n",
    "import os\n",
    "\n",
    "import plotly.io as pio\n",
    "pio.templates.default = \"plotly_white\" # Set plotly theme\n",
    "\n",
    "if not os.path.isfile(\"rawinventor.tsv\"):\n",
    "    wget.download(\"https://s3.amazonaws.com/data.patentsview.org/download/rawinventor.tsv.zip\")\n",
    "    with zipfile.ZipFile(\"rawinventor.tsv.zip\", 'r') as zip_ref:\n",
    "        zip_ref.extractall(\".\")\n",
    "    os.remove(\"rawinventor.tsv.zip\")\n",
    "\n",
    "if not os.path.isfile(\"disambiguation.tsv\"):\n",
    "    rawinventor = pd.read_csv(\"rawinventor.tsv\", sep=\"\\t\")\n",
    "    rawinventor[\"mention_id\"] = \"US\" + rawinventor.patent_id.astype(str) + \"-\" + rawinventor.sequence.astype(str)\n",
    "    rawinventor[[\"mention_id\", \"inventor_id\"]].to_csv(\"disambiguation.tsv\", sep=\"\\t\", index=False)\n",
    "    del(rawinventor)\n",
    "\n",
    "pd.read_csv(\"disambiguation.tsv\", sep=\"\\t\", nrows=5)"
   ]
  },
  {
   "cell_type": "markdown",
   "metadata": {},
   "source": [
    "## Benchmarks"
   ]
  },
  {
   "cell_type": "markdown",
   "metadata": {},
   "source": [
    "For this example, we consider two disambiguations. One is the current disambiguation, and the other is a trivial disambiguation named \"one cluster\" where everything is in the same cluster.\n",
    "\n",
    "The two disambiguation Series are placed in a dictionary."
   ]
  },
  {
   "cell_type": "code",
   "execution_count": 2,
   "metadata": {},
   "outputs": [],
   "source": [
    "from pv_evaluation.benchmark import (\n",
    "    inventor_benchmark_table,\n",
    "    inventor_benchmark_plot,\n",
    ")\n",
    "\n",
    "data = pd.read_csv(\"disambiguation.tsv\", sep=\"\\t\")\n",
    "data.set_index(\"mention_id\", inplace=True)\n",
    "result = data[\"inventor_id\"]\n",
    "\n",
    "disambiguations = {\n",
    "    \"current\": result,\n",
    "    \"one cluster\": 0*result\n",
    "}"
   ]
  },
  {
   "cell_type": "markdown",
   "metadata": {},
   "source": [
    "The inventors benchmark table provides the value of key metrics for each combination of benchmark, metric type, and disambiguation."
   ]
  },
  {
   "cell_type": "code",
   "execution_count": 3,
   "metadata": {},
   "outputs": [
    {
     "ename": "FileNotFoundError",
     "evalue": "[Errno 2] No such file or directory: '/home/olivier/anaconda3/envs/pv-evaluation/lib/python3.7/site-packages/pv_evaluation/data/inventor/patentsview-inventors-benchmark.csv'",
     "output_type": "error",
     "traceback": [
      "\u001b[0;31m---------------------------------------------------------------------------\u001b[0m",
      "\u001b[0;31mFileNotFoundError\u001b[0m                         Traceback (most recent call last)",
      "\u001b[0;32m/tmp/ipykernel_84689/2002504095.py\u001b[0m in \u001b[0;36m<module>\u001b[0;34m\u001b[0m\n\u001b[0;32m----> 1\u001b[0;31m \u001b[0minventor_benchmark_table\u001b[0m\u001b[0;34m(\u001b[0m\u001b[0mdisambiguations\u001b[0m\u001b[0;34m)\u001b[0m\u001b[0;34m.\u001b[0m\u001b[0mhead\u001b[0m\u001b[0;34m(\u001b[0m\u001b[0;34m)\u001b[0m\u001b[0;34m\u001b[0m\u001b[0;34m\u001b[0m\u001b[0m\n\u001b[0m",
      "\u001b[0;32m~/anaconda3/envs/pv-evaluation/lib/python3.7/site-packages/pv_evaluation/benchmark/report.py\u001b[0m in \u001b[0;36minventor_benchmark_table\u001b[0;34m(disambiguations, metrics, benchmarks)\u001b[0m\n\u001b[1;32m     73\u001b[0m     \u001b[0mcomputed_metrics\u001b[0m \u001b[0;34m=\u001b[0m \u001b[0mexpand_grid\u001b[0m\u001b[0;34m(\u001b[0m\u001b[0mdict\u001b[0m\u001b[0;34m(\u001b[0m\u001b[0mbenchmark\u001b[0m\u001b[0;34m=\u001b[0m\u001b[0mbenchmarks\u001b[0m\u001b[0;34m,\u001b[0m \u001b[0mmetric\u001b[0m\u001b[0;34m=\u001b[0m\u001b[0mmetrics\u001b[0m\u001b[0;34m,\u001b[0m \u001b[0malgorithm\u001b[0m\u001b[0;34m=\u001b[0m\u001b[0mdisambiguations\u001b[0m\u001b[0;34m)\u001b[0m\u001b[0;34m)\u001b[0m\u001b[0;34m\u001b[0m\u001b[0;34m\u001b[0m\u001b[0m\n\u001b[1;32m     74\u001b[0m \u001b[0;34m\u001b[0m\u001b[0m\n\u001b[0;32m---> 75\u001b[0;31m     \u001b[0mcomputed_metrics\u001b[0m\u001b[0;34m[\u001b[0m\u001b[0;34m\"value\"\u001b[0m\u001b[0;34m]\u001b[0m \u001b[0;34m=\u001b[0m \u001b[0mcomputed_metrics\u001b[0m\u001b[0;34m.\u001b[0m\u001b[0mapply\u001b[0m\u001b[0;34m(\u001b[0m\u001b[0;32mlambda\u001b[0m \u001b[0mx\u001b[0m\u001b[0;34m:\u001b[0m \u001b[0mcompute\u001b[0m\u001b[0;34m(\u001b[0m\u001b[0mx\u001b[0m\u001b[0;34m.\u001b[0m\u001b[0mbenchmark\u001b[0m\u001b[0;34m,\u001b[0m \u001b[0mx\u001b[0m\u001b[0;34m.\u001b[0m\u001b[0mmetric\u001b[0m\u001b[0;34m,\u001b[0m \u001b[0mx\u001b[0m\u001b[0;34m.\u001b[0m\u001b[0malgorithm\u001b[0m\u001b[0;34m)\u001b[0m\u001b[0;34m,\u001b[0m \u001b[0maxis\u001b[0m\u001b[0;34m=\u001b[0m\u001b[0;36m1\u001b[0m\u001b[0;34m)\u001b[0m\u001b[0;34m\u001b[0m\u001b[0;34m\u001b[0m\u001b[0m\n\u001b[0m\u001b[1;32m     76\u001b[0m \u001b[0;34m\u001b[0m\u001b[0m\n\u001b[1;32m     77\u001b[0m     \u001b[0;32mreturn\u001b[0m \u001b[0mcomputed_metrics\u001b[0m\u001b[0;34m\u001b[0m\u001b[0;34m\u001b[0m\u001b[0m\n",
      "\u001b[0;32m~/anaconda3/envs/pv-evaluation/lib/python3.7/site-packages/pandas/core/frame.py\u001b[0m in \u001b[0;36mapply\u001b[0;34m(self, func, axis, raw, result_type, args, **kwargs)\u001b[0m\n\u001b[1;32m   8738\u001b[0m             \u001b[0mkwargs\u001b[0m\u001b[0;34m=\u001b[0m\u001b[0mkwargs\u001b[0m\u001b[0;34m,\u001b[0m\u001b[0;34m\u001b[0m\u001b[0;34m\u001b[0m\u001b[0m\n\u001b[1;32m   8739\u001b[0m         )\n\u001b[0;32m-> 8740\u001b[0;31m         \u001b[0;32mreturn\u001b[0m \u001b[0mop\u001b[0m\u001b[0;34m.\u001b[0m\u001b[0mapply\u001b[0m\u001b[0;34m(\u001b[0m\u001b[0;34m)\u001b[0m\u001b[0;34m\u001b[0m\u001b[0;34m\u001b[0m\u001b[0m\n\u001b[0m\u001b[1;32m   8741\u001b[0m \u001b[0;34m\u001b[0m\u001b[0m\n\u001b[1;32m   8742\u001b[0m     def applymap(\n",
      "\u001b[0;32m~/anaconda3/envs/pv-evaluation/lib/python3.7/site-packages/pandas/core/apply.py\u001b[0m in \u001b[0;36mapply\u001b[0;34m(self)\u001b[0m\n\u001b[1;32m    686\u001b[0m             \u001b[0;32mreturn\u001b[0m \u001b[0mself\u001b[0m\u001b[0;34m.\u001b[0m\u001b[0mapply_raw\u001b[0m\u001b[0;34m(\u001b[0m\u001b[0;34m)\u001b[0m\u001b[0;34m\u001b[0m\u001b[0;34m\u001b[0m\u001b[0m\n\u001b[1;32m    687\u001b[0m \u001b[0;34m\u001b[0m\u001b[0m\n\u001b[0;32m--> 688\u001b[0;31m         \u001b[0;32mreturn\u001b[0m \u001b[0mself\u001b[0m\u001b[0;34m.\u001b[0m\u001b[0mapply_standard\u001b[0m\u001b[0;34m(\u001b[0m\u001b[0;34m)\u001b[0m\u001b[0;34m\u001b[0m\u001b[0;34m\u001b[0m\u001b[0m\n\u001b[0m\u001b[1;32m    689\u001b[0m \u001b[0;34m\u001b[0m\u001b[0m\n\u001b[1;32m    690\u001b[0m     \u001b[0;32mdef\u001b[0m \u001b[0magg\u001b[0m\u001b[0;34m(\u001b[0m\u001b[0mself\u001b[0m\u001b[0;34m)\u001b[0m\u001b[0;34m:\u001b[0m\u001b[0;34m\u001b[0m\u001b[0;34m\u001b[0m\u001b[0m\n",
      "\u001b[0;32m~/anaconda3/envs/pv-evaluation/lib/python3.7/site-packages/pandas/core/apply.py\u001b[0m in \u001b[0;36mapply_standard\u001b[0;34m(self)\u001b[0m\n\u001b[1;32m    810\u001b[0m \u001b[0;34m\u001b[0m\u001b[0m\n\u001b[1;32m    811\u001b[0m     \u001b[0;32mdef\u001b[0m \u001b[0mapply_standard\u001b[0m\u001b[0;34m(\u001b[0m\u001b[0mself\u001b[0m\u001b[0;34m)\u001b[0m\u001b[0;34m:\u001b[0m\u001b[0;34m\u001b[0m\u001b[0;34m\u001b[0m\u001b[0m\n\u001b[0;32m--> 812\u001b[0;31m         \u001b[0mresults\u001b[0m\u001b[0;34m,\u001b[0m \u001b[0mres_index\u001b[0m \u001b[0;34m=\u001b[0m \u001b[0mself\u001b[0m\u001b[0;34m.\u001b[0m\u001b[0mapply_series_generator\u001b[0m\u001b[0;34m(\u001b[0m\u001b[0;34m)\u001b[0m\u001b[0;34m\u001b[0m\u001b[0;34m\u001b[0m\u001b[0m\n\u001b[0m\u001b[1;32m    813\u001b[0m \u001b[0;34m\u001b[0m\u001b[0m\n\u001b[1;32m    814\u001b[0m         \u001b[0;31m# wrap results\u001b[0m\u001b[0;34m\u001b[0m\u001b[0;34m\u001b[0m\u001b[0;34m\u001b[0m\u001b[0m\n",
      "\u001b[0;32m~/anaconda3/envs/pv-evaluation/lib/python3.7/site-packages/pandas/core/apply.py\u001b[0m in \u001b[0;36mapply_series_generator\u001b[0;34m(self)\u001b[0m\n\u001b[1;32m    826\u001b[0m             \u001b[0;32mfor\u001b[0m \u001b[0mi\u001b[0m\u001b[0;34m,\u001b[0m \u001b[0mv\u001b[0m \u001b[0;32min\u001b[0m \u001b[0menumerate\u001b[0m\u001b[0;34m(\u001b[0m\u001b[0mseries_gen\u001b[0m\u001b[0;34m)\u001b[0m\u001b[0;34m:\u001b[0m\u001b[0;34m\u001b[0m\u001b[0;34m\u001b[0m\u001b[0m\n\u001b[1;32m    827\u001b[0m                 \u001b[0;31m# ignore SettingWithCopy here in case the user mutates\u001b[0m\u001b[0;34m\u001b[0m\u001b[0;34m\u001b[0m\u001b[0;34m\u001b[0m\u001b[0m\n\u001b[0;32m--> 828\u001b[0;31m                 \u001b[0mresults\u001b[0m\u001b[0;34m[\u001b[0m\u001b[0mi\u001b[0m\u001b[0;34m]\u001b[0m \u001b[0;34m=\u001b[0m \u001b[0mself\u001b[0m\u001b[0;34m.\u001b[0m\u001b[0mf\u001b[0m\u001b[0;34m(\u001b[0m\u001b[0mv\u001b[0m\u001b[0;34m)\u001b[0m\u001b[0;34m\u001b[0m\u001b[0;34m\u001b[0m\u001b[0m\n\u001b[0m\u001b[1;32m    829\u001b[0m                 \u001b[0;32mif\u001b[0m \u001b[0misinstance\u001b[0m\u001b[0;34m(\u001b[0m\u001b[0mresults\u001b[0m\u001b[0;34m[\u001b[0m\u001b[0mi\u001b[0m\u001b[0;34m]\u001b[0m\u001b[0;34m,\u001b[0m \u001b[0mABCSeries\u001b[0m\u001b[0;34m)\u001b[0m\u001b[0;34m:\u001b[0m\u001b[0;34m\u001b[0m\u001b[0;34m\u001b[0m\u001b[0m\n\u001b[1;32m    830\u001b[0m                     \u001b[0;31m# If we have a view on v, we need to make a copy because\u001b[0m\u001b[0;34m\u001b[0m\u001b[0;34m\u001b[0m\u001b[0;34m\u001b[0m\u001b[0m\n",
      "\u001b[0;32m~/anaconda3/envs/pv-evaluation/lib/python3.7/site-packages/pv_evaluation/benchmark/report.py\u001b[0m in \u001b[0;36m<lambda>\u001b[0;34m(x)\u001b[0m\n\u001b[1;32m     73\u001b[0m     \u001b[0mcomputed_metrics\u001b[0m \u001b[0;34m=\u001b[0m \u001b[0mexpand_grid\u001b[0m\u001b[0;34m(\u001b[0m\u001b[0mdict\u001b[0m\u001b[0;34m(\u001b[0m\u001b[0mbenchmark\u001b[0m\u001b[0;34m=\u001b[0m\u001b[0mbenchmarks\u001b[0m\u001b[0;34m,\u001b[0m \u001b[0mmetric\u001b[0m\u001b[0;34m=\u001b[0m\u001b[0mmetrics\u001b[0m\u001b[0;34m,\u001b[0m \u001b[0malgorithm\u001b[0m\u001b[0;34m=\u001b[0m\u001b[0mdisambiguations\u001b[0m\u001b[0;34m)\u001b[0m\u001b[0;34m)\u001b[0m\u001b[0;34m\u001b[0m\u001b[0;34m\u001b[0m\u001b[0m\n\u001b[1;32m     74\u001b[0m \u001b[0;34m\u001b[0m\u001b[0m\n\u001b[0;32m---> 75\u001b[0;31m     \u001b[0mcomputed_metrics\u001b[0m\u001b[0;34m[\u001b[0m\u001b[0;34m\"value\"\u001b[0m\u001b[0;34m]\u001b[0m \u001b[0;34m=\u001b[0m \u001b[0mcomputed_metrics\u001b[0m\u001b[0;34m.\u001b[0m\u001b[0mapply\u001b[0m\u001b[0;34m(\u001b[0m\u001b[0;32mlambda\u001b[0m \u001b[0mx\u001b[0m\u001b[0;34m:\u001b[0m \u001b[0mcompute\u001b[0m\u001b[0;34m(\u001b[0m\u001b[0mx\u001b[0m\u001b[0;34m.\u001b[0m\u001b[0mbenchmark\u001b[0m\u001b[0;34m,\u001b[0m \u001b[0mx\u001b[0m\u001b[0;34m.\u001b[0m\u001b[0mmetric\u001b[0m\u001b[0;34m,\u001b[0m \u001b[0mx\u001b[0m\u001b[0;34m.\u001b[0m\u001b[0malgorithm\u001b[0m\u001b[0;34m)\u001b[0m\u001b[0;34m,\u001b[0m \u001b[0maxis\u001b[0m\u001b[0;34m=\u001b[0m\u001b[0;36m1\u001b[0m\u001b[0;34m)\u001b[0m\u001b[0;34m\u001b[0m\u001b[0;34m\u001b[0m\u001b[0m\n\u001b[0m\u001b[1;32m     76\u001b[0m \u001b[0;34m\u001b[0m\u001b[0m\n\u001b[1;32m     77\u001b[0m     \u001b[0;32mreturn\u001b[0m \u001b[0mcomputed_metrics\u001b[0m\u001b[0;34m\u001b[0m\u001b[0;34m\u001b[0m\u001b[0m\n",
      "\u001b[0;32m~/anaconda3/envs/pv-evaluation/lib/python3.7/site-packages/pv_evaluation/benchmark/report.py\u001b[0m in \u001b[0;36mcompute\u001b[0;34m(benchmark, metric, algorithm)\u001b[0m\n\u001b[1;32m     63\u001b[0m         \"\"\"\n\u001b[1;32m     64\u001b[0m         data = pd.concat(\n\u001b[0;32m---> 65\u001b[0;31m             \u001b[0;34m{\u001b[0m\u001b[0;34m\"prediction\"\u001b[0m\u001b[0;34m:\u001b[0m \u001b[0mdisambiguations\u001b[0m\u001b[0;34m[\u001b[0m\u001b[0malgorithm\u001b[0m\u001b[0;34m]\u001b[0m\u001b[0;34m,\u001b[0m \u001b[0;34m\"reference\"\u001b[0m\u001b[0;34m:\u001b[0m \u001b[0mbenchmarks\u001b[0m\u001b[0;34m[\u001b[0m\u001b[0mbenchmark\u001b[0m\u001b[0;34m]\u001b[0m\u001b[0;34m(\u001b[0m\u001b[0;34m)\u001b[0m\u001b[0;34m}\u001b[0m\u001b[0;34m,\u001b[0m \u001b[0maxis\u001b[0m\u001b[0;34m=\u001b[0m\u001b[0;36m1\u001b[0m\u001b[0;34m,\u001b[0m \u001b[0mjoin\u001b[0m\u001b[0;34m=\u001b[0m\u001b[0;34m\"inner\"\u001b[0m\u001b[0;34m\u001b[0m\u001b[0;34m\u001b[0m\u001b[0m\n\u001b[0m\u001b[1;32m     66\u001b[0m         )\n\u001b[1;32m     67\u001b[0m         \u001b[0;32mreturn\u001b[0m \u001b[0mmetrics\u001b[0m\u001b[0;34m[\u001b[0m\u001b[0mmetric\u001b[0m\u001b[0;34m]\u001b[0m\u001b[0;34m(\u001b[0m\u001b[0mdata\u001b[0m\u001b[0;34m.\u001b[0m\u001b[0mprediction\u001b[0m\u001b[0;34m,\u001b[0m \u001b[0mdata\u001b[0m\u001b[0;34m.\u001b[0m\u001b[0mreference\u001b[0m\u001b[0;34m)\u001b[0m\u001b[0;34m\u001b[0m\u001b[0;34m\u001b[0m\u001b[0m\n",
      "\u001b[0;32m~/anaconda3/envs/pv-evaluation/lib/python3.7/site-packages/pv_evaluation/benchmark/data.py\u001b[0m in \u001b[0;36mload_patentsview_inventors_benchmark\u001b[0;34m()\u001b[0m\n\u001b[1;32m     65\u001b[0m         \u001b[0mSeries\u001b[0m\u001b[0;34m:\u001b[0m \u001b[0mpandas\u001b[0m \u001b[0mSeries\u001b[0m \u001b[0mindexed\u001b[0m \u001b[0mby\u001b[0m \u001b[0mmention\u001b[0m \u001b[0mID\u001b[0m \u001b[0;32mand\u001b[0m \u001b[0;32mwith\u001b[0m \u001b[0mvalues\u001b[0m \u001b[0mcorresponding\u001b[0m \u001b[0mto\u001b[0m \u001b[0mcluster\u001b[0m \u001b[0massignment\u001b[0m\u001b[0;34m.\u001b[0m\u001b[0;34m\u001b[0m\u001b[0;34m\u001b[0m\u001b[0m\n\u001b[1;32m     66\u001b[0m     \"\"\"\n\u001b[0;32m---> 67\u001b[0;31m     \u001b[0;32mreturn\u001b[0m \u001b[0mload_unique_id_series\u001b[0m\u001b[0;34m(\u001b[0m\u001b[0mINVENTOR_DATA_MODULE\u001b[0m\u001b[0;34m,\u001b[0m \u001b[0;34m\"patentsview-inventors-benchmark.csv\"\u001b[0m\u001b[0;34m)\u001b[0m\u001b[0;34m\u001b[0m\u001b[0;34m\u001b[0m\u001b[0m\n\u001b[0m",
      "\u001b[0;32m~/anaconda3/envs/pv-evaluation/lib/python3.7/site-packages/pv_evaluation/benchmark/data.py\u001b[0m in \u001b[0;36mload_unique_id_series\u001b[0;34m(module, filename)\u001b[0m\n\u001b[1;32m     15\u001b[0m         \u001b[0mSeries\u001b[0m\u001b[0;34m:\u001b[0m \u001b[0mpandas\u001b[0m \u001b[0mSeries\u001b[0m \u001b[0mnamed\u001b[0m \u001b[0;34m\"unique-id\"\u001b[0m \u001b[0;32mand\u001b[0m \u001b[0;32mwith\u001b[0m \u001b[0;34m\"mention-id\"\u001b[0m \u001b[0;32mas\u001b[0m \u001b[0man\u001b[0m \u001b[0mindex\u001b[0m\u001b[0;34m.\u001b[0m\u001b[0;34m\u001b[0m\u001b[0;34m\u001b[0m\u001b[0m\n\u001b[1;32m     16\u001b[0m     \"\"\"\n\u001b[0;32m---> 17\u001b[0;31m     \u001b[0;32mwith\u001b[0m \u001b[0mresources\u001b[0m\u001b[0;34m.\u001b[0m\u001b[0mopen_text\u001b[0m\u001b[0;34m(\u001b[0m\u001b[0mmodule\u001b[0m\u001b[0;34m,\u001b[0m \u001b[0mfilename\u001b[0m\u001b[0;34m)\u001b[0m \u001b[0;32mas\u001b[0m \u001b[0mf\u001b[0m\u001b[0;34m:\u001b[0m\u001b[0;34m\u001b[0m\u001b[0;34m\u001b[0m\u001b[0m\n\u001b[0m\u001b[1;32m     18\u001b[0m         \u001b[0mdata\u001b[0m \u001b[0;34m=\u001b[0m \u001b[0mpd\u001b[0m\u001b[0;34m.\u001b[0m\u001b[0mread_csv\u001b[0m\u001b[0;34m(\u001b[0m\u001b[0mf\u001b[0m\u001b[0;34m)\u001b[0m\u001b[0;34m\u001b[0m\u001b[0;34m\u001b[0m\u001b[0m\n\u001b[1;32m     19\u001b[0m \u001b[0;34m\u001b[0m\u001b[0m\n",
      "\u001b[0;32m~/anaconda3/envs/pv-evaluation/lib/python3.7/importlib/resources.py\u001b[0m in \u001b[0;36mopen_text\u001b[0;34m(package, resource, encoding, errors)\u001b[0m\n\u001b[1;32m    123\u001b[0m     \u001b[0mreader\u001b[0m \u001b[0;34m=\u001b[0m \u001b[0m_get_resource_reader\u001b[0m\u001b[0;34m(\u001b[0m\u001b[0mpackage\u001b[0m\u001b[0;34m)\u001b[0m\u001b[0;34m\u001b[0m\u001b[0;34m\u001b[0m\u001b[0m\n\u001b[1;32m    124\u001b[0m     \u001b[0;32mif\u001b[0m \u001b[0mreader\u001b[0m \u001b[0;32mis\u001b[0m \u001b[0;32mnot\u001b[0m \u001b[0;32mNone\u001b[0m\u001b[0;34m:\u001b[0m\u001b[0;34m\u001b[0m\u001b[0;34m\u001b[0m\u001b[0m\n\u001b[0;32m--> 125\u001b[0;31m         \u001b[0;32mreturn\u001b[0m \u001b[0mTextIOWrapper\u001b[0m\u001b[0;34m(\u001b[0m\u001b[0mreader\u001b[0m\u001b[0;34m.\u001b[0m\u001b[0mopen_resource\u001b[0m\u001b[0;34m(\u001b[0m\u001b[0mresource\u001b[0m\u001b[0;34m)\u001b[0m\u001b[0;34m,\u001b[0m \u001b[0mencoding\u001b[0m\u001b[0;34m,\u001b[0m \u001b[0merrors\u001b[0m\u001b[0;34m)\u001b[0m\u001b[0;34m\u001b[0m\u001b[0;34m\u001b[0m\u001b[0m\n\u001b[0m\u001b[1;32m    126\u001b[0m     \u001b[0m_check_location\u001b[0m\u001b[0;34m(\u001b[0m\u001b[0mpackage\u001b[0m\u001b[0;34m)\u001b[0m\u001b[0;34m\u001b[0m\u001b[0;34m\u001b[0m\u001b[0m\n\u001b[1;32m    127\u001b[0m     \u001b[0mabsolute_package_path\u001b[0m \u001b[0;34m=\u001b[0m \u001b[0mos\u001b[0m\u001b[0;34m.\u001b[0m\u001b[0mpath\u001b[0m\u001b[0;34m.\u001b[0m\u001b[0mabspath\u001b[0m\u001b[0;34m(\u001b[0m\u001b[0mpackage\u001b[0m\u001b[0;34m.\u001b[0m\u001b[0m__spec__\u001b[0m\u001b[0;34m.\u001b[0m\u001b[0morigin\u001b[0m\u001b[0;34m)\u001b[0m\u001b[0;34m\u001b[0m\u001b[0;34m\u001b[0m\u001b[0m\n",
      "\u001b[0;32m~/anaconda3/envs/pv-evaluation/lib/python3.7/importlib/_bootstrap_external.py\u001b[0m in \u001b[0;36mopen_resource\u001b[0;34m(self, resource)\u001b[0m\n",
      "\u001b[0;31mFileNotFoundError\u001b[0m: [Errno 2] No such file or directory: '/home/olivier/anaconda3/envs/pv-evaluation/lib/python3.7/site-packages/pv_evaluation/data/inventor/patentsview-inventors-benchmark.csv'"
     ]
    }
   ],
   "source": [
    "inventor_benchmark_table(disambiguations).head()"
   ]
  },
  {
   "cell_type": "markdown",
   "metadata": {},
   "source": [
    "This is plotted below using the `inventor_benchmark_plot` function."
   ]
  },
  {
   "cell_type": "code",
   "execution_count": null,
   "metadata": {},
   "outputs": [
    {
     "data": {
      "image/svg+xml": "<svg class=\"main-svg\" xmlns=\"http://www.w3.org/2000/svg\" xmlns:xlink=\"http://www.w3.org/1999/xlink\" width=\"700\" height=\"500\" style=\"\" viewBox=\"0 0 700 500\"><rect x=\"0\" y=\"0\" width=\"700\" height=\"500\" style=\"fill: rgb(255, 255, 255); fill-opacity: 1;\"/><defs id=\"defs-fa22cb\"><g class=\"clips\"><clipPath id=\"clipfa22cbxyplot\" class=\"plotclip\"><rect width=\"237.65\" height=\"95.74666666666666\"/></clipPath><clipPath id=\"clipfa22cbx3y3plot\" class=\"plotclip\"><rect width=\"237.65\" height=\"95.74666666666667\"/></clipPath><clipPath id=\"clipfa22cbx4y4plot\" class=\"plotclip\"><rect width=\"237.65\" height=\"95.74666666666667\"/></clipPath><clipPath id=\"clipfa22cbx5y5plot\" class=\"plotclip\"><rect width=\"237.65\" height=\"95.74666666666666\"/></clipPath><clipPath id=\"clipfa22cbx6y6plot\" class=\"plotclip\"><rect width=\"237.65\" height=\"95.74666666666666\"/></clipPath><clipPath class=\"axesclip\" id=\"clipfa22cbx\"><rect x=\"80\" y=\"0\" width=\"237.65\" height=\"500\"/></clipPath><clipPath class=\"axesclip\" id=\"clipfa22cby\"><rect x=\"0\" y=\"298.25333333333333\" width=\"700\" height=\"95.74666666666666\"/></clipPath><clipPath class=\"axesclip\" id=\"clipfa22cbxy\"><rect x=\"80\" y=\"298.25333333333333\" width=\"237.65\" height=\"95.74666666666666\"/></clipPath><clipPath class=\"axesclip\" id=\"clipfa22cby3\"><rect x=\"0\" y=\"179.12666666666667\" width=\"700\" height=\"95.74666666666667\"/></clipPath><clipPath class=\"axesclip\" id=\"clipfa22cbxy3\"><rect x=\"80\" y=\"179.12666666666667\" width=\"237.65\" height=\"95.74666666666667\"/></clipPath><clipPath class=\"axesclip\" id=\"clipfa22cby4\"><rect x=\"0\" y=\"179.12666666666667\" width=\"700\" height=\"95.74666666666667\"/></clipPath><clipPath class=\"axesclip\" id=\"clipfa22cbxy4\"><rect x=\"80\" y=\"179.12666666666667\" width=\"237.65\" height=\"95.74666666666667\"/></clipPath><clipPath class=\"axesclip\" id=\"clipfa22cby5\"><rect x=\"0\" y=\"60.000000000000036\" width=\"700\" height=\"95.74666666666666\"/></clipPath><clipPath class=\"axesclip\" id=\"clipfa22cbxy5\"><rect x=\"80\" y=\"60.000000000000036\" width=\"237.65\" height=\"95.74666666666666\"/></clipPath><clipPath class=\"axesclip\" id=\"clipfa22cby6\"><rect x=\"0\" y=\"60.000000000000036\" width=\"700\" height=\"95.74666666666666\"/></clipPath><clipPath class=\"axesclip\" id=\"clipfa22cbxy6\"><rect x=\"80\" y=\"60.000000000000036\" width=\"237.65\" height=\"95.74666666666666\"/></clipPath><clipPath class=\"axesclip\" id=\"clipfa22cbx3\"><rect x=\"80\" y=\"0\" width=\"237.65\" height=\"500\"/></clipPath><clipPath class=\"axesclip\" id=\"clipfa22cbx3y\"><rect x=\"80\" y=\"298.25333333333333\" width=\"237.65\" height=\"95.74666666666666\"/></clipPath><clipPath class=\"axesclip\" id=\"clipfa22cbx3y3\"><rect x=\"80\" y=\"179.12666666666667\" width=\"237.65\" height=\"95.74666666666667\"/></clipPath><clipPath class=\"axesclip\" id=\"clipfa22cbx3y4\"><rect x=\"80\" y=\"179.12666666666667\" width=\"237.65\" height=\"95.74666666666667\"/></clipPath><clipPath class=\"axesclip\" id=\"clipfa22cbx3y5\"><rect x=\"80\" y=\"60.000000000000036\" width=\"237.65\" height=\"95.74666666666666\"/></clipPath><clipPath class=\"axesclip\" id=\"clipfa22cbx3y6\"><rect x=\"80\" y=\"60.000000000000036\" width=\"237.65\" height=\"95.74666666666666\"/></clipPath><clipPath class=\"axesclip\" id=\"clipfa22cbx4\"><rect x=\"327.35\" y=\"0\" width=\"237.65\" height=\"500\"/></clipPath><clipPath class=\"axesclip\" id=\"clipfa22cbx4y\"><rect x=\"327.35\" y=\"298.25333333333333\" width=\"237.65\" height=\"95.74666666666666\"/></clipPath><clipPath class=\"axesclip\" id=\"clipfa22cbx4y3\"><rect x=\"327.35\" y=\"179.12666666666667\" width=\"237.65\" height=\"95.74666666666667\"/></clipPath><clipPath class=\"axesclip\" id=\"clipfa22cbx4y4\"><rect x=\"327.35\" y=\"179.12666666666667\" width=\"237.65\" height=\"95.74666666666667\"/></clipPath><clipPath class=\"axesclip\" id=\"clipfa22cbx4y5\"><rect x=\"327.35\" y=\"60.000000000000036\" width=\"237.65\" height=\"95.74666666666666\"/></clipPath><clipPath class=\"axesclip\" id=\"clipfa22cbx4y6\"><rect x=\"327.35\" y=\"60.000000000000036\" width=\"237.65\" height=\"95.74666666666666\"/></clipPath><clipPath class=\"axesclip\" id=\"clipfa22cbx5\"><rect x=\"80\" y=\"0\" width=\"237.65\" height=\"500\"/></clipPath><clipPath class=\"axesclip\" id=\"clipfa22cbx5y\"><rect x=\"80\" y=\"298.25333333333333\" width=\"237.65\" height=\"95.74666666666666\"/></clipPath><clipPath class=\"axesclip\" id=\"clipfa22cbx5y3\"><rect x=\"80\" y=\"179.12666666666667\" width=\"237.65\" height=\"95.74666666666667\"/></clipPath><clipPath class=\"axesclip\" id=\"clipfa22cbx5y4\"><rect x=\"80\" y=\"179.12666666666667\" width=\"237.65\" height=\"95.74666666666667\"/></clipPath><clipPath class=\"axesclip\" id=\"clipfa22cbx5y5\"><rect x=\"80\" y=\"60.000000000000036\" width=\"237.65\" height=\"95.74666666666666\"/></clipPath><clipPath class=\"axesclip\" id=\"clipfa22cbx5y6\"><rect x=\"80\" y=\"60.000000000000036\" width=\"237.65\" height=\"95.74666666666666\"/></clipPath><clipPath class=\"axesclip\" id=\"clipfa22cbx6\"><rect x=\"327.35\" y=\"0\" width=\"237.65\" height=\"500\"/></clipPath><clipPath class=\"axesclip\" id=\"clipfa22cbx6y\"><rect x=\"327.35\" y=\"298.25333333333333\" width=\"237.65\" height=\"95.74666666666666\"/></clipPath><clipPath class=\"axesclip\" id=\"clipfa22cbx6y3\"><rect x=\"327.35\" y=\"179.12666666666667\" width=\"237.65\" height=\"95.74666666666667\"/></clipPath><clipPath class=\"axesclip\" id=\"clipfa22cbx6y4\"><rect x=\"327.35\" y=\"179.12666666666667\" width=\"237.65\" height=\"95.74666666666667\"/></clipPath><clipPath class=\"axesclip\" id=\"clipfa22cbx6y5\"><rect x=\"327.35\" y=\"60.000000000000036\" width=\"237.65\" height=\"95.74666666666666\"/></clipPath><clipPath class=\"axesclip\" id=\"clipfa22cbx6y6\"><rect x=\"327.35\" y=\"60.000000000000036\" width=\"237.65\" height=\"95.74666666666666\"/></clipPath></g><g class=\"gradients\"/><g class=\"patterns\"/></defs><g class=\"bglayer\"/><g class=\"layer-below\"><g class=\"imagelayer\"/><g class=\"shapelayer\"/></g><g class=\"cartesianlayer\"><g class=\"subplot xy\"><g class=\"layer-subplot\"><g class=\"shapelayer\"/><g class=\"imagelayer\"/></g><g class=\"minor-gridlayer\"><g class=\"x\"/><g class=\"y\"/></g><g class=\"gridlayer\"><g class=\"x\"/><g class=\"y\"><path class=\"ygrid crisp\" transform=\"translate(0,348.5233333333333)\" d=\"M80,0h237.65\" style=\"stroke: rgb(235, 240, 248); stroke-opacity: 1; stroke-width: 1px;\"/><path class=\"ygrid crisp\" transform=\"translate(0,303.04333333333335)\" d=\"M80,0h237.65\" style=\"stroke: rgb(235, 240, 248); stroke-opacity: 1; stroke-width: 1px;\"/></g></g><g class=\"zerolinelayer\"><path class=\"yzl zl crisp\" transform=\"translate(0,394.00333333333333)\" d=\"M80,0h237.65\" style=\"stroke: rgb(235, 240, 248); stroke-opacity: 1; stroke-width: 2px;\"/></g><path class=\"xlines-below\"/><path class=\"ylines-below\"/><g class=\"overlines-below\"/><g class=\"xaxislayer-below\"/><g class=\"yaxislayer-below\"/><g class=\"overaxes-below\"/><g class=\"plot\" transform=\"translate(80,298.25333333333333)\" clip-path=\"url(#clipfa22cbxyplot)\"><g class=\"barlayer mlayer\"><g class=\"trace bars\" style=\"opacity: 1;\"><g class=\"points\"><g class=\"point\"><path d=\"M5.94,95.75V4.79H29.71V95.75Z\" style=\"vector-effect: non-scaling-stroke; opacity: 1; stroke-width: 0.5px; fill: rgb(99, 110, 250); fill-opacity: 1; stroke: rgb(255, 255, 255); stroke-opacity: 1;\"/></g><g class=\"point\"><path d=\"M65.35,95.75V8.73H89.12V95.75Z\" style=\"vector-effect: non-scaling-stroke; opacity: 1; stroke-width: 0.5px; fill: rgb(99, 110, 250); fill-opacity: 1; stroke: rgb(255, 255, 255); stroke-opacity: 1;\"/></g><g class=\"point\"><path d=\"M124.77,95.75V4.79H148.53V95.75Z\" style=\"vector-effect: non-scaling-stroke; opacity: 1; stroke-width: 0.5px; fill: rgb(99, 110, 250); fill-opacity: 1; stroke: rgb(255, 255, 255); stroke-opacity: 1;\"/></g><g class=\"point\"><path d=\"M184.18,95.75V13.73H207.94V95.75Z\" style=\"vector-effect: non-scaling-stroke; opacity: 1; stroke-width: 0.5px; fill: rgb(99, 110, 250); fill-opacity: 1; stroke: rgb(255, 255, 255); stroke-opacity: 1;\"/></g></g></g><g class=\"trace bars\" style=\"opacity: 1;\"><g class=\"points\"><g class=\"point\"><path d=\"M29.71,95.75V95.63H53.47V95.75Z\" style=\"vector-effect: non-scaling-stroke; opacity: 1; stroke-width: 0.5px; fill: rgb(239, 85, 59); fill-opacity: 1; stroke: rgb(255, 255, 255); stroke-opacity: 1;\"/></g><g class=\"point\"><path d=\"M89.12,95.75V4.79H112.88V95.75Z\" style=\"vector-effect: non-scaling-stroke; opacity: 1; stroke-width: 0.5px; fill: rgb(239, 85, 59); fill-opacity: 1; stroke: rgb(255, 255, 255); stroke-opacity: 1;\"/></g><g class=\"point\"><path d=\"M148.53,95.75V95.75H172.3V95.75Z\" style=\"vector-effect: non-scaling-stroke; opacity: 1; stroke-width: 0.5px; fill: rgb(239, 85, 59); fill-opacity: 1; stroke: rgb(255, 255, 255); stroke-opacity: 1;\"/></g><g class=\"point\"><path d=\"M207.94,95.75V4.79H231.71V95.75Z\" style=\"vector-effect: non-scaling-stroke; opacity: 1; stroke-width: 0.5px; fill: rgb(239, 85, 59); fill-opacity: 1; stroke: rgb(255, 255, 255); stroke-opacity: 1;\"/></g></g></g></g></g><g class=\"overplot\"/><path class=\"xlines-above crisp\" d=\"M0,0\" style=\"fill: none;\"/><path class=\"ylines-above crisp\" d=\"M0,0\" style=\"fill: none;\"/><g class=\"overlines-above\"/><g class=\"xaxislayer-above\"><g class=\"xtick\"><text text-anchor=\"start\" x=\"0\" y=\"407\" transform=\"translate(109.71000000000001,0) rotate(30,0,401)\" style=\"font-family: 'Open Sans', verdana, arial, sans-serif; font-size: 12px; fill: rgb(42, 63, 95); fill-opacity: 1; white-space: pre; opacity: 1;\">pairwise precision</text></g><g class=\"xtick\"><text text-anchor=\"start\" x=\"0\" y=\"407\" transform=\"translate(169.12,0) rotate(30,0,401)\" style=\"font-family: 'Open Sans', verdana, arial, sans-serif; font-size: 12px; fill: rgb(42, 63, 95); fill-opacity: 1; white-space: pre; opacity: 1;\">pairwise recall</text></g><g class=\"xtick\"><text text-anchor=\"start\" x=\"0\" y=\"407\" transform=\"translate(228.53,0) rotate(30,0,401)\" style=\"font-family: 'Open Sans', verdana, arial, sans-serif; font-size: 12px; fill: rgb(42, 63, 95); fill-opacity: 1; white-space: pre; opacity: 1;\">cluster precision</text></g><g class=\"xtick\"><text text-anchor=\"start\" x=\"0\" y=\"407\" transform=\"translate(287.94,0) rotate(30,0,401)\" style=\"font-family: 'Open Sans', verdana, arial, sans-serif; font-size: 12px; fill: rgb(42, 63, 95); fill-opacity: 1; white-space: pre; opacity: 1;\">cluster recall</text></g></g><g class=\"yaxislayer-above\"><g class=\"ytick\"><text text-anchor=\"end\" x=\"79\" y=\"4.199999999999999\" transform=\"translate(0,394.00333333333333)\" style=\"font-family: 'Open Sans', verdana, arial, sans-serif; font-size: 12px; fill: rgb(42, 63, 95); fill-opacity: 1; white-space: pre; opacity: 1;\">0</text></g><g class=\"ytick\"><text text-anchor=\"end\" x=\"79\" y=\"4.199999999999999\" style=\"font-family: 'Open Sans', verdana, arial, sans-serif; font-size: 12px; fill: rgb(42, 63, 95); fill-opacity: 1; white-space: pre; opacity: 1;\" transform=\"translate(0,348.5233333333333)\">0.5</text></g><g class=\"ytick\"><text text-anchor=\"end\" x=\"79\" y=\"4.199999999999999\" style=\"font-family: 'Open Sans', verdana, arial, sans-serif; font-size: 12px; fill: rgb(42, 63, 95); fill-opacity: 1; white-space: pre; opacity: 1;\" transform=\"translate(0,303.04333333333335)\">1</text></g></g><g class=\"overaxes-above\"/></g><g class=\"subplot x3y3\"><g class=\"layer-subplot\"><g class=\"shapelayer\"/><g class=\"imagelayer\"/></g><g class=\"minor-gridlayer\"><g class=\"x3\"/><g class=\"y3\"/></g><g class=\"gridlayer\"><g class=\"x3\"/><g class=\"y3\"><path class=\"y3grid crisp\" transform=\"translate(0,229.39666666666668)\" d=\"M80,0h237.65\" style=\"stroke: rgb(235, 240, 248); stroke-opacity: 1; stroke-width: 1px;\"/><path class=\"y3grid crisp\" transform=\"translate(0,183.91666666666666)\" d=\"M80,0h237.65\" style=\"stroke: rgb(235, 240, 248); stroke-opacity: 1; stroke-width: 1px;\"/></g></g><g class=\"zerolinelayer\"><path class=\"y3zl zl crisp\" transform=\"translate(0,274.87666666666667)\" d=\"M80,0h237.65\" style=\"stroke: rgb(235, 240, 248); stroke-opacity: 1; stroke-width: 2px;\"/></g><path class=\"xlines-below\"/><path class=\"ylines-below\"/><g class=\"overlines-below\"/><g class=\"xaxislayer-below\"/><g class=\"yaxislayer-below\"/><g class=\"overaxes-below\"/><g class=\"plot\" transform=\"translate(80,179.12666666666667)\" clip-path=\"url(#clipfa22cbx3y3plot)\"><g class=\"barlayer mlayer\"><g class=\"trace bars\" style=\"opacity: 1;\"><g class=\"points\"><g class=\"point\"><path d=\"M5.94,95.75V4.79H29.71V95.75Z\" style=\"vector-effect: non-scaling-stroke; opacity: 1; stroke-width: 0.5px; fill: rgb(99, 110, 250); fill-opacity: 1; stroke: rgb(255, 255, 255); stroke-opacity: 1;\"/></g><g class=\"point\"><path d=\"M65.35,95.75V14.03H89.12V95.75Z\" style=\"vector-effect: non-scaling-stroke; opacity: 1; stroke-width: 0.5px; fill: rgb(99, 110, 250); fill-opacity: 1; stroke: rgb(255, 255, 255); stroke-opacity: 1;\"/></g><g class=\"point\"><path d=\"M124.77,95.75V4.79H148.53V95.75Z\" style=\"vector-effect: non-scaling-stroke; opacity: 1; stroke-width: 0.5px; fill: rgb(99, 110, 250); fill-opacity: 1; stroke: rgb(255, 255, 255); stroke-opacity: 1;\"/></g><g class=\"point\"><path d=\"M184.18,95.75V30.64H207.94V95.75Z\" style=\"vector-effect: non-scaling-stroke; opacity: 1; stroke-width: 0.5px; fill: rgb(99, 110, 250); fill-opacity: 1; stroke: rgb(255, 255, 255); stroke-opacity: 1;\"/></g></g></g><g class=\"trace bars\" style=\"opacity: 1;\"><g class=\"points\"><g class=\"point\"><path d=\"M29.71,95.75V93.36H53.47V95.75Z\" style=\"vector-effect: non-scaling-stroke; opacity: 1; stroke-width: 0.5px; fill: rgb(239, 85, 59); fill-opacity: 1; stroke: rgb(255, 255, 255); stroke-opacity: 1;\"/></g><g class=\"point\"><path d=\"M89.12,95.75V4.79H112.88V95.75Z\" style=\"vector-effect: non-scaling-stroke; opacity: 1; stroke-width: 0.5px; fill: rgb(239, 85, 59); fill-opacity: 1; stroke: rgb(255, 255, 255); stroke-opacity: 1;\"/></g><g class=\"point\"><path d=\"M148.53,95.75V95.75H172.3V95.75Z\" style=\"vector-effect: non-scaling-stroke; opacity: 1; stroke-width: 0.5px; fill: rgb(239, 85, 59); fill-opacity: 1; stroke: rgb(255, 255, 255); stroke-opacity: 1;\"/></g><g class=\"point\"><path d=\"M207.94,95.75V4.79H231.71V95.75Z\" style=\"vector-effect: non-scaling-stroke; opacity: 1; stroke-width: 0.5px; fill: rgb(239, 85, 59); fill-opacity: 1; stroke: rgb(255, 255, 255); stroke-opacity: 1;\"/></g></g></g></g></g><g class=\"overplot\"/><path class=\"xlines-above crisp\" d=\"M0,0\" style=\"fill: none;\"/><path class=\"ylines-above crisp\" d=\"M0,0\" style=\"fill: none;\"/><g class=\"overlines-above\"/><g class=\"xaxislayer-above\"/><g class=\"yaxislayer-above\"><g class=\"y3tick\"><text text-anchor=\"end\" x=\"79\" y=\"4.199999999999999\" transform=\"translate(0,274.87666666666667)\" style=\"font-family: 'Open Sans', verdana, arial, sans-serif; font-size: 12px; fill: rgb(42, 63, 95); fill-opacity: 1; white-space: pre; opacity: 1;\">0</text></g><g class=\"y3tick\"><text text-anchor=\"end\" x=\"79\" y=\"4.199999999999999\" style=\"font-family: 'Open Sans', verdana, arial, sans-serif; font-size: 12px; fill: rgb(42, 63, 95); fill-opacity: 1; white-space: pre; opacity: 1;\" transform=\"translate(0,229.39666666666668)\">0.5</text></g><g class=\"y3tick\"><text text-anchor=\"end\" x=\"79\" y=\"4.199999999999999\" style=\"font-family: 'Open Sans', verdana, arial, sans-serif; font-size: 12px; fill: rgb(42, 63, 95); fill-opacity: 1; white-space: pre; opacity: 1;\" transform=\"translate(0,183.91666666666666)\">1</text></g></g><g class=\"overaxes-above\"/></g><g class=\"subplot x4y4\"><g class=\"layer-subplot\"><g class=\"shapelayer\"/><g class=\"imagelayer\"/></g><g class=\"minor-gridlayer\"><g class=\"x4\"/><g class=\"y4\"/></g><g class=\"gridlayer\"><g class=\"x4\"/><g class=\"y4\"><path class=\"y4grid crisp\" transform=\"translate(0,229.39666666666668)\" d=\"M327.35,0h237.65\" style=\"stroke: rgb(235, 240, 248); stroke-opacity: 1; stroke-width: 1px;\"/><path class=\"y4grid crisp\" transform=\"translate(0,183.91666666666666)\" d=\"M327.35,0h237.65\" style=\"stroke: rgb(235, 240, 248); stroke-opacity: 1; stroke-width: 1px;\"/></g></g><g class=\"zerolinelayer\"><path class=\"y4zl zl crisp\" transform=\"translate(0,274.87666666666667)\" d=\"M327.35,0h237.65\" style=\"stroke: rgb(235, 240, 248); stroke-opacity: 1; stroke-width: 2px;\"/></g><path class=\"xlines-below\"/><path class=\"ylines-below\"/><g class=\"overlines-below\"/><g class=\"xaxislayer-below\"/><g class=\"yaxislayer-below\"/><g class=\"overaxes-below\"/><g class=\"plot\" transform=\"translate(327.35,179.12666666666667)\" clip-path=\"url(#clipfa22cbx4y4plot)\"><g class=\"barlayer mlayer\"><g class=\"trace bars\" style=\"opacity: 1;\"><g class=\"points\"><g class=\"point\"><path d=\"M5.94,95.75V5.03H29.71V95.75Z\" style=\"vector-effect: non-scaling-stroke; opacity: 1; stroke-width: 0.5px; fill: rgb(99, 110, 250); fill-opacity: 1; stroke: rgb(255, 255, 255); stroke-opacity: 1;\"/></g><g class=\"point\"><path d=\"M65.35,95.75V8.29H89.12V95.75Z\" style=\"vector-effect: non-scaling-stroke; opacity: 1; stroke-width: 0.5px; fill: rgb(99, 110, 250); fill-opacity: 1; stroke: rgb(255, 255, 255); stroke-opacity: 1;\"/></g><g class=\"point\"><path d=\"M124.77,95.75V5.2H148.53V95.75Z\" style=\"vector-effect: non-scaling-stroke; opacity: 1; stroke-width: 0.5px; fill: rgb(99, 110, 250); fill-opacity: 1; stroke: rgb(255, 255, 255); stroke-opacity: 1;\"/></g><g class=\"point\"><path d=\"M184.18,95.75V7.41H207.94V95.75Z\" style=\"vector-effect: non-scaling-stroke; opacity: 1; stroke-width: 0.5px; fill: rgb(99, 110, 250); fill-opacity: 1; stroke: rgb(255, 255, 255); stroke-opacity: 1;\"/></g></g></g><g class=\"trace bars\" style=\"opacity: 1;\"><g class=\"points\"><g class=\"point\"><path d=\"M29.71,95.75V95.74H53.47V95.75Z\" style=\"vector-effect: non-scaling-stroke; opacity: 1; stroke-width: 0.5px; fill: rgb(239, 85, 59); fill-opacity: 1; stroke: rgb(255, 255, 255); stroke-opacity: 1;\"/></g><g class=\"point\"><path d=\"M89.12,95.75V4.79H112.88V95.75Z\" style=\"vector-effect: non-scaling-stroke; opacity: 1; stroke-width: 0.5px; fill: rgb(239, 85, 59); fill-opacity: 1; stroke: rgb(255, 255, 255); stroke-opacity: 1;\"/></g><g class=\"point\"><path d=\"M148.53,95.75V95.75H172.3V95.75Z\" style=\"vector-effect: non-scaling-stroke; opacity: 1; stroke-width: 0.5px; fill: rgb(239, 85, 59); fill-opacity: 1; stroke: rgb(255, 255, 255); stroke-opacity: 1;\"/></g><g class=\"point\"><path d=\"M207.94,95.75V4.79H231.71V95.75Z\" style=\"vector-effect: non-scaling-stroke; opacity: 1; stroke-width: 0.5px; fill: rgb(239, 85, 59); fill-opacity: 1; stroke: rgb(255, 255, 255); stroke-opacity: 1;\"/></g></g></g></g></g><g class=\"overplot\"/><path class=\"xlines-above crisp\" d=\"M0,0\" style=\"fill: none;\"/><path class=\"ylines-above crisp\" d=\"M0,0\" style=\"fill: none;\"/><g class=\"overlines-above\"/><g class=\"xaxislayer-above\"/><g class=\"yaxislayer-above\"/><g class=\"overaxes-above\"/></g><g class=\"subplot x5y5\"><g class=\"layer-subplot\"><g class=\"shapelayer\"/><g class=\"imagelayer\"/></g><g class=\"minor-gridlayer\"><g class=\"x5\"/><g class=\"y5\"/></g><g class=\"gridlayer\"><g class=\"x5\"/><g class=\"y5\"><path class=\"y5grid crisp\" transform=\"translate(0,110.27000000000004)\" d=\"M80,0h237.65\" style=\"stroke: rgb(235, 240, 248); stroke-opacity: 1; stroke-width: 1px;\"/><path class=\"y5grid crisp\" transform=\"translate(0,64.79000000000003)\" d=\"M80,0h237.65\" style=\"stroke: rgb(235, 240, 248); stroke-opacity: 1; stroke-width: 1px;\"/></g></g><g class=\"zerolinelayer\"><path class=\"y5zl zl crisp\" transform=\"translate(0,155.75000000000003)\" d=\"M80,0h237.65\" style=\"stroke: rgb(235, 240, 248); stroke-opacity: 1; stroke-width: 2px;\"/></g><path class=\"xlines-below\"/><path class=\"ylines-below\"/><g class=\"overlines-below\"/><g class=\"xaxislayer-below\"/><g class=\"yaxislayer-below\"/><g class=\"overaxes-below\"/><g class=\"plot\" transform=\"translate(80,60.000000000000036)\" clip-path=\"url(#clipfa22cbx5y5plot)\"><g class=\"barlayer mlayer\"><g class=\"trace bars\" style=\"opacity: 1;\"><g class=\"points\"><g class=\"point\"><path d=\"M5.94,95.75V26.86H29.71V95.75Z\" style=\"vector-effect: non-scaling-stroke; opacity: 1; stroke-width: 0.5px; fill: rgb(99, 110, 250); fill-opacity: 1; stroke: rgb(255, 255, 255); stroke-opacity: 1;\"/></g><g class=\"point\"><path d=\"M65.35,95.75V5.94H89.12V95.75Z\" style=\"vector-effect: non-scaling-stroke; opacity: 1; stroke-width: 0.5px; fill: rgb(99, 110, 250); fill-opacity: 1; stroke: rgb(255, 255, 255); stroke-opacity: 1;\"/></g><g class=\"point\"><path d=\"M124.77,95.75V19.67H148.53V95.75Z\" style=\"vector-effect: non-scaling-stroke; opacity: 1; stroke-width: 0.5px; fill: rgb(99, 110, 250); fill-opacity: 1; stroke: rgb(255, 255, 255); stroke-opacity: 1;\"/></g><g class=\"point\"><path d=\"M184.18,95.75V6.14H207.94V95.75Z\" style=\"vector-effect: non-scaling-stroke; opacity: 1; stroke-width: 0.5px; fill: rgb(99, 110, 250); fill-opacity: 1; stroke: rgb(255, 255, 255); stroke-opacity: 1;\"/></g></g></g><g class=\"trace bars\" style=\"opacity: 1;\"><g class=\"points\"><g class=\"point\"><path d=\"M29.71,95.75V94.1H53.47V95.75Z\" style=\"vector-effect: non-scaling-stroke; opacity: 1; stroke-width: 0.5px; fill: rgb(239, 85, 59); fill-opacity: 1; stroke: rgb(255, 255, 255); stroke-opacity: 1;\"/></g><g class=\"point\"><path d=\"M89.12,95.75V4.79H112.88V95.75Z\" style=\"vector-effect: non-scaling-stroke; opacity: 1; stroke-width: 0.5px; fill: rgb(239, 85, 59); fill-opacity: 1; stroke: rgb(255, 255, 255); stroke-opacity: 1;\"/></g><g class=\"point\"><path d=\"M148.53,95.75V95.75H172.3V95.75Z\" style=\"vector-effect: non-scaling-stroke; opacity: 1; stroke-width: 0.5px; fill: rgb(239, 85, 59); fill-opacity: 1; stroke: rgb(255, 255, 255); stroke-opacity: 1;\"/></g><g class=\"point\"><path d=\"M207.94,95.75V4.79H231.71V95.75Z\" style=\"vector-effect: non-scaling-stroke; opacity: 1; stroke-width: 0.5px; fill: rgb(239, 85, 59); fill-opacity: 1; stroke: rgb(255, 255, 255); stroke-opacity: 1;\"/></g></g></g></g></g><g class=\"overplot\"/><path class=\"xlines-above crisp\" d=\"M0,0\" style=\"fill: none;\"/><path class=\"ylines-above crisp\" d=\"M0,0\" style=\"fill: none;\"/><g class=\"overlines-above\"/><g class=\"xaxislayer-above\"/><g class=\"yaxislayer-above\"><g class=\"y5tick\"><text text-anchor=\"end\" x=\"79\" y=\"4.199999999999999\" transform=\"translate(0,155.75000000000003)\" style=\"font-family: 'Open Sans', verdana, arial, sans-serif; font-size: 12px; fill: rgb(42, 63, 95); fill-opacity: 1; white-space: pre; opacity: 1;\">0</text></g><g class=\"y5tick\"><text text-anchor=\"end\" x=\"79\" y=\"4.199999999999999\" style=\"font-family: 'Open Sans', verdana, arial, sans-serif; font-size: 12px; fill: rgb(42, 63, 95); fill-opacity: 1; white-space: pre; opacity: 1;\" transform=\"translate(0,110.27000000000004)\">0.5</text></g><g class=\"y5tick\"><text text-anchor=\"end\" x=\"79\" y=\"4.199999999999999\" style=\"font-family: 'Open Sans', verdana, arial, sans-serif; font-size: 12px; fill: rgb(42, 63, 95); fill-opacity: 1; white-space: pre; opacity: 1;\" transform=\"translate(0,64.79000000000003)\">1</text></g></g><g class=\"overaxes-above\"/></g><g class=\"subplot x6y6\"><g class=\"layer-subplot\"><g class=\"shapelayer\"/><g class=\"imagelayer\"/></g><g class=\"minor-gridlayer\"><g class=\"x6\"/><g class=\"y6\"/></g><g class=\"gridlayer\"><g class=\"x6\"/><g class=\"y6\"><path class=\"y6grid crisp\" transform=\"translate(0,110.27000000000004)\" d=\"M327.35,0h237.65\" style=\"stroke: rgb(235, 240, 248); stroke-opacity: 1; stroke-width: 1px;\"/><path class=\"y6grid crisp\" transform=\"translate(0,64.79000000000003)\" d=\"M327.35,0h237.65\" style=\"stroke: rgb(235, 240, 248); stroke-opacity: 1; stroke-width: 1px;\"/></g></g><g class=\"zerolinelayer\"><path class=\"y6zl zl crisp\" transform=\"translate(0,155.75000000000003)\" d=\"M327.35,0h237.65\" style=\"stroke: rgb(235, 240, 248); stroke-opacity: 1; stroke-width: 2px;\"/></g><path class=\"xlines-below\"/><path class=\"ylines-below\"/><g class=\"overlines-below\"/><g class=\"xaxislayer-below\"/><g class=\"yaxislayer-below\"/><g class=\"overaxes-below\"/><g class=\"plot\" transform=\"translate(327.35,60.000000000000036)\" clip-path=\"url(#clipfa22cbx6y6plot)\"><g class=\"barlayer mlayer\"><g class=\"trace bars\" style=\"opacity: 1;\"><g class=\"points\"><g class=\"point\"><path d=\"M5.94,95.75V5.79H29.71V95.75Z\" style=\"vector-effect: non-scaling-stroke; opacity: 1; stroke-width: 0.5px; fill: rgb(99, 110, 250); fill-opacity: 1; stroke: rgb(255, 255, 255); stroke-opacity: 1;\"/></g><g class=\"point\"><path d=\"M65.35,95.75V10.16H89.12V95.75Z\" style=\"vector-effect: non-scaling-stroke; opacity: 1; stroke-width: 0.5px; fill: rgb(99, 110, 250); fill-opacity: 1; stroke: rgb(255, 255, 255); stroke-opacity: 1;\"/></g><g class=\"point\"><path d=\"M124.77,95.75V6.01H148.53V95.75Z\" style=\"vector-effect: non-scaling-stroke; opacity: 1; stroke-width: 0.5px; fill: rgb(99, 110, 250); fill-opacity: 1; stroke: rgb(255, 255, 255); stroke-opacity: 1;\"/></g><g class=\"point\"><path d=\"M184.18,95.75V9.91H207.94V95.75Z\" style=\"vector-effect: non-scaling-stroke; opacity: 1; stroke-width: 0.5px; fill: rgb(99, 110, 250); fill-opacity: 1; stroke: rgb(255, 255, 255); stroke-opacity: 1;\"/></g></g></g><g class=\"trace bars\" style=\"opacity: 1;\"><g class=\"points\"><g class=\"point\"><path d=\"M29.71,95.75V95.66H53.47V95.75Z\" style=\"vector-effect: non-scaling-stroke; opacity: 1; stroke-width: 0.5px; fill: rgb(239, 85, 59); fill-opacity: 1; stroke: rgb(255, 255, 255); stroke-opacity: 1;\"/></g><g class=\"point\"><path d=\"M89.12,95.75V4.79H112.88V95.75Z\" style=\"vector-effect: non-scaling-stroke; opacity: 1; stroke-width: 0.5px; fill: rgb(239, 85, 59); fill-opacity: 1; stroke: rgb(255, 255, 255); stroke-opacity: 1;\"/></g><g class=\"point\"><path d=\"M148.53,95.75V95.75H172.3V95.75Z\" style=\"vector-effect: non-scaling-stroke; opacity: 1; stroke-width: 0.5px; fill: rgb(239, 85, 59); fill-opacity: 1; stroke: rgb(255, 255, 255); stroke-opacity: 1;\"/></g><g class=\"point\"><path d=\"M207.94,95.75V4.79H231.71V95.75Z\" style=\"vector-effect: non-scaling-stroke; opacity: 1; stroke-width: 0.5px; fill: rgb(239, 85, 59); fill-opacity: 1; stroke: rgb(255, 255, 255); stroke-opacity: 1;\"/></g></g></g></g></g><g class=\"overplot\"/><path class=\"xlines-above crisp\" d=\"M0,0\" style=\"fill: none;\"/><path class=\"ylines-above crisp\" d=\"M0,0\" style=\"fill: none;\"/><g class=\"overlines-above\"/><g class=\"xaxislayer-above\"/><g class=\"yaxislayer-above\"/><g class=\"overaxes-above\"/></g></g><g class=\"polarlayer\"/><g class=\"smithlayer\"/><g class=\"ternarylayer\"/><g class=\"geolayer\"/><g class=\"funnelarealayer\"/><g class=\"pielayer\"/><g class=\"iciclelayer\"/><g class=\"treemaplayer\"/><g class=\"sunburstlayer\"/><g class=\"glimages\"/><defs id=\"topdefs-fa22cb\"><g class=\"clips\"/><clipPath id=\"legendfa22cb\"><rect width=\"113\" height=\"67\" x=\"0\" y=\"0\"/></clipPath></defs><g class=\"layer-above\"><g class=\"imagelayer\"/><g class=\"shapelayer\"/></g><g class=\"infolayer\"><g class=\"legend\" pointer-events=\"all\" transform=\"translate(574.7,60)\"><rect class=\"bg\" shape-rendering=\"crispEdges\" style=\"stroke: rgb(68, 68, 68); stroke-opacity: 1; fill: rgb(255, 255, 255); fill-opacity: 1; stroke-width: 0px;\" width=\"113\" height=\"67\" x=\"0\" y=\"0\"/><g class=\"scrollbox\" transform=\"\" clip-path=\"url(#legendfa22cb)\"><text class=\"legendtitletext\" text-anchor=\"start\" x=\"2\" y=\"18.2\" style=\"font-family: 'Open Sans', verdana, arial, sans-serif; font-size: 14px; fill: rgb(42, 63, 95); fill-opacity: 1; white-space: pre;\">algorithm</text><g class=\"groups\" transform=\"\"><g class=\"traces\" transform=\"translate(0,32.7)\" style=\"opacity: 1;\"><text class=\"legendtext\" text-anchor=\"start\" x=\"40\" y=\"4.680000000000001\" style=\"font-family: 'Open Sans', verdana, arial, sans-serif; font-size: 12px; fill: rgb(42, 63, 95); fill-opacity: 1; white-space: pre;\">current</text><g class=\"layers\" style=\"opacity: 1;\"><g class=\"legendfill\"/><g class=\"legendlines\"/><g class=\"legendsymbols\"><g class=\"legendpoints\"><path class=\"legendundefined\" d=\"M6,6H-6V-6H6Z\" transform=\"translate(20,0)\" style=\"stroke-width: 0.5px; fill: rgb(99, 110, 250); fill-opacity: 1; stroke: rgb(255, 255, 255); stroke-opacity: 1;\"/></g></g></g><rect class=\"legendtoggle\" x=\"0\" y=\"-9.5\" width=\"107.03125\" height=\"19\" style=\"fill: rgb(0, 0, 0); fill-opacity: 0;\"/></g></g><g class=\"groups\" transform=\"\"><g class=\"traces\" transform=\"translate(0,51.7)\" style=\"opacity: 1;\"><text class=\"legendtext\" text-anchor=\"start\" x=\"40\" y=\"4.680000000000001\" style=\"font-family: 'Open Sans', verdana, arial, sans-serif; font-size: 12px; fill: rgb(42, 63, 95); fill-opacity: 1; white-space: pre;\">one cluster</text><g class=\"layers\" style=\"opacity: 1;\"><g class=\"legendfill\"/><g class=\"legendlines\"/><g class=\"legendsymbols\"><g class=\"legendpoints\"><path class=\"legendundefined\" d=\"M6,6H-6V-6H6Z\" transform=\"translate(20,0)\" style=\"stroke-width: 0.5px; fill: rgb(239, 85, 59); fill-opacity: 1; stroke: rgb(255, 255, 255); stroke-opacity: 1;\"/></g></g></g><rect class=\"legendtoggle\" x=\"0\" y=\"-9.5\" width=\"107.03125\" height=\"19\" style=\"fill: rgb(0, 0, 0); fill-opacity: 0;\"/></g></g></g><rect class=\"scrollbar\" rx=\"20\" ry=\"3\" width=\"0\" height=\"0\" style=\"fill: rgb(128, 139, 164); fill-opacity: 1;\" x=\"0\" y=\"0\"/></g><g class=\"g-gtitle\"/><g class=\"g-xtitle\"><text class=\"xtitle\" x=\"198.825\" y=\"487.5861328125\" text-anchor=\"middle\" style=\"font-family: 'Open Sans', verdana, arial, sans-serif; font-size: 14px; fill: rgb(42, 63, 95); opacity: 1; font-weight: normal; white-space: pre;\">metric</text></g><g class=\"g-x3title\"/><g class=\"g-x4title\"/><g class=\"g-x5title\"/><g class=\"g-x6title\"/><g class=\"g-ytitle\"><text class=\"ytitle\" transform=\"rotate(-90,35.10625,346.12666666666667)\" x=\"35.10625\" y=\"346.12666666666667\" text-anchor=\"middle\" style=\"font-family: 'Open Sans', verdana, arial, sans-serif; font-size: 14px; fill: rgb(42, 63, 95); opacity: 1; font-weight: normal; white-space: pre;\">value</text></g><g class=\"g-y3title\"><text class=\"y3title\" transform=\"rotate(-90,35.10625,227)\" x=\"35.10625\" y=\"227\" text-anchor=\"middle\" style=\"font-family: 'Open Sans', verdana, arial, sans-serif; font-size: 14px; fill: rgb(42, 63, 95); opacity: 1; font-weight: normal; white-space: pre;\">value</text></g><g class=\"g-y4title\"/><g class=\"g-y5title\"><text class=\"y5title\" transform=\"rotate(-90,35.10625,107.87333333333336)\" x=\"35.10625\" y=\"107.87333333333336\" text-anchor=\"middle\" style=\"font-family: 'Open Sans', verdana, arial, sans-serif; font-size: 14px; fill: rgb(42, 63, 95); opacity: 1; font-weight: normal; white-space: pre;\">value</text></g><g class=\"g-y6title\"/><g class=\"annotation\" data-index=\"0\" style=\"opacity: 1;\"><g class=\"annotation-text-g\" transform=\"rotate(0,198.825,289.25333333333333)\"><g class=\"cursor-pointer\" transform=\"translate(111,280)\"><rect class=\"bg\" x=\"0.5\" y=\"0.5\" width=\"174\" height=\"17\" style=\"stroke-width: 1px; stroke: rgb(0, 0, 0); stroke-opacity: 0; fill: rgb(0, 0, 0); fill-opacity: 0;\"/><text class=\"annotation-text\" text-anchor=\"middle\" x=\"87.546875\" y=\"13\" style=\"font-family: 'Open Sans', verdana, arial, sans-serif; font-size: 12px; fill: rgb(42, 63, 95); fill-opacity: 1; white-space: pre;\">benchmark=ens-benchmark</text></g></g></g><g class=\"annotation\" data-index=\"1\" style=\"opacity: 1;\"><g class=\"annotation-text-g\" transform=\"rotate(0,198.825,170.12666666666667)\"><g class=\"cursor-pointer\" transform=\"translate(115,161)\"><rect class=\"bg\" x=\"0.5\" y=\"0.5\" width=\"167\" height=\"17\" style=\"stroke-width: 1px; stroke: rgb(0, 0, 0); stroke-opacity: 0; fill: rgb(0, 0, 0); fill-opacity: 0;\"/><text class=\"annotation-text\" text-anchor=\"middle\" x=\"83.9375\" y=\"13\" style=\"font-family: 'Open Sans', verdana, arial, sans-serif; font-size: 12px; fill: rgb(42, 63, 95); fill-opacity: 1; white-space: pre;\">benchmark=lai-benchmark</text></g></g></g><g class=\"annotation\" data-index=\"2\" style=\"opacity: 1;\"><g class=\"annotation-text-g\" transform=\"rotate(0,446.175,170.12666666666667)\"><g class=\"cursor-pointer\" transform=\"translate(361,161)\"><rect class=\"bg\" x=\"0.5\" y=\"0.5\" width=\"170\" height=\"17\" style=\"stroke-width: 1px; stroke: rgb(0, 0, 0); stroke-opacity: 0; fill: rgb(0, 0, 0); fill-opacity: 0;\"/><text class=\"annotation-text\" text-anchor=\"middle\" x=\"85.40625\" y=\"13\" style=\"font-family: 'Open Sans', verdana, arial, sans-serif; font-size: 12px; fill: rgb(42, 63, 95); fill-opacity: 1; white-space: pre;\">benchmark=als-benchmark</text></g></g></g><g class=\"annotation\" data-index=\"3\" style=\"opacity: 1;\"><g class=\"annotation-text-g\" transform=\"rotate(0,198.825,51.00000000000003)\"><g class=\"cursor-pointer\" transform=\"translate(91,42)\"><rect class=\"bg\" x=\"0.5\" y=\"0.5\" width=\"215\" height=\"17\" style=\"stroke-width: 1px; stroke: rgb(0, 0, 0); stroke-opacity: 0; fill: rgb(0, 0, 0); fill-opacity: 0;\"/><text class=\"annotation-text\" text-anchor=\"middle\" x=\"107.828125\" y=\"13\" style=\"font-family: 'Open Sans', verdana, arial, sans-serif; font-size: 12px; fill: rgb(42, 63, 95); fill-opacity: 1; white-space: pre;\">benchmark=patentsview-inventors</text></g></g></g><g class=\"annotation\" data-index=\"4\" style=\"opacity: 1;\"><g class=\"annotation-text-g\" transform=\"rotate(0,446.175,51.00000000000003)\"><g class=\"cursor-pointer\" transform=\"translate(357,42)\"><rect class=\"bg\" x=\"0.5\" y=\"0.5\" width=\"177\" height=\"17\" style=\"stroke-width: 1px; stroke: rgb(0, 0, 0); stroke-opacity: 0; fill: rgb(0, 0, 0); fill-opacity: 0;\"/><text class=\"annotation-text\" text-anchor=\"middle\" x=\"89.15625\" y=\"13\" style=\"font-family: 'Open Sans', verdana, arial, sans-serif; font-size: 12px; fill: rgb(42, 63, 95); fill-opacity: 1; white-space: pre;\">benchmark=israeli-inventors</text></g></g></g></g></svg>"
     },
     "metadata": {},
     "output_type": "display_data"
    }
   ],
   "source": [
    "inventor_benchmark_plot(disambiguations).show('svg')"
   ]
  },
  {
   "cell_type": "markdown",
   "metadata": {},
   "source": [
    "Next, we can look at the tables showcasing two types of errors: predicted clusters which should have been **split**, and predicted cluster which should have been **merged**."
   ]
  },
  {
   "cell_type": "code",
   "execution_count": null,
   "metadata": {},
   "outputs": [
    {
     "data": {
      "text/html": [
       "<style type=\"text/css\">\n",
       "#T_8d9cd_row0_col0, #T_8d9cd_row0_col1, #T_8d9cd_row1_col0, #T_8d9cd_row1_col1, #T_8d9cd_row9_col0, #T_8d9cd_row9_col1, #T_8d9cd_row10_col0, #T_8d9cd_row10_col1 {\n",
       "  background-color: white;\n",
       "}\n",
       "#T_8d9cd_row2_col0, #T_8d9cd_row2_col1, #T_8d9cd_row3_col0, #T_8d9cd_row3_col1, #T_8d9cd_row4_col0, #T_8d9cd_row4_col1, #T_8d9cd_row5_col0, #T_8d9cd_row5_col1, #T_8d9cd_row6_col0, #T_8d9cd_row6_col1, #T_8d9cd_row7_col0, #T_8d9cd_row7_col1, #T_8d9cd_row8_col0, #T_8d9cd_row8_col1, #T_8d9cd_row11_col0, #T_8d9cd_row11_col1, #T_8d9cd_row12_col0, #T_8d9cd_row12_col1, #T_8d9cd_row13_col0, #T_8d9cd_row13_col1, #T_8d9cd_row14_col0, #T_8d9cd_row14_col1 {\n",
       "  background-color: #c5dcf5;\n",
       "}\n",
       "</style>\n",
       "<table id=\"T_8d9cd_\">\n",
       "  <thead>\n",
       "    <tr>\n",
       "      <th class=\"blank level0\" >&nbsp;</th>\n",
       "      <th class=\"col_heading level0 col0\" >prediction</th>\n",
       "      <th class=\"col_heading level0 col1\" >reference</th>\n",
       "    </tr>\n",
       "    <tr>\n",
       "      <th class=\"index_name level0\" >mention_id</th>\n",
       "      <th class=\"blank col0\" >&nbsp;</th>\n",
       "      <th class=\"blank col1\" >&nbsp;</th>\n",
       "    </tr>\n",
       "  </thead>\n",
       "  <tbody>\n",
       "    <tr>\n",
       "      <th id=\"T_8d9cd_level0_row0\" class=\"row_heading level0 row0\" >US4647259-3</th>\n",
       "      <td id=\"T_8d9cd_row0_col0\" class=\"data row0 col0\" >fl:ab_ln:amiel-1</td>\n",
       "      <td id=\"T_8d9cd_row0_col1\" class=\"data row0 col1\" >472</td>\n",
       "    </tr>\n",
       "    <tr>\n",
       "      <th id=\"T_8d9cd_level0_row1\" class=\"row_heading level0 row1\" >US4437263-1</th>\n",
       "      <td id=\"T_8d9cd_row1_col0\" class=\"data row1 col0\" >fl:ab_ln:amiel-1</td>\n",
       "      <td id=\"T_8d9cd_row1_col1\" class=\"data row1 col1\" >470</td>\n",
       "    </tr>\n",
       "    <tr>\n",
       "      <th id=\"T_8d9cd_level0_row2\" class=\"row_heading level0 row2\" >US5706062-0</th>\n",
       "      <td id=\"T_8d9cd_row2_col0\" class=\"data row2 col0\" >fl:ad_ln:stolov-1</td>\n",
       "      <td id=\"T_8d9cd_row2_col1\" class=\"data row2 col1\" >16528</td>\n",
       "    </tr>\n",
       "    <tr>\n",
       "      <th id=\"T_8d9cd_level0_row3\" class=\"row_heading level0 row3\" >US4927240-1</th>\n",
       "      <td id=\"T_8d9cd_row3_col0\" class=\"data row3 col0\" >fl:ad_ln:stolov-1</td>\n",
       "      <td id=\"T_8d9cd_row3_col1\" class=\"data row3 col1\" >16522</td>\n",
       "    </tr>\n",
       "    <tr>\n",
       "      <th id=\"T_8d9cd_level0_row4\" class=\"row_heading level0 row4\" >US4580876-1</th>\n",
       "      <td id=\"T_8d9cd_row4_col0\" class=\"data row4 col0\" >fl:ad_ln:stolov-1</td>\n",
       "      <td id=\"T_8d9cd_row4_col1\" class=\"data row4 col1\" >16522</td>\n",
       "    </tr>\n",
       "    <tr>\n",
       "      <th id=\"T_8d9cd_level0_row5\" class=\"row_heading level0 row5\" >US4560241-1</th>\n",
       "      <td id=\"T_8d9cd_row5_col0\" class=\"data row5 col0\" >fl:ad_ln:stolov-1</td>\n",
       "      <td id=\"T_8d9cd_row5_col1\" class=\"data row5 col1\" >16522</td>\n",
       "    </tr>\n",
       "    <tr>\n",
       "      <th id=\"T_8d9cd_level0_row6\" class=\"row_heading level0 row6\" >US4696347-2</th>\n",
       "      <td id=\"T_8d9cd_row6_col0\" class=\"data row6 col0\" >fl:ad_ln:stolov-1</td>\n",
       "      <td id=\"T_8d9cd_row6_col1\" class=\"data row6 col1\" >16522</td>\n",
       "    </tr>\n",
       "    <tr>\n",
       "      <th id=\"T_8d9cd_level0_row7\" class=\"row_heading level0 row7\" >US5617152-0</th>\n",
       "      <td id=\"T_8d9cd_row7_col0\" class=\"data row7 col0\" >fl:ad_ln:stolov-1</td>\n",
       "      <td id=\"T_8d9cd_row7_col1\" class=\"data row7 col1\" >16522</td>\n",
       "    </tr>\n",
       "    <tr>\n",
       "      <th id=\"T_8d9cd_level0_row8\" class=\"row_heading level0 row8\" >US4410887-1</th>\n",
       "      <td id=\"T_8d9cd_row8_col0\" class=\"data row8 col0\" >fl:ad_ln:stolov-1</td>\n",
       "      <td id=\"T_8d9cd_row8_col1\" class=\"data row8 col1\" >16522</td>\n",
       "    </tr>\n",
       "    <tr>\n",
       "      <th id=\"T_8d9cd_level0_row9\" class=\"row_heading level0 row9\" >US4378342-2</th>\n",
       "      <td id=\"T_8d9cd_row9_col0\" class=\"data row9 col0\" >fl:am_ln:alexandron-1</td>\n",
       "      <td id=\"T_8d9cd_row9_col1\" class=\"data row9 col1\" >307</td>\n",
       "    </tr>\n",
       "    <tr>\n",
       "      <th id=\"T_8d9cd_level0_row10\" class=\"row_heading level0 row10\" >US4364914-2</th>\n",
       "      <td id=\"T_8d9cd_row10_col0\" class=\"data row10 col0\" >fl:am_ln:alexandron-1</td>\n",
       "      <td id=\"T_8d9cd_row10_col1\" class=\"data row10 col1\" >306</td>\n",
       "    </tr>\n",
       "    <tr>\n",
       "      <th id=\"T_8d9cd_level0_row11\" class=\"row_heading level0 row11\" >US5636797-0</th>\n",
       "      <td id=\"T_8d9cd_row11_col0\" class=\"data row11 col0\" >fl:am_ln:cohen-12</td>\n",
       "      <td id=\"T_8d9cd_row11_col1\" class=\"data row11 col1\" >2910</td>\n",
       "    </tr>\n",
       "    <tr>\n",
       "      <th id=\"T_8d9cd_level0_row12\" class=\"row_heading level0 row12\" >US4886211-0</th>\n",
       "      <td id=\"T_8d9cd_row12_col0\" class=\"data row12 col0\" >fl:am_ln:cohen-12</td>\n",
       "      <td id=\"T_8d9cd_row12_col1\" class=\"data row12 col1\" >2910</td>\n",
       "    </tr>\n",
       "    <tr>\n",
       "      <th id=\"T_8d9cd_level0_row13\" class=\"row_heading level0 row13\" >US5829686-0</th>\n",
       "      <td id=\"T_8d9cd_row13_col0\" class=\"data row13 col0\" >fl:am_ln:cohen-12</td>\n",
       "      <td id=\"T_8d9cd_row13_col1\" class=\"data row13 col1\" >2910</td>\n",
       "    </tr>\n",
       "    <tr>\n",
       "      <th id=\"T_8d9cd_level0_row14\" class=\"row_heading level0 row14\" >US5634594-0</th>\n",
       "      <td id=\"T_8d9cd_row14_col0\" class=\"data row14 col0\" >fl:am_ln:cohen-12</td>\n",
       "      <td id=\"T_8d9cd_row14_col1\" class=\"data row14 col1\" >2910</td>\n",
       "    </tr>\n",
       "  </tbody>\n",
       "</table>\n"
      ],
      "text/plain": [
       "<pandas.io.formats.style.Styler at 0x7fb8b2893f50>"
      ]
     },
     "execution_count": 5,
     "metadata": {},
     "output_type": "execute_result"
    }
   ],
   "source": [
    "from pv_evaluation.benchmark import inspect_clusters_to_split, inspect_clusters_to_merge, load_israeli_inventors_benchmark, style_cluster_inspection\n",
    "\n",
    "style_cluster_inspection(inspect_clusters_to_split(result, load_israeli_inventors_benchmark()).head(15))"
   ]
  },
  {
   "cell_type": "code",
   "execution_count": null,
   "metadata": {},
   "outputs": [
    {
     "data": {
      "text/html": [
       "<div>\n",
       "<style scoped>\n",
       "    .dataframe tbody tr th:only-of-type {\n",
       "        vertical-align: middle;\n",
       "    }\n",
       "\n",
       "    .dataframe tbody tr th {\n",
       "        vertical-align: top;\n",
       "    }\n",
       "\n",
       "    .dataframe thead th {\n",
       "        text-align: right;\n",
       "    }\n",
       "</style>\n",
       "<table border=\"1\" class=\"dataframe\">\n",
       "  <thead>\n",
       "    <tr style=\"text-align: right;\">\n",
       "      <th></th>\n",
       "      <th>reference</th>\n",
       "      <th>prediction</th>\n",
       "      <th>name_first</th>\n",
       "      <th>name_last</th>\n",
       "    </tr>\n",
       "    <tr>\n",
       "      <th>mention_id</th>\n",
       "      <th></th>\n",
       "      <th></th>\n",
       "      <th></th>\n",
       "      <th></th>\n",
       "    </tr>\n",
       "  </thead>\n",
       "  <tbody>\n",
       "    <tr>\n",
       "      <th>US5825476-0</th>\n",
       "      <td>13</td>\n",
       "      <td>h6uzumjdp27ulvxe69um3plwa</td>\n",
       "      <td>Marc</td>\n",
       "      <td>Abitol</td>\n",
       "    </tr>\n",
       "    <tr>\n",
       "      <th>US5784282-0</th>\n",
       "      <td>13</td>\n",
       "      <td>fl:ma_ln:abitbol-2</td>\n",
       "      <td>Marc</td>\n",
       "      <td>Abitbol</td>\n",
       "    </tr>\n",
       "    <tr>\n",
       "      <th>US5855074-0</th>\n",
       "      <td>13</td>\n",
       "      <td>fl:mo_ln:abitbol-1</td>\n",
       "      <td>Mordechai</td>\n",
       "      <td>Abitbol</td>\n",
       "    </tr>\n",
       "    <tr>\n",
       "      <th>US5688262-0</th>\n",
       "      <td>20</td>\n",
       "      <td>fl:ma_ln:abraham-26</td>\n",
       "      <td>Martin David</td>\n",
       "      <td>Abraham</td>\n",
       "    </tr>\n",
       "    <tr>\n",
       "      <th>US5783798-0</th>\n",
       "      <td>20</td>\n",
       "      <td>fl:ma_ln:abraham-26</td>\n",
       "      <td>Martin</td>\n",
       "      <td>Abraham</td>\n",
       "    </tr>\n",
       "    <tr>\n",
       "      <th>...</th>\n",
       "      <td>...</td>\n",
       "      <td>...</td>\n",
       "      <td>...</td>\n",
       "      <td>...</td>\n",
       "    </tr>\n",
       "    <tr>\n",
       "      <th>US5288705-0</th>\n",
       "      <td>18670</td>\n",
       "      <td>fl:jo_ln:zohar-2</td>\n",
       "      <td>Jonathan</td>\n",
       "      <td>Zohar</td>\n",
       "    </tr>\n",
       "    <tr>\n",
       "      <th>US5344434-0</th>\n",
       "      <td>19132</td>\n",
       "      <td>fl:el_ln:talmore-1</td>\n",
       "      <td>Eli T.</td>\n",
       "      <td>Talmore</td>\n",
       "    </tr>\n",
       "    <tr>\n",
       "      <th>US5344433-0</th>\n",
       "      <td>19132</td>\n",
       "      <td>fl:el_ln:talmore-1</td>\n",
       "      <td>Eli</td>\n",
       "      <td>Talmore</td>\n",
       "    </tr>\n",
       "    <tr>\n",
       "      <th>US5707401-0</th>\n",
       "      <td>19132</td>\n",
       "      <td>fl:el_ln:talmore-1</td>\n",
       "      <td>Eli T.</td>\n",
       "      <td>Talmore</td>\n",
       "    </tr>\n",
       "    <tr>\n",
       "      <th>US5851181-0</th>\n",
       "      <td>19132</td>\n",
       "      <td>fl:el_ln:talmor-1</td>\n",
       "      <td>Eli T.</td>\n",
       "      <td>Talmor</td>\n",
       "    </tr>\n",
       "  </tbody>\n",
       "</table>\n",
       "<p>1369 rows × 4 columns</p>\n",
       "</div>"
      ],
      "text/plain": [
       "             reference                 prediction    name_first name_last\n",
       "mention_id                                                               \n",
       "US5825476-0         13  h6uzumjdp27ulvxe69um3plwa          Marc    Abitol\n",
       "US5784282-0         13         fl:ma_ln:abitbol-2          Marc   Abitbol\n",
       "US5855074-0         13         fl:mo_ln:abitbol-1     Mordechai   Abitbol\n",
       "US5688262-0         20        fl:ma_ln:abraham-26  Martin David   Abraham\n",
       "US5783798-0         20        fl:ma_ln:abraham-26        Martin   Abraham\n",
       "...                ...                        ...           ...       ...\n",
       "US5288705-0      18670           fl:jo_ln:zohar-2      Jonathan     Zohar\n",
       "US5344434-0      19132         fl:el_ln:talmore-1        Eli T.   Talmore\n",
       "US5344433-0      19132         fl:el_ln:talmore-1           Eli   Talmore\n",
       "US5707401-0      19132         fl:el_ln:talmore-1        Eli T.   Talmore\n",
       "US5851181-0      19132          fl:el_ln:talmor-1        Eli T.    Talmor\n",
       "\n",
       "[1369 rows x 4 columns]"
      ]
     },
     "execution_count": 6,
     "metadata": {},
     "output_type": "execute_result"
    }
   ],
   "source": [
    "rawinventor = pd.read_csv(\"rawinventor.tsv\", sep=\"\\t\")\n",
    "rawinventor[\"mention_id\"] = \"US\" + rawinventor.patent_id.astype(str) + \"-\" + rawinventor.sequence.astype(str)\n",
    "rawinventor.set_index(\"mention_id\", inplace=True)\n",
    "\n",
    "inspect_clusters_to_merge(result, load_israeli_inventors_benchmark(), join_with=rawinventor[[\"name_first\", \"name_last\"]])"
   ]
  },
  {
   "cell_type": "markdown",
   "metadata": {},
   "source": [
    "## Estimators"
   ]
  },
  {
   "cell_type": "code",
   "execution_count": null,
   "metadata": {},
   "outputs": [],
   "source": [
    "from pv_evaluation.benchmark import inventor_estimates_table, inventor_estimates_plot"
   ]
  }
 ],
 "metadata": {
  "kernelspec": {
   "display_name": "Python 3.7.13 ('pv-evaluation': conda)",
   "language": "python",
   "name": "python3"
  },
  "language_info": {
   "codemirror_mode": {
    "name": "ipython",
    "version": 3
   },
   "file_extension": ".py",
   "mimetype": "text/x-python",
   "name": "python",
   "nbconvert_exporter": "python",
   "pygments_lexer": "ipython3",
   "version": "3.7.13"
  },
  "orig_nbformat": 4,
  "vscode": {
   "interpreter": {
    "hash": "7e26c16c28473ea7352757b0757326ab39b7332c9e3c701642e7917c32436b9e"
   }
  }
 },
 "nbformat": 4,
 "nbformat_minor": 2
}
