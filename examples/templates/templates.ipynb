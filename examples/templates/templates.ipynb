{
 "cells": [
  {
   "cell_type": "code",
   "execution_count": 1,
   "metadata": {},
   "outputs": [],
   "source": [
    "import pandas as pd\n",
    "\n",
    "import wget\n",
    "import zipfile\n",
    "import os\n",
    "\n",
    "import plotly.io as pio\n",
    "pio.templates.default = \"plotly_white\" # Set plotly theme\n",
    "\n",
    "if not os.path.isfile(\"rawinventor.parquet\"):\n",
    "    wget.download(\"https://s3.amazonaws.com/data.patentsview.org/download/rawinventor.tsv.zip\")\n",
    "    with zipfile.ZipFile(\"rawinventor.tsv.zip\", 'r') as zip_ref:\n",
    "        zip_ref.extractall(\".\")\n",
    "    os.remove(\"rawinventor.tsv.zip\")\n",
    "    rawinventor = pd.read_csv(\"rawinventor.tsv\", sep=\"\\t\")\n",
    "    rawinventor[\"mention-id\"] = \"US\" + rawinventor.patent_id.astype(str) + \"-\" + rawinventor.sequence.astype(str)\n",
    "    rawinventor.to_parquet(\"rawinventor.parquet\")\n",
    "    os.remove(\"rawinventor.tsv\")\n",
    "    del(rawinventor)"
   ]
  },
  {
   "cell_type": "code",
   "execution_count": 2,
   "metadata": {},
   "outputs": [
    {
     "name": "stderr",
     "output_type": "stream",
     "text": [
      "\n",
      "Starting python3 kernel...Done\n",
      "\n",
      "Executing 'index.ipynb'\n",
      "  Cell 1/14...Done\n",
      "  Cell 2/14...Done\n",
      "  Cell 3/14...Done\n",
      "  Cell 4/14...Done\n",
      "  Cell 5/14...Done\n",
      "  Cell 6/14...Done\n",
      "  Cell 7/14...2022-05-25 14:03:28,982 - traitlets - ERROR - Kernel died while waiting for execute reply.\n",
      "\n",
      "\n",
      "Kernel died\n"
     ]
    }
   ],
   "source": [
    "from pv_evaluation.templates import render_inventor_disambiguation_report\n",
    "\n",
    "summary_table_files = [\"rawinventor.parquet\"]\n",
    "\n",
    "render_inventor_disambiguation_report(\".\", summary_table_files=summary_table_files)"
   ]
  }
 ],
 "metadata": {
  "interpreter": {
   "hash": "f97207c432139506604244392b105fdb9240a7e9b3c1166362d476ada5e4ac07"
  },
  "kernelspec": {
   "display_name": "Python 3.7.13 ('pv-evaluation')",
   "language": "python",
   "name": "python3"
  },
  "language_info": {
   "codemirror_mode": {
    "name": "ipython",
    "version": 3
   },
   "file_extension": ".py",
   "mimetype": "text/x-python",
   "name": "python",
   "nbconvert_exporter": "python",
   "pygments_lexer": "ipython3",
   "version": "3.7.13"
  },
  "orig_nbformat": 4
 },
 "nbformat": 4,
 "nbformat_minor": 2
}
