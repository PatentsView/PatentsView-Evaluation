{
 "cells": [
  {
   "cell_type": "markdown",
   "metadata": {},
   "source": [
    "# HTML Report Template"
   ]
  },
  {
   "cell_type": "markdown",
   "metadata": {},
   "source": [
    "This document shows the use of **pv_evaluation** to automatically report on a disambiguation's performance."
   ]
  },
  {
   "cell_type": "markdown",
   "metadata": {},
   "source": [
    "## Data Preparation\n",
    "\n",
    "First, we download \"rawinventor.tsv\", which is the input of the report."
   ]
  },
  {
   "cell_type": "code",
   "execution_count": 1,
   "metadata": {},
   "outputs": [],
   "source": [
    "import pandas as pd\n",
    "import wget\n",
    "import zipfile\n",
    "import os\n",
    "\n",
    "if not os.path.isfile(\"rawinventor.tsv\"):\n",
    "    wget.download(\"https://s3.amazonaws.com/data.patentsview.org/download/rawinventor.tsv.zip\")\n",
    "    with zipfile.ZipFile(\"rawinventor.tsv.zip\", 'r') as zip_ref:\n",
    "        zip_ref.extractall(\".\")\n",
    "    os.remove(\"rawinventor.tsv.zip\")\n",
    "    rawinventor = pd.read_csv(\"rawinventor.tsv\", sep=\"\\t\")\n",
    "    rawinventor[\"mention-id\"] = \"US\" + rawinventor.patent_id.astype(str) + \"-\" + rawinventor.sequence.astype(str)\n",
    "    rawinventor.to_csv(\"rawinventor.tsv\", sep=\"\\t\")\n",
    "    del(rawinventor)"
   ]
  },
  {
   "cell_type": "markdown",
   "metadata": {},
   "source": [
    "## Rendering Report\n",
    "\n",
    "We can now generate the report using `render_inventor_disambiguation_report`. The results are saved to the current folder \".\".\n",
    "\n",
    "Note that, if we wish to compare multiple disambiguations, then we can add more files to the list `summary_table_files`. Each file in this list should be a table with the five columns \"mention-id\", \"inventor_id\", \"patent_id\", \"name_first\", and \"name_last\"."
   ]
  },
  {
   "cell_type": "code",
   "execution_count": 2,
   "metadata": {},
   "outputs": [
    {
     "name": "stderr",
     "output_type": "stream",
     "text": [
      "\n",
      "Starting python3 kernel...Done\n",
      "\n",
      "Executing 'index.ipynb'\n",
      "  Cell 1/14...Done\n",
      "  Cell 2/14...Done\n",
      "  Cell 3/14...Done\n",
      "  Cell 4/14...Done\n",
      "  Cell 5/14...Done\n",
      "  Cell 6/14...Done\n",
      "  Cell 7/14...Done\n",
      "  Cell 8/14...Done\n",
      "  Cell 9/14...Done\n",
      "  Cell 10/14...Done\n",
      "  Cell 11/14...Done\n",
      "  Cell 12/14...Done\n",
      "  Cell 13/14...\n",
      "\n",
      "An error occurred while executing the following cell:\n",
      "------------------\n",
      "style_and_display(\n",
      "    inspect_clusters_to_merge(\n",
      "        disambiguations[\"rawinventor.tsv\"], \n",
      "        load_israeli_inventors_benchmark()\n",
      "        join_with=dataframes[\"rawinventor.tsv\"]), \n",
      "        by=\"reference\")\n",
      "------------------\n",
      "\n",
      "\u001b[0;36m  File \u001b[0;32m\"/tmp/ipykernel_1755/829423903.py\"\u001b[0;36m, line \u001b[0;32m5\u001b[0m\n",
      "\u001b[0;31m    join_with=dataframes[\"rawinventor.tsv\"]),\u001b[0m\n",
      "\u001b[0m            ^\u001b[0m\n",
      "\u001b[0;31mSyntaxError\u001b[0m\u001b[0;31m:\u001b[0m invalid syntax\n",
      "\n",
      "SyntaxError: invalid syntax (829423903.py, line 5)\n",
      "\n"
     ]
    }
   ],
   "source": [
    "from pv_evaluation.templates import render_inventor_disambiguation_report\n",
    "\n",
    "summary_table_files = [\"rawinventor.tsv\"]\n",
    "\n",
    "render_inventor_disambiguation_report(\".\", summary_table_files=summary_table_files)"
   ]
  }
 ],
 "metadata": {
  "interpreter": {
   "hash": "135eb778a123b23717215bebe642ebc480e0ab0e1bc583cf4971f84281f0b229"
  },
  "kernelspec": {
   "display_name": "Python 3.7.13 ('pv-evaluation': conda)",
   "language": "python",
   "name": "python3"
  },
  "language_info": {
   "codemirror_mode": {
    "name": "ipython",
    "version": 3
   },
   "file_extension": ".py",
   "mimetype": "text/x-python",
   "name": "python",
   "nbconvert_exporter": "python",
   "pygments_lexer": "ipython3",
   "version": "3.7.13"
  },
  "orig_nbformat": 4
 },
 "nbformat": 4,
 "nbformat_minor": 2
}
