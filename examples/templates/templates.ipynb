{
 "cells": [
  {
   "cell_type": "code",
   "execution_count": 1,
   "metadata": {},
   "outputs": [],
   "source": [
    "import pandas as pd\n",
    "\n",
    "import wget\n",
    "import zipfile\n",
    "import os\n",
    "\n",
    "import plotly.io as pio\n",
    "pio.templates.default = \"plotly_white\" # Set plotly theme\n",
    "\n",
    "if not os.path.isfile(\"rawinventor.tsv\"):\n",
    "    wget.download(\"https://s3.amazonaws.com/data.patentsview.org/download/rawinventor.tsv.zip\")\n",
    "    with zipfile.ZipFile(\"rawinventor.tsv.zip\", 'r') as zip_ref:\n",
    "        zip_ref.extractall(\".\")\n",
    "    os.remove(\"rawinventor.tsv.zip\")\n",
    "    rawinventor = pd.read_csv(\"rawinventor.tsv\", sep=\"\\t\")\n",
    "    rawinventor[\"mention-id\"] = \"US\" + rawinventor.patent_id.astype(str) + \"-\" + rawinventor.sequence.astype(str)\n",
    "    rawinventor.to_csv(\"rawinventor.tsv\", sep=\"\\t\")\n",
    "    del(rawinventor)"
   ]
  },
  {
   "cell_type": "code",
   "execution_count": 2,
   "metadata": {},
   "outputs": [
    {
     "name": "stderr",
     "output_type": "stream",
     "text": [
      "\n",
      "Starting python3 kernel...(Notebook read from cache)\n",
      "\n",
      "\u001b[1mpandoc --output index.html\u001b[22m\n",
      "  to: html\n",
      "  standalone: true\n",
      "  self-contained: true\n",
      "  section-divs: true\n",
      "  html-math-method: mathjax\n",
      "  wrap: none\n",
      "  default-image-extension: png\n",
      "  toc: true\n",
      "  toc-depth: 3\n",
      "  filters:\n",
      "    - crossref\n",
      "  \n",
      "\u001b[1mmetadata\u001b[22m\n",
      "  document-css: false\n",
      "  link-citations: true\n",
      "  date-format: long\n",
      "  lang: en\n",
      "  title: Inventor Disambiguation Report\n",
      "  date: today\n",
      "  author: PatentsView-Evaluation\n",
      "  toc-location: left\n",
      "  jupyter: python3\n",
      "  theme: cosmo\n",
      "  fig-cap-location: margin\n",
      "  code-block-border-left: '#31BAE9'\n",
      "  code-copy: true\n",
      "  \n",
      "Output created: index.html\n",
      "\n"
     ]
    }
   ],
   "source": [
    "from pv_evaluation.templates import render_inventor_disambiguation_report\n",
    "\n",
    "summary_table_files = [\"rawinventor.tsv\"]\n",
    "\n",
    "render_inventor_disambiguation_report(\".\", summary_table_files=summary_table_files)"
   ]
  }
 ],
 "metadata": {
  "interpreter": {
   "hash": "135eb778a123b23717215bebe642ebc480e0ab0e1bc583cf4971f84281f0b229"
  },
  "kernelspec": {
   "display_name": "Python 3.7.13 ('pv-evaluation': conda)",
   "language": "python",
   "name": "python3"
  },
  "language_info": {
   "codemirror_mode": {
    "name": "ipython",
    "version": 3
   },
   "file_extension": ".py",
   "mimetype": "text/x-python",
   "name": "python",
   "nbconvert_exporter": "python",
   "pygments_lexer": "ipython3",
   "version": "3.7.13"
  },
  "orig_nbformat": 4
 },
 "nbformat": 4,
 "nbformat_minor": 2
}
